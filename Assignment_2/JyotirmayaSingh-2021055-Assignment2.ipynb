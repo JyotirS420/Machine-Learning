{
  "nbformat": 4,
  "nbformat_minor": 0,
  "metadata": {
    "colab": {
      "provenance": [],
      "toc_visible": true
    },
    "kernelspec": {
      "name": "python3",
      "display_name": "Python 3"
    },
    "language_info": {
      "name": "python"
    }
  },
  "cells": [
    {
      "cell_type": "markdown",
      "source": [
        "# **Loading the Dataset**"
      ],
      "metadata": {
        "id": "IzVPrWDvbqJQ"
      }
    },
    {
      "cell_type": "code",
      "source": [
        "# ! pip install kaggle"
      ],
      "metadata": {
        "id": "OXXG7-qwb2RI"
      },
      "execution_count": null,
      "outputs": []
    },
    {
      "cell_type": "code",
      "source": [
        "from google.colab import drive\n",
        "drive.mount('/content/drive')"
      ],
      "metadata": {
        "colab": {
          "base_uri": "https://localhost:8080/"
        },
        "id": "fVtY_qdHb2T8",
        "outputId": "9aa99169-14cb-4ff8-c6bd-3a8248ef391e"
      },
      "execution_count": null,
      "outputs": [
        {
          "output_type": "stream",
          "name": "stdout",
          "text": [
            "Mounted at /content/drive\n"
          ]
        }
      ]
    },
    {
      "cell_type": "code",
      "source": [
        "# making a directory for kaggle at the temporary instance location on Colab drive\n",
        "! mkdir ~/.kaggle\n",
        "\n",
        "\n",
        "#/content/drive/MyDrive/KaggleStuff/kaggle.json"
      ],
      "metadata": {
        "id": "2NMc9qg1b2Wm"
      },
      "execution_count": null,
      "outputs": []
    },
    {
      "cell_type": "code",
      "source": [
        "# Uploading the json file to Google Drive and then copying to the temporary location\n",
        "\n",
        "!cp /content/drive/MyDrive/KaggleStuff/kaggle.json ~/.kaggle"
      ],
      "metadata": {
        "id": "rbj0Zw6Yb2ZW"
      },
      "execution_count": null,
      "outputs": []
    },
    {
      "cell_type": "code",
      "source": [
        "#Change the file permissions to read/write to the owner only\n",
        "\n",
        "! chmod 600 ~/.kaggle/kaggle.json"
      ],
      "metadata": {
        "id": "cgYIF6LRb2b9"
      },
      "execution_count": null,
      "outputs": []
    },
    {
      "cell_type": "code",
      "source": [
        "! kaggle datasets download kumarvishal88/ml-assignment-2-dataset"
      ],
      "metadata": {
        "colab": {
          "base_uri": "https://localhost:8080/"
        },
        "id": "Rk8bqFpUb2es",
        "outputId": "40fe2a47-81b8-4e5f-c39e-40fe4ef471eb"
      },
      "execution_count": null,
      "outputs": [
        {
          "output_type": "stream",
          "name": "stdout",
          "text": [
            "Downloading ml-assignment-2-dataset.zip to /content\n",
            "100% 567k/567k [00:00<00:00, 925kB/s]\n",
            "100% 567k/567k [00:00<00:00, 925kB/s]\n"
          ]
        }
      ]
    },
    {
      "cell_type": "markdown",
      "source": [
        "# **Import**"
      ],
      "metadata": {
        "id": "sU1N80-Hb2hN"
      }
    },
    {
      "cell_type": "code",
      "source": [
        "import math\n",
        "import numpy as np\n",
        "from matplotlib import pyplot as plt\n",
        "import os\n",
        "import zipfile\n",
        "import pandas as pd"
      ],
      "metadata": {
        "id": "QUExCKfgb2j9"
      },
      "execution_count": null,
      "outputs": []
    },
    {
      "cell_type": "code",
      "source": [
        "# for dirname, _, filenames in os.walk('/content/KaggleStuff'):\n",
        "#   for filename in filenames:\n",
        "#     print(os.path.join(dirname,filename))"
      ],
      "metadata": {
        "id": "qs0jNzJLb2md"
      },
      "execution_count": null,
      "outputs": []
    },
    {
      "cell_type": "code",
      "source": [
        "# Extracting all data files\n",
        "with zipfile.ZipFile(\"/content/ml-assignment-2-dataset.zip\",\"r\") as z:\n",
        "  z.extractall(\".\")"
      ],
      "metadata": {
        "id": "fqXTgDUrb2o-"
      },
      "execution_count": null,
      "outputs": []
    },
    {
      "cell_type": "code",
      "source": [
        "# Loading the csv data\n",
        "airplane_data = pd.read_csv(\"/content/Airplane.csv\")\n",
        "salary_data = pd.read_csv(\"/content/Salary.csv\")"
      ],
      "metadata": {
        "id": "OYlbPBI3b2ul"
      },
      "execution_count": null,
      "outputs": []
    },
    {
      "cell_type": "markdown",
      "source": [
        "# Viewing the Dataset"
      ],
      "metadata": {
        "id": "AVK7PW6hb2rl"
      }
    },
    {
      "cell_type": "code",
      "source": [
        "# Visualizing the first few entries of airplane data\n",
        "airplane_data"
      ],
      "metadata": {
        "colab": {
          "base_uri": "https://localhost:8080/",
          "height": 892
        },
        "id": "zVrVTZlkb2w1",
        "outputId": "6f96be35-3707-4e51-975b-d71762ffc5e9"
      },
      "execution_count": null,
      "outputs": [
        {
          "output_type": "execute_result",
          "data": {
            "text/plain": [
              "            Date   Time                                           Location  \\\n",
              "0     09/17/1908  17:18                                Fort Myer, Virginia   \n",
              "1     07/12/1912  06:30                            AtlantiCity, New Jersey   \n",
              "2     08/06/1913    NaN                 Victoria, British Columbia, Canada   \n",
              "3     09/09/1913  18:30                                 Over the North Sea   \n",
              "4     10/17/1913  10:30                         Near Johannisthal, Germany   \n",
              "...          ...    ...                                                ...   \n",
              "5263  05/20/2009  06:30                             Near Madiun, Indonesia   \n",
              "5264  05/26/2009    NaN                  Near Isiro, DemocratiRepubliCongo   \n",
              "5265  06/01/2009  00:15  AtlantiOcean, 570 miles northeast of Natal, Br...   \n",
              "5266  06/07/2009  08:30       Near Port Hope Simpson, Newfoundland, Canada   \n",
              "5267  06/08/2009    NaN                  State of Arunachal Pradesh, India   \n",
              "\n",
              "                             Operator Flight #  \\\n",
              "0                Military - U.S. Army      NaN   \n",
              "1                Military - U.S. Navy      NaN   \n",
              "2                             Private        -   \n",
              "3              Military - German Navy      NaN   \n",
              "4              Military - German Navy      NaN   \n",
              "...                               ...      ...   \n",
              "5263  Military - Indonesian Air Force      NaN   \n",
              "5264                      Service Air      NaN   \n",
              "5265                       Air France      447   \n",
              "5266                       Strait Air      NaN   \n",
              "5267      Military - Indian Air Force      NaN   \n",
              "\n",
              "                                          Route  \\\n",
              "0                                 Demonstration   \n",
              "1                                   Test flight   \n",
              "2                                           NaN   \n",
              "3                                           NaN   \n",
              "4                                           NaN   \n",
              "...                                         ...   \n",
              "5263                           Jakarta - Maduin   \n",
              "5264                               Goma - Isiro   \n",
              "5265                     Rio de Janeiro - Paris   \n",
              "5266  Lourdes de BlanSablon - Port Hope Simpson   \n",
              "5267                         Mechuka for Jorhat   \n",
              "\n",
              "                                  Type Registration cn/In  Aboard  Fatalities  \\\n",
              "0                     Wright Flyer III          NaN     1     2.0         1.0   \n",
              "1                            Dirigible          NaN   NaN     5.0         5.0   \n",
              "2                     Curtiss seaplane          NaN   NaN     1.0         1.0   \n",
              "3               Zeppelin L-1 (airship)          NaN   NaN    20.0        14.0   \n",
              "4               Zeppelin L-2 (airship)          NaN   NaN    30.0        30.0   \n",
              "...                                ...          ...   ...     ...         ...   \n",
              "5263           Lockheed C-130 Hercules       A-1325  1982   112.0        98.0   \n",
              "5264                     Antonov An-26       9Q-CSA  5005     4.0         4.0   \n",
              "5265                   Airbus A330-203       F-GZCP   660   228.0       228.0   \n",
              "5266  Britten-Norman BN-2A-27 Islander      C-FJJR    424     1.0         1.0   \n",
              "5267                     Antonov An-32          NaN   NaN    13.0        13.0   \n",
              "\n",
              "      Ground                                            Summary  \n",
              "0        0.0  During a demonstration flight, a U.S. Army fly...  \n",
              "1        0.0  First U.S. dirigible Akron exploded just offsh...  \n",
              "2        0.0  The first fatal airplane accident in Canada oc...  \n",
              "3        0.0  The airship flew into a thunderstorm and encou...  \n",
              "4        0.0  Hydrogen gas which was being vented was sucked...  \n",
              "...      ...                                                ...  \n",
              "5263     2.0  While on approach, the military transport cras...  \n",
              "5264     NaN  The cargo plane crashed while on approach to I...  \n",
              "5265     0.0  The Airbus went missing over the AtlantiOcean ...  \n",
              "5266     0.0  The air ambulance crashed into hills while att...  \n",
              "5267     0.0  The military transport went missing while en r...  \n",
              "\n",
              "[5268 rows x 13 columns]"
            ],
            "text/html": [
              "\n",
              "  <div id=\"df-407154aa-659e-4153-93de-2a4c67cc6e13\" class=\"colab-df-container\">\n",
              "    <div>\n",
              "<style scoped>\n",
              "    .dataframe tbody tr th:only-of-type {\n",
              "        vertical-align: middle;\n",
              "    }\n",
              "\n",
              "    .dataframe tbody tr th {\n",
              "        vertical-align: top;\n",
              "    }\n",
              "\n",
              "    .dataframe thead th {\n",
              "        text-align: right;\n",
              "    }\n",
              "</style>\n",
              "<table border=\"1\" class=\"dataframe\">\n",
              "  <thead>\n",
              "    <tr style=\"text-align: right;\">\n",
              "      <th></th>\n",
              "      <th>Date</th>\n",
              "      <th>Time</th>\n",
              "      <th>Location</th>\n",
              "      <th>Operator</th>\n",
              "      <th>Flight #</th>\n",
              "      <th>Route</th>\n",
              "      <th>Type</th>\n",
              "      <th>Registration</th>\n",
              "      <th>cn/In</th>\n",
              "      <th>Aboard</th>\n",
              "      <th>Fatalities</th>\n",
              "      <th>Ground</th>\n",
              "      <th>Summary</th>\n",
              "    </tr>\n",
              "  </thead>\n",
              "  <tbody>\n",
              "    <tr>\n",
              "      <th>0</th>\n",
              "      <td>09/17/1908</td>\n",
              "      <td>17:18</td>\n",
              "      <td>Fort Myer, Virginia</td>\n",
              "      <td>Military - U.S. Army</td>\n",
              "      <td>NaN</td>\n",
              "      <td>Demonstration</td>\n",
              "      <td>Wright Flyer III</td>\n",
              "      <td>NaN</td>\n",
              "      <td>1</td>\n",
              "      <td>2.0</td>\n",
              "      <td>1.0</td>\n",
              "      <td>0.0</td>\n",
              "      <td>During a demonstration flight, a U.S. Army fly...</td>\n",
              "    </tr>\n",
              "    <tr>\n",
              "      <th>1</th>\n",
              "      <td>07/12/1912</td>\n",
              "      <td>06:30</td>\n",
              "      <td>AtlantiCity, New Jersey</td>\n",
              "      <td>Military - U.S. Navy</td>\n",
              "      <td>NaN</td>\n",
              "      <td>Test flight</td>\n",
              "      <td>Dirigible</td>\n",
              "      <td>NaN</td>\n",
              "      <td>NaN</td>\n",
              "      <td>5.0</td>\n",
              "      <td>5.0</td>\n",
              "      <td>0.0</td>\n",
              "      <td>First U.S. dirigible Akron exploded just offsh...</td>\n",
              "    </tr>\n",
              "    <tr>\n",
              "      <th>2</th>\n",
              "      <td>08/06/1913</td>\n",
              "      <td>NaN</td>\n",
              "      <td>Victoria, British Columbia, Canada</td>\n",
              "      <td>Private</td>\n",
              "      <td>-</td>\n",
              "      <td>NaN</td>\n",
              "      <td>Curtiss seaplane</td>\n",
              "      <td>NaN</td>\n",
              "      <td>NaN</td>\n",
              "      <td>1.0</td>\n",
              "      <td>1.0</td>\n",
              "      <td>0.0</td>\n",
              "      <td>The first fatal airplane accident in Canada oc...</td>\n",
              "    </tr>\n",
              "    <tr>\n",
              "      <th>3</th>\n",
              "      <td>09/09/1913</td>\n",
              "      <td>18:30</td>\n",
              "      <td>Over the North Sea</td>\n",
              "      <td>Military - German Navy</td>\n",
              "      <td>NaN</td>\n",
              "      <td>NaN</td>\n",
              "      <td>Zeppelin L-1 (airship)</td>\n",
              "      <td>NaN</td>\n",
              "      <td>NaN</td>\n",
              "      <td>20.0</td>\n",
              "      <td>14.0</td>\n",
              "      <td>0.0</td>\n",
              "      <td>The airship flew into a thunderstorm and encou...</td>\n",
              "    </tr>\n",
              "    <tr>\n",
              "      <th>4</th>\n",
              "      <td>10/17/1913</td>\n",
              "      <td>10:30</td>\n",
              "      <td>Near Johannisthal, Germany</td>\n",
              "      <td>Military - German Navy</td>\n",
              "      <td>NaN</td>\n",
              "      <td>NaN</td>\n",
              "      <td>Zeppelin L-2 (airship)</td>\n",
              "      <td>NaN</td>\n",
              "      <td>NaN</td>\n",
              "      <td>30.0</td>\n",
              "      <td>30.0</td>\n",
              "      <td>0.0</td>\n",
              "      <td>Hydrogen gas which was being vented was sucked...</td>\n",
              "    </tr>\n",
              "    <tr>\n",
              "      <th>...</th>\n",
              "      <td>...</td>\n",
              "      <td>...</td>\n",
              "      <td>...</td>\n",
              "      <td>...</td>\n",
              "      <td>...</td>\n",
              "      <td>...</td>\n",
              "      <td>...</td>\n",
              "      <td>...</td>\n",
              "      <td>...</td>\n",
              "      <td>...</td>\n",
              "      <td>...</td>\n",
              "      <td>...</td>\n",
              "      <td>...</td>\n",
              "    </tr>\n",
              "    <tr>\n",
              "      <th>5263</th>\n",
              "      <td>05/20/2009</td>\n",
              "      <td>06:30</td>\n",
              "      <td>Near Madiun, Indonesia</td>\n",
              "      <td>Military - Indonesian Air Force</td>\n",
              "      <td>NaN</td>\n",
              "      <td>Jakarta - Maduin</td>\n",
              "      <td>Lockheed C-130 Hercules</td>\n",
              "      <td>A-1325</td>\n",
              "      <td>1982</td>\n",
              "      <td>112.0</td>\n",
              "      <td>98.0</td>\n",
              "      <td>2.0</td>\n",
              "      <td>While on approach, the military transport cras...</td>\n",
              "    </tr>\n",
              "    <tr>\n",
              "      <th>5264</th>\n",
              "      <td>05/26/2009</td>\n",
              "      <td>NaN</td>\n",
              "      <td>Near Isiro, DemocratiRepubliCongo</td>\n",
              "      <td>Service Air</td>\n",
              "      <td>NaN</td>\n",
              "      <td>Goma - Isiro</td>\n",
              "      <td>Antonov An-26</td>\n",
              "      <td>9Q-CSA</td>\n",
              "      <td>5005</td>\n",
              "      <td>4.0</td>\n",
              "      <td>4.0</td>\n",
              "      <td>NaN</td>\n",
              "      <td>The cargo plane crashed while on approach to I...</td>\n",
              "    </tr>\n",
              "    <tr>\n",
              "      <th>5265</th>\n",
              "      <td>06/01/2009</td>\n",
              "      <td>00:15</td>\n",
              "      <td>AtlantiOcean, 570 miles northeast of Natal, Br...</td>\n",
              "      <td>Air France</td>\n",
              "      <td>447</td>\n",
              "      <td>Rio de Janeiro - Paris</td>\n",
              "      <td>Airbus A330-203</td>\n",
              "      <td>F-GZCP</td>\n",
              "      <td>660</td>\n",
              "      <td>228.0</td>\n",
              "      <td>228.0</td>\n",
              "      <td>0.0</td>\n",
              "      <td>The Airbus went missing over the AtlantiOcean ...</td>\n",
              "    </tr>\n",
              "    <tr>\n",
              "      <th>5266</th>\n",
              "      <td>06/07/2009</td>\n",
              "      <td>08:30</td>\n",
              "      <td>Near Port Hope Simpson, Newfoundland, Canada</td>\n",
              "      <td>Strait Air</td>\n",
              "      <td>NaN</td>\n",
              "      <td>Lourdes de BlanSablon - Port Hope Simpson</td>\n",
              "      <td>Britten-Norman BN-2A-27 Islander</td>\n",
              "      <td>C-FJJR</td>\n",
              "      <td>424</td>\n",
              "      <td>1.0</td>\n",
              "      <td>1.0</td>\n",
              "      <td>0.0</td>\n",
              "      <td>The air ambulance crashed into hills while att...</td>\n",
              "    </tr>\n",
              "    <tr>\n",
              "      <th>5267</th>\n",
              "      <td>06/08/2009</td>\n",
              "      <td>NaN</td>\n",
              "      <td>State of Arunachal Pradesh, India</td>\n",
              "      <td>Military - Indian Air Force</td>\n",
              "      <td>NaN</td>\n",
              "      <td>Mechuka for Jorhat</td>\n",
              "      <td>Antonov An-32</td>\n",
              "      <td>NaN</td>\n",
              "      <td>NaN</td>\n",
              "      <td>13.0</td>\n",
              "      <td>13.0</td>\n",
              "      <td>0.0</td>\n",
              "      <td>The military transport went missing while en r...</td>\n",
              "    </tr>\n",
              "  </tbody>\n",
              "</table>\n",
              "<p>5268 rows × 13 columns</p>\n",
              "</div>\n",
              "    <div class=\"colab-df-buttons\">\n",
              "\n",
              "  <div class=\"colab-df-container\">\n",
              "    <button class=\"colab-df-convert\" onclick=\"convertToInteractive('df-407154aa-659e-4153-93de-2a4c67cc6e13')\"\n",
              "            title=\"Convert this dataframe to an interactive table.\"\n",
              "            style=\"display:none;\">\n",
              "\n",
              "  <svg xmlns=\"http://www.w3.org/2000/svg\" height=\"24px\" viewBox=\"0 -960 960 960\">\n",
              "    <path d=\"M120-120v-720h720v720H120Zm60-500h600v-160H180v160Zm220 220h160v-160H400v160Zm0 220h160v-160H400v160ZM180-400h160v-160H180v160Zm440 0h160v-160H620v160ZM180-180h160v-160H180v160Zm440 0h160v-160H620v160Z\"/>\n",
              "  </svg>\n",
              "    </button>\n",
              "\n",
              "  <style>\n",
              "    .colab-df-container {\n",
              "      display:flex;\n",
              "      gap: 12px;\n",
              "    }\n",
              "\n",
              "    .colab-df-convert {\n",
              "      background-color: #E8F0FE;\n",
              "      border: none;\n",
              "      border-radius: 50%;\n",
              "      cursor: pointer;\n",
              "      display: none;\n",
              "      fill: #1967D2;\n",
              "      height: 32px;\n",
              "      padding: 0 0 0 0;\n",
              "      width: 32px;\n",
              "    }\n",
              "\n",
              "    .colab-df-convert:hover {\n",
              "      background-color: #E2EBFA;\n",
              "      box-shadow: 0px 1px 2px rgba(60, 64, 67, 0.3), 0px 1px 3px 1px rgba(60, 64, 67, 0.15);\n",
              "      fill: #174EA6;\n",
              "    }\n",
              "\n",
              "    .colab-df-buttons div {\n",
              "      margin-bottom: 4px;\n",
              "    }\n",
              "\n",
              "    [theme=dark] .colab-df-convert {\n",
              "      background-color: #3B4455;\n",
              "      fill: #D2E3FC;\n",
              "    }\n",
              "\n",
              "    [theme=dark] .colab-df-convert:hover {\n",
              "      background-color: #434B5C;\n",
              "      box-shadow: 0px 1px 3px 1px rgba(0, 0, 0, 0.15);\n",
              "      filter: drop-shadow(0px 1px 2px rgba(0, 0, 0, 0.3));\n",
              "      fill: #FFFFFF;\n",
              "    }\n",
              "  </style>\n",
              "\n",
              "    <script>\n",
              "      const buttonEl =\n",
              "        document.querySelector('#df-407154aa-659e-4153-93de-2a4c67cc6e13 button.colab-df-convert');\n",
              "      buttonEl.style.display =\n",
              "        google.colab.kernel.accessAllowed ? 'block' : 'none';\n",
              "\n",
              "      async function convertToInteractive(key) {\n",
              "        const element = document.querySelector('#df-407154aa-659e-4153-93de-2a4c67cc6e13');\n",
              "        const dataTable =\n",
              "          await google.colab.kernel.invokeFunction('convertToInteractive',\n",
              "                                                    [key], {});\n",
              "        if (!dataTable) return;\n",
              "\n",
              "        const docLinkHtml = 'Like what you see? Visit the ' +\n",
              "          '<a target=\"_blank\" href=https://colab.research.google.com/notebooks/data_table.ipynb>data table notebook</a>'\n",
              "          + ' to learn more about interactive tables.';\n",
              "        element.innerHTML = '';\n",
              "        dataTable['output_type'] = 'display_data';\n",
              "        await google.colab.output.renderOutput(dataTable, element);\n",
              "        const docLink = document.createElement('div');\n",
              "        docLink.innerHTML = docLinkHtml;\n",
              "        element.appendChild(docLink);\n",
              "      }\n",
              "    </script>\n",
              "  </div>\n",
              "\n",
              "\n",
              "<div id=\"df-493a544b-9898-4e7d-9a08-7c705fb857e8\">\n",
              "  <button class=\"colab-df-quickchart\" onclick=\"quickchart('df-493a544b-9898-4e7d-9a08-7c705fb857e8')\"\n",
              "            title=\"Suggest charts.\"\n",
              "            style=\"display:none;\">\n",
              "\n",
              "<svg xmlns=\"http://www.w3.org/2000/svg\" height=\"24px\"viewBox=\"0 0 24 24\"\n",
              "     width=\"24px\">\n",
              "    <g>\n",
              "        <path d=\"M19 3H5c-1.1 0-2 .9-2 2v14c0 1.1.9 2 2 2h14c1.1 0 2-.9 2-2V5c0-1.1-.9-2-2-2zM9 17H7v-7h2v7zm4 0h-2V7h2v10zm4 0h-2v-4h2v4z\"/>\n",
              "    </g>\n",
              "</svg>\n",
              "  </button>\n",
              "\n",
              "<style>\n",
              "  .colab-df-quickchart {\n",
              "      --bg-color: #E8F0FE;\n",
              "      --fill-color: #1967D2;\n",
              "      --hover-bg-color: #E2EBFA;\n",
              "      --hover-fill-color: #174EA6;\n",
              "      --disabled-fill-color: #AAA;\n",
              "      --disabled-bg-color: #DDD;\n",
              "  }\n",
              "\n",
              "  [theme=dark] .colab-df-quickchart {\n",
              "      --bg-color: #3B4455;\n",
              "      --fill-color: #D2E3FC;\n",
              "      --hover-bg-color: #434B5C;\n",
              "      --hover-fill-color: #FFFFFF;\n",
              "      --disabled-bg-color: #3B4455;\n",
              "      --disabled-fill-color: #666;\n",
              "  }\n",
              "\n",
              "  .colab-df-quickchart {\n",
              "    background-color: var(--bg-color);\n",
              "    border: none;\n",
              "    border-radius: 50%;\n",
              "    cursor: pointer;\n",
              "    display: none;\n",
              "    fill: var(--fill-color);\n",
              "    height: 32px;\n",
              "    padding: 0;\n",
              "    width: 32px;\n",
              "  }\n",
              "\n",
              "  .colab-df-quickchart:hover {\n",
              "    background-color: var(--hover-bg-color);\n",
              "    box-shadow: 0 1px 2px rgba(60, 64, 67, 0.3), 0 1px 3px 1px rgba(60, 64, 67, 0.15);\n",
              "    fill: var(--button-hover-fill-color);\n",
              "  }\n",
              "\n",
              "  .colab-df-quickchart-complete:disabled,\n",
              "  .colab-df-quickchart-complete:disabled:hover {\n",
              "    background-color: var(--disabled-bg-color);\n",
              "    fill: var(--disabled-fill-color);\n",
              "    box-shadow: none;\n",
              "  }\n",
              "\n",
              "  .colab-df-spinner {\n",
              "    border: 2px solid var(--fill-color);\n",
              "    border-color: transparent;\n",
              "    border-bottom-color: var(--fill-color);\n",
              "    animation:\n",
              "      spin 1s steps(1) infinite;\n",
              "  }\n",
              "\n",
              "  @keyframes spin {\n",
              "    0% {\n",
              "      border-color: transparent;\n",
              "      border-bottom-color: var(--fill-color);\n",
              "      border-left-color: var(--fill-color);\n",
              "    }\n",
              "    20% {\n",
              "      border-color: transparent;\n",
              "      border-left-color: var(--fill-color);\n",
              "      border-top-color: var(--fill-color);\n",
              "    }\n",
              "    30% {\n",
              "      border-color: transparent;\n",
              "      border-left-color: var(--fill-color);\n",
              "      border-top-color: var(--fill-color);\n",
              "      border-right-color: var(--fill-color);\n",
              "    }\n",
              "    40% {\n",
              "      border-color: transparent;\n",
              "      border-right-color: var(--fill-color);\n",
              "      border-top-color: var(--fill-color);\n",
              "    }\n",
              "    60% {\n",
              "      border-color: transparent;\n",
              "      border-right-color: var(--fill-color);\n",
              "    }\n",
              "    80% {\n",
              "      border-color: transparent;\n",
              "      border-right-color: var(--fill-color);\n",
              "      border-bottom-color: var(--fill-color);\n",
              "    }\n",
              "    90% {\n",
              "      border-color: transparent;\n",
              "      border-bottom-color: var(--fill-color);\n",
              "    }\n",
              "  }\n",
              "</style>\n",
              "\n",
              "  <script>\n",
              "    async function quickchart(key) {\n",
              "      const quickchartButtonEl =\n",
              "        document.querySelector('#' + key + ' button');\n",
              "      quickchartButtonEl.disabled = true;  // To prevent multiple clicks.\n",
              "      quickchartButtonEl.classList.add('colab-df-spinner');\n",
              "      try {\n",
              "        const charts = await google.colab.kernel.invokeFunction(\n",
              "            'suggestCharts', [key], {});\n",
              "      } catch (error) {\n",
              "        console.error('Error during call to suggestCharts:', error);\n",
              "      }\n",
              "      quickchartButtonEl.classList.remove('colab-df-spinner');\n",
              "      quickchartButtonEl.classList.add('colab-df-quickchart-complete');\n",
              "    }\n",
              "    (() => {\n",
              "      let quickchartButtonEl =\n",
              "        document.querySelector('#df-493a544b-9898-4e7d-9a08-7c705fb857e8 button');\n",
              "      quickchartButtonEl.style.display =\n",
              "        google.colab.kernel.accessAllowed ? 'block' : 'none';\n",
              "    })();\n",
              "  </script>\n",
              "</div>\n",
              "    </div>\n",
              "  </div>\n"
            ]
          },
          "metadata": {},
          "execution_count": 11
        }
      ]
    },
    {
      "cell_type": "code",
      "source": [
        "# Viewing the shape/dimensions of the airplane dataset\n",
        "airplane_data.shape"
      ],
      "metadata": {
        "colab": {
          "base_uri": "https://localhost:8080/"
        },
        "id": "jY3JPE7tdxWU",
        "outputId": "77a6ccd8-5f17-4854-dac5-db9fa419c0a4"
      },
      "execution_count": null,
      "outputs": [
        {
          "output_type": "execute_result",
          "data": {
            "text/plain": [
              "(5268, 13)"
            ]
          },
          "metadata": {},
          "execution_count": 12
        }
      ]
    },
    {
      "cell_type": "code",
      "source": [
        "# Visualizing the first few entries of salary data\n",
        "salary_data"
      ],
      "metadata": {
        "colab": {
          "base_uri": "https://localhost:8080/",
          "height": 424
        },
        "id": "zuvdj1wnb2zd",
        "outputId": "d9c64665-b720-46f1-f5ff-d5da6a3aff19"
      },
      "execution_count": null,
      "outputs": [
        {
          "output_type": "execute_result",
          "data": {
            "text/plain": [
              "    First Name  Last Name        Education     Occupation  Experience (Years)  \\\n",
              "0      Freddie      Smith         Doctoral          Baker                   8   \n",
              "1       Robert   Ferguson          Primary      Economist                  12   \n",
              "2        Adele   Harrison          Primary    Electrician                  17   \n",
              "3      Miranda  Alexander         Doctoral       Producer                   8   \n",
              "4        Julia       Cole          Primary     Agronomist                  24   \n",
              "..         ...        ...              ...            ...                 ...   \n",
              "195      Oscar   Ferguson         Bachelor       Producer                  29   \n",
              "196     Arthur      Scott  Upper secondary      Geologist                  19   \n",
              "197    Abigail      Clark           Master  Mathematician                  24   \n",
              "198     Harold      Owens  Upper secondary      Geologist                   5   \n",
              "199       Carl     Walker         Bachelor        Insurer                  15   \n",
              "\n",
              "     Salary  \n",
              "0    142875  \n",
              "1     61430  \n",
              "2    121282  \n",
              "3     35637  \n",
              "4     75653  \n",
              "..      ...  \n",
              "195   74836  \n",
              "196  115026  \n",
              "197  152707  \n",
              "198  172473  \n",
              "199   77976  \n",
              "\n",
              "[200 rows x 6 columns]"
            ],
            "text/html": [
              "\n",
              "  <div id=\"df-efc364b7-aeb6-4f13-a954-b7bcda186665\" class=\"colab-df-container\">\n",
              "    <div>\n",
              "<style scoped>\n",
              "    .dataframe tbody tr th:only-of-type {\n",
              "        vertical-align: middle;\n",
              "    }\n",
              "\n",
              "    .dataframe tbody tr th {\n",
              "        vertical-align: top;\n",
              "    }\n",
              "\n",
              "    .dataframe thead th {\n",
              "        text-align: right;\n",
              "    }\n",
              "</style>\n",
              "<table border=\"1\" class=\"dataframe\">\n",
              "  <thead>\n",
              "    <tr style=\"text-align: right;\">\n",
              "      <th></th>\n",
              "      <th>First Name</th>\n",
              "      <th>Last Name</th>\n",
              "      <th>Education</th>\n",
              "      <th>Occupation</th>\n",
              "      <th>Experience (Years)</th>\n",
              "      <th>Salary</th>\n",
              "    </tr>\n",
              "  </thead>\n",
              "  <tbody>\n",
              "    <tr>\n",
              "      <th>0</th>\n",
              "      <td>Freddie</td>\n",
              "      <td>Smith</td>\n",
              "      <td>Doctoral</td>\n",
              "      <td>Baker</td>\n",
              "      <td>8</td>\n",
              "      <td>142875</td>\n",
              "    </tr>\n",
              "    <tr>\n",
              "      <th>1</th>\n",
              "      <td>Robert</td>\n",
              "      <td>Ferguson</td>\n",
              "      <td>Primary</td>\n",
              "      <td>Economist</td>\n",
              "      <td>12</td>\n",
              "      <td>61430</td>\n",
              "    </tr>\n",
              "    <tr>\n",
              "      <th>2</th>\n",
              "      <td>Adele</td>\n",
              "      <td>Harrison</td>\n",
              "      <td>Primary</td>\n",
              "      <td>Electrician</td>\n",
              "      <td>17</td>\n",
              "      <td>121282</td>\n",
              "    </tr>\n",
              "    <tr>\n",
              "      <th>3</th>\n",
              "      <td>Miranda</td>\n",
              "      <td>Alexander</td>\n",
              "      <td>Doctoral</td>\n",
              "      <td>Producer</td>\n",
              "      <td>8</td>\n",
              "      <td>35637</td>\n",
              "    </tr>\n",
              "    <tr>\n",
              "      <th>4</th>\n",
              "      <td>Julia</td>\n",
              "      <td>Cole</td>\n",
              "      <td>Primary</td>\n",
              "      <td>Agronomist</td>\n",
              "      <td>24</td>\n",
              "      <td>75653</td>\n",
              "    </tr>\n",
              "    <tr>\n",
              "      <th>...</th>\n",
              "      <td>...</td>\n",
              "      <td>...</td>\n",
              "      <td>...</td>\n",
              "      <td>...</td>\n",
              "      <td>...</td>\n",
              "      <td>...</td>\n",
              "    </tr>\n",
              "    <tr>\n",
              "      <th>195</th>\n",
              "      <td>Oscar</td>\n",
              "      <td>Ferguson</td>\n",
              "      <td>Bachelor</td>\n",
              "      <td>Producer</td>\n",
              "      <td>29</td>\n",
              "      <td>74836</td>\n",
              "    </tr>\n",
              "    <tr>\n",
              "      <th>196</th>\n",
              "      <td>Arthur</td>\n",
              "      <td>Scott</td>\n",
              "      <td>Upper secondary</td>\n",
              "      <td>Geologist</td>\n",
              "      <td>19</td>\n",
              "      <td>115026</td>\n",
              "    </tr>\n",
              "    <tr>\n",
              "      <th>197</th>\n",
              "      <td>Abigail</td>\n",
              "      <td>Clark</td>\n",
              "      <td>Master</td>\n",
              "      <td>Mathematician</td>\n",
              "      <td>24</td>\n",
              "      <td>152707</td>\n",
              "    </tr>\n",
              "    <tr>\n",
              "      <th>198</th>\n",
              "      <td>Harold</td>\n",
              "      <td>Owens</td>\n",
              "      <td>Upper secondary</td>\n",
              "      <td>Geologist</td>\n",
              "      <td>5</td>\n",
              "      <td>172473</td>\n",
              "    </tr>\n",
              "    <tr>\n",
              "      <th>199</th>\n",
              "      <td>Carl</td>\n",
              "      <td>Walker</td>\n",
              "      <td>Bachelor</td>\n",
              "      <td>Insurer</td>\n",
              "      <td>15</td>\n",
              "      <td>77976</td>\n",
              "    </tr>\n",
              "  </tbody>\n",
              "</table>\n",
              "<p>200 rows × 6 columns</p>\n",
              "</div>\n",
              "    <div class=\"colab-df-buttons\">\n",
              "\n",
              "  <div class=\"colab-df-container\">\n",
              "    <button class=\"colab-df-convert\" onclick=\"convertToInteractive('df-efc364b7-aeb6-4f13-a954-b7bcda186665')\"\n",
              "            title=\"Convert this dataframe to an interactive table.\"\n",
              "            style=\"display:none;\">\n",
              "\n",
              "  <svg xmlns=\"http://www.w3.org/2000/svg\" height=\"24px\" viewBox=\"0 -960 960 960\">\n",
              "    <path d=\"M120-120v-720h720v720H120Zm60-500h600v-160H180v160Zm220 220h160v-160H400v160Zm0 220h160v-160H400v160ZM180-400h160v-160H180v160Zm440 0h160v-160H620v160ZM180-180h160v-160H180v160Zm440 0h160v-160H620v160Z\"/>\n",
              "  </svg>\n",
              "    </button>\n",
              "\n",
              "  <style>\n",
              "    .colab-df-container {\n",
              "      display:flex;\n",
              "      gap: 12px;\n",
              "    }\n",
              "\n",
              "    .colab-df-convert {\n",
              "      background-color: #E8F0FE;\n",
              "      border: none;\n",
              "      border-radius: 50%;\n",
              "      cursor: pointer;\n",
              "      display: none;\n",
              "      fill: #1967D2;\n",
              "      height: 32px;\n",
              "      padding: 0 0 0 0;\n",
              "      width: 32px;\n",
              "    }\n",
              "\n",
              "    .colab-df-convert:hover {\n",
              "      background-color: #E2EBFA;\n",
              "      box-shadow: 0px 1px 2px rgba(60, 64, 67, 0.3), 0px 1px 3px 1px rgba(60, 64, 67, 0.15);\n",
              "      fill: #174EA6;\n",
              "    }\n",
              "\n",
              "    .colab-df-buttons div {\n",
              "      margin-bottom: 4px;\n",
              "    }\n",
              "\n",
              "    [theme=dark] .colab-df-convert {\n",
              "      background-color: #3B4455;\n",
              "      fill: #D2E3FC;\n",
              "    }\n",
              "\n",
              "    [theme=dark] .colab-df-convert:hover {\n",
              "      background-color: #434B5C;\n",
              "      box-shadow: 0px 1px 3px 1px rgba(0, 0, 0, 0.15);\n",
              "      filter: drop-shadow(0px 1px 2px rgba(0, 0, 0, 0.3));\n",
              "      fill: #FFFFFF;\n",
              "    }\n",
              "  </style>\n",
              "\n",
              "    <script>\n",
              "      const buttonEl =\n",
              "        document.querySelector('#df-efc364b7-aeb6-4f13-a954-b7bcda186665 button.colab-df-convert');\n",
              "      buttonEl.style.display =\n",
              "        google.colab.kernel.accessAllowed ? 'block' : 'none';\n",
              "\n",
              "      async function convertToInteractive(key) {\n",
              "        const element = document.querySelector('#df-efc364b7-aeb6-4f13-a954-b7bcda186665');\n",
              "        const dataTable =\n",
              "          await google.colab.kernel.invokeFunction('convertToInteractive',\n",
              "                                                    [key], {});\n",
              "        if (!dataTable) return;\n",
              "\n",
              "        const docLinkHtml = 'Like what you see? Visit the ' +\n",
              "          '<a target=\"_blank\" href=https://colab.research.google.com/notebooks/data_table.ipynb>data table notebook</a>'\n",
              "          + ' to learn more about interactive tables.';\n",
              "        element.innerHTML = '';\n",
              "        dataTable['output_type'] = 'display_data';\n",
              "        await google.colab.output.renderOutput(dataTable, element);\n",
              "        const docLink = document.createElement('div');\n",
              "        docLink.innerHTML = docLinkHtml;\n",
              "        element.appendChild(docLink);\n",
              "      }\n",
              "    </script>\n",
              "  </div>\n",
              "\n",
              "\n",
              "<div id=\"df-010c50d3-053c-4e6e-a795-b7a73ca3c31f\">\n",
              "  <button class=\"colab-df-quickchart\" onclick=\"quickchart('df-010c50d3-053c-4e6e-a795-b7a73ca3c31f')\"\n",
              "            title=\"Suggest charts.\"\n",
              "            style=\"display:none;\">\n",
              "\n",
              "<svg xmlns=\"http://www.w3.org/2000/svg\" height=\"24px\"viewBox=\"0 0 24 24\"\n",
              "     width=\"24px\">\n",
              "    <g>\n",
              "        <path d=\"M19 3H5c-1.1 0-2 .9-2 2v14c0 1.1.9 2 2 2h14c1.1 0 2-.9 2-2V5c0-1.1-.9-2-2-2zM9 17H7v-7h2v7zm4 0h-2V7h2v10zm4 0h-2v-4h2v4z\"/>\n",
              "    </g>\n",
              "</svg>\n",
              "  </button>\n",
              "\n",
              "<style>\n",
              "  .colab-df-quickchart {\n",
              "      --bg-color: #E8F0FE;\n",
              "      --fill-color: #1967D2;\n",
              "      --hover-bg-color: #E2EBFA;\n",
              "      --hover-fill-color: #174EA6;\n",
              "      --disabled-fill-color: #AAA;\n",
              "      --disabled-bg-color: #DDD;\n",
              "  }\n",
              "\n",
              "  [theme=dark] .colab-df-quickchart {\n",
              "      --bg-color: #3B4455;\n",
              "      --fill-color: #D2E3FC;\n",
              "      --hover-bg-color: #434B5C;\n",
              "      --hover-fill-color: #FFFFFF;\n",
              "      --disabled-bg-color: #3B4455;\n",
              "      --disabled-fill-color: #666;\n",
              "  }\n",
              "\n",
              "  .colab-df-quickchart {\n",
              "    background-color: var(--bg-color);\n",
              "    border: none;\n",
              "    border-radius: 50%;\n",
              "    cursor: pointer;\n",
              "    display: none;\n",
              "    fill: var(--fill-color);\n",
              "    height: 32px;\n",
              "    padding: 0;\n",
              "    width: 32px;\n",
              "  }\n",
              "\n",
              "  .colab-df-quickchart:hover {\n",
              "    background-color: var(--hover-bg-color);\n",
              "    box-shadow: 0 1px 2px rgba(60, 64, 67, 0.3), 0 1px 3px 1px rgba(60, 64, 67, 0.15);\n",
              "    fill: var(--button-hover-fill-color);\n",
              "  }\n",
              "\n",
              "  .colab-df-quickchart-complete:disabled,\n",
              "  .colab-df-quickchart-complete:disabled:hover {\n",
              "    background-color: var(--disabled-bg-color);\n",
              "    fill: var(--disabled-fill-color);\n",
              "    box-shadow: none;\n",
              "  }\n",
              "\n",
              "  .colab-df-spinner {\n",
              "    border: 2px solid var(--fill-color);\n",
              "    border-color: transparent;\n",
              "    border-bottom-color: var(--fill-color);\n",
              "    animation:\n",
              "      spin 1s steps(1) infinite;\n",
              "  }\n",
              "\n",
              "  @keyframes spin {\n",
              "    0% {\n",
              "      border-color: transparent;\n",
              "      border-bottom-color: var(--fill-color);\n",
              "      border-left-color: var(--fill-color);\n",
              "    }\n",
              "    20% {\n",
              "      border-color: transparent;\n",
              "      border-left-color: var(--fill-color);\n",
              "      border-top-color: var(--fill-color);\n",
              "    }\n",
              "    30% {\n",
              "      border-color: transparent;\n",
              "      border-left-color: var(--fill-color);\n",
              "      border-top-color: var(--fill-color);\n",
              "      border-right-color: var(--fill-color);\n",
              "    }\n",
              "    40% {\n",
              "      border-color: transparent;\n",
              "      border-right-color: var(--fill-color);\n",
              "      border-top-color: var(--fill-color);\n",
              "    }\n",
              "    60% {\n",
              "      border-color: transparent;\n",
              "      border-right-color: var(--fill-color);\n",
              "    }\n",
              "    80% {\n",
              "      border-color: transparent;\n",
              "      border-right-color: var(--fill-color);\n",
              "      border-bottom-color: var(--fill-color);\n",
              "    }\n",
              "    90% {\n",
              "      border-color: transparent;\n",
              "      border-bottom-color: var(--fill-color);\n",
              "    }\n",
              "  }\n",
              "</style>\n",
              "\n",
              "  <script>\n",
              "    async function quickchart(key) {\n",
              "      const quickchartButtonEl =\n",
              "        document.querySelector('#' + key + ' button');\n",
              "      quickchartButtonEl.disabled = true;  // To prevent multiple clicks.\n",
              "      quickchartButtonEl.classList.add('colab-df-spinner');\n",
              "      try {\n",
              "        const charts = await google.colab.kernel.invokeFunction(\n",
              "            'suggestCharts', [key], {});\n",
              "      } catch (error) {\n",
              "        console.error('Error during call to suggestCharts:', error);\n",
              "      }\n",
              "      quickchartButtonEl.classList.remove('colab-df-spinner');\n",
              "      quickchartButtonEl.classList.add('colab-df-quickchart-complete');\n",
              "    }\n",
              "    (() => {\n",
              "      let quickchartButtonEl =\n",
              "        document.querySelector('#df-010c50d3-053c-4e6e-a795-b7a73ca3c31f button');\n",
              "      quickchartButtonEl.style.display =\n",
              "        google.colab.kernel.accessAllowed ? 'block' : 'none';\n",
              "    })();\n",
              "  </script>\n",
              "</div>\n",
              "    </div>\n",
              "  </div>\n"
            ]
          },
          "metadata": {},
          "execution_count": 13
        }
      ]
    },
    {
      "cell_type": "code",
      "source": [
        "# Viewing the shape/dimensions of the salary dataset\n",
        "salary_data.shape"
      ],
      "metadata": {
        "colab": {
          "base_uri": "https://localhost:8080/"
        },
        "id": "mC6X_Ph6b21_",
        "outputId": "40bdfcbf-dcb4-4092-c992-715e890691e8"
      },
      "execution_count": null,
      "outputs": [
        {
          "output_type": "execute_result",
          "data": {
            "text/plain": [
              "(200, 6)"
            ]
          },
          "metadata": {},
          "execution_count": 14
        }
      ]
    },
    {
      "cell_type": "code",
      "source": [
        "adkfjaskj = salary_data[\"Education\"]\n",
        "adkfjaskj"
      ],
      "metadata": {
        "id": "q8iAAb0NdxpH",
        "colab": {
          "base_uri": "https://localhost:8080/"
        },
        "outputId": "7e6f0b9c-b33e-411e-dd60-9d821e282886"
      },
      "execution_count": null,
      "outputs": [
        {
          "output_type": "execute_result",
          "data": {
            "text/plain": [
              "0             Doctoral\n",
              "1              Primary\n",
              "2              Primary\n",
              "3             Doctoral\n",
              "4              Primary\n",
              "            ...       \n",
              "195           Bachelor\n",
              "196    Upper secondary\n",
              "197             Master\n",
              "198    Upper secondary\n",
              "199           Bachelor\n",
              "Name: Education, Length: 200, dtype: object"
            ]
          },
          "metadata": {},
          "execution_count": 15
        }
      ]
    },
    {
      "cell_type": "code",
      "source": [],
      "metadata": {
        "id": "dZsx8-_2b24u"
      },
      "execution_count": null,
      "outputs": []
    },
    {
      "cell_type": "markdown",
      "source": [
        "# Supervised Learning"
      ],
      "metadata": {
        "id": "_J7gms8_b29m"
      }
    },
    {
      "cell_type": "markdown",
      "source": [
        "## Regression Class"
      ],
      "metadata": {
        "id": "puGr1yPqLL5Z"
      }
    },
    {
      "cell_type": "code",
      "source": [
        "class LinearRegression():\n",
        "\n",
        "  def __init__(self, X, y):\n",
        "\n",
        "    self.X = X\n",
        "    self.y = y\n",
        "\n",
        "    # Adding a column of ones to X for the intercept term\n",
        "    self.X = np.column_stack((np.ones(self.X.shape[0]), self.X))\n",
        "\n",
        "\n",
        "\n",
        "  def calculate_coefficients(self):\n",
        "\n",
        "    \"\"\" Calculating the coefficients using the normal equation beta = (X^T * X)^(-1) * X^T * Y \"\"\"\n",
        "\n",
        "    X_calc = self.X\n",
        "    y_calc = self.y\n",
        "    coefficients = np.linalg.inv(X_calc.T.dot(X_calc)).dot(X_calc.T).dot(y_calc)\n",
        "    self.coefficients = coefficients\n",
        "\n",
        "    return coefficients\n",
        "\n",
        "\n",
        "  def predict(self):\n",
        "\n",
        "    \"\"\" Predicting salaries using the coefficients \"\"\"\n",
        "\n",
        "    y_pred = self.X.dot(self.coefficients)\n",
        "    self.y_pred = y_pred\n",
        "\n",
        "    return y_pred\n",
        "\n",
        "\n",
        "  def calculate_RSquare(self):\n",
        "\n",
        "    y_mean = np.mean(self.y) # Calculating the mean of observed values\n",
        "    TSS = np.sum((self.y - y_mean) ** 2) # Calculate the total sum of squares (TSS)\n",
        "    RSS = np.sum((self.y - self.y_pred) ** 2) # Calculate the residual sum of squares (RSS)\n",
        "    R_squared = 1 - (RSS / TSS) # Calculate R-squared\n",
        "    self.R_squared = R_squared\n",
        "\n",
        "    return R_squared\n",
        "\n",
        "\n"
      ],
      "metadata": {
        "id": "NBixESsBLRdH"
      },
      "execution_count": null,
      "outputs": []
    },
    {
      "cell_type": "markdown",
      "source": [
        "## Dataframe Functions"
      ],
      "metadata": {
        "id": "flIaLMzqv5aj"
      }
    },
    {
      "cell_type": "code",
      "source": [
        "# Sample DataFrame as a list of lists\n",
        "\n",
        "def dimensions_dataframe(dictionary_data):\n",
        "\n",
        "  columns = []\n",
        "  for i in dictionary_data:\n",
        "    columns.append(i)\n",
        "  rows = len(dictionary_data[columns[0]])\n",
        "  columns = len(dictionary_data.keys())\n",
        "\n",
        "  return rows, columns\n",
        "\n",
        "def print_dataframe_tillk(dictionary_data, k):\n",
        "  columns = []\n",
        "  for i in dictionary_data:\n",
        "    columns.append(i)\n",
        "\n",
        "  n_rows, n_cols = dimensions_dataframe(dictionary_data)\n",
        "\n",
        "  for i in columns:\n",
        "    print(i,end=\" \")\n",
        "\n",
        "  print()\n",
        "\n",
        "  for i in range(k):\n",
        "    for j in columns:\n",
        "      print(dictionary_data[j][i],end=\" \")\n",
        "    print()\n",
        "\n",
        "def print_dataframe(dictionary_data):\n",
        "  columns = []\n",
        "  for i in dictionary_data:\n",
        "    columns.append(i)\n",
        "\n",
        "  n_rows, n_cols = dimensions_dataframe(dictionary_data)\n",
        "\n",
        "  for i in columns:\n",
        "    print(i,end=\" \")\n",
        "\n",
        "  print()\n",
        "\n",
        "  for i in range(n_rows):\n",
        "    for j in columns:\n",
        "      print(dictionary_data[j][i],end=\" \")\n",
        "    print()\n",
        "\n",
        "\n",
        "def copy_dataframe(data):\n",
        "  columns = []\n",
        "  df = {}\n",
        "  for i in data:\n",
        "    columns.append(i)\n",
        "    df[i] = []\n",
        "\n",
        "\n",
        "  for j in columns:\n",
        "\n",
        "    column_list = []\n",
        "    for i in range(len(data)):\n",
        "      column_list.append(data[j][i])\n",
        "\n",
        "    df[j] = column_list\n",
        "\n",
        "\n",
        "  return df\n",
        "\n",
        "\n",
        "def dropna_dataframe(data, columns_tocheck):\n",
        "  columns = []\n",
        "  df = {}\n",
        "  for i in data:\n",
        "    columns.append(i)\n",
        "    df[i] = []\n",
        "\n",
        "  na_index_list = []\n",
        "\n",
        "  for j in columns:\n",
        "\n",
        "    column_list = []\n",
        "    for i in range(len(data)):\n",
        "      element = data[j][i]\n",
        "      if element is None or (isinstance(element, float) and math.isnan(element)):\n",
        "        if j in columns_tocheck:\n",
        "          na_index_list.append(i)\n",
        "          # print(f\"NA/NAN/None value found at row: {i}, column: {j}\")\n",
        "\n",
        "  print(\"HERE\",na_index_list)\n",
        "\n",
        "  for j in columns:\n",
        "    column_list = []\n",
        "\n",
        "    for i in range(len(data)):\n",
        "      if i not in na_index_list:\n",
        "        column_list.append(data[j][i])\n",
        "\n",
        "    df[j] = column_list\n",
        "\n",
        "\n",
        "\n",
        "  return df\n",
        "\n",
        "def get_values_dataframe(dictionary_data, column):\n",
        "  return dictionary_data[column]\n",
        "\n",
        "\n",
        "def getcols_dataframe(dictionary_data, columnlist):\n",
        "  new_dict = {}\n",
        "\n",
        "  for i in dictionary_data:\n",
        "    if i in columnlist:\n",
        "      new_dict[i] = dictionary_data[i]\n",
        "\n",
        "  return new_dict\n",
        "\n"
      ],
      "metadata": {
        "id": "H99-GYkgv8z8"
      },
      "execution_count": null,
      "outputs": []
    },
    {
      "cell_type": "code",
      "source": [],
      "metadata": {
        "colab": {
          "base_uri": "https://localhost:8080/"
        },
        "id": "fC8bom54wEs8",
        "outputId": "6795ebb4-612d-4634-dd3e-f2af486853b4"
      },
      "execution_count": null,
      "outputs": [
        {
          "output_type": "execute_result",
          "data": {
            "text/plain": [
              "200"
            ]
          },
          "metadata": {},
          "execution_count": 151
        }
      ]
    },
    {
      "cell_type": "code",
      "source": [
        "dimensions_dataframe(copy_dataframe(airplane_data))[0]\n"
      ],
      "metadata": {
        "colab": {
          "base_uri": "https://localhost:8080/"
        },
        "id": "PBlInbRbwEo9",
        "outputId": "9959a114-f29d-4226-823a-2f875ede55d7"
      },
      "execution_count": null,
      "outputs": [
        {
          "output_type": "execute_result",
          "data": {
            "text/plain": [
              "5268"
            ]
          },
          "metadata": {},
          "execution_count": 189
        }
      ]
    },
    {
      "cell_type": "code",
      "source": [
        "dimensions_dataframe(dropna_dataframe(airplane_data, [\"Type\"]))"
      ],
      "metadata": {
        "id": "vWWOlAGgwEg7"
      },
      "execution_count": null,
      "outputs": []
    },
    {
      "cell_type": "markdown",
      "source": [
        "## Functions"
      ],
      "metadata": {
        "id": "De_kFjfcLVE9"
      }
    },
    {
      "cell_type": "code",
      "source": [
        "\n",
        "def label_encode(dataframe, column_to_encode):\n",
        "\n",
        "  \"\"\" Perform label encoding \"\"\"\n",
        "  df_copy = dataframe.copy()\n",
        "  encoding_dict = {}\n",
        "  encoded_list = []\n",
        "\n",
        "  k = 1\n",
        "  for i in range(len(df_copy)):\n",
        "\n",
        "    element = df_copy.loc[i, column_to_encode]\n",
        "    if element not in encoding_dict:\n",
        "      encoding_dict[element] = k\n",
        "      k+=1\n",
        "\n",
        "    encoded_list.append(encoding_dict[element])\n",
        "\n",
        "\n",
        "  df_copy[column_to_encode+' Encoded'] = encoded_list\n",
        "  return df_copy\n",
        "\n",
        "\n",
        "def label_encode_alphabetically(dataframe, column_to_encode):\n",
        "  \"\"\" Perform label encoding alphabetically \"\"\"\n",
        "\n",
        "  # dataframe is a DICTIONARY\n",
        "\n",
        "  df_copy = dataframe #.copy()\n",
        "\n",
        "  list_of_values = df_copy[column_to_encode] #.values\n",
        "  # list_of_values_copy = []\n",
        "  # for i in list_of_values:\n",
        "  #   if i==float(\"nan\") or i is None:\n",
        "  #     continue\n",
        "  #   else:\n",
        "  #     list_of_values_copy.append(i)\n",
        "\n",
        "  alphabetical_list = list(np.unique(list_of_values))\n",
        "\n",
        "  # print(alphabetical_list)\n",
        "\n",
        "  encoding_dict = {}\n",
        "  k = 1\n",
        "\n",
        "  for i in alphabetical_list:\n",
        "    encoding_dict[i] = k\n",
        "    k += 1\n",
        "\n",
        "  encoded_list = []\n",
        "  for i in range(dimensions_dataframe(df_copy)[0]):\n",
        "    # element = df_copy.loc[i, column_to_encode]\n",
        "    element = df_copy[column_to_encode][i]\n",
        "    encoded_list.append(encoding_dict[element])\n",
        "\n",
        "\n",
        "  df_copy[column_to_encode+' Encoded'] = encoded_list\n",
        "  return df_copy\n",
        "\n",
        "# categories = data[x_values[i]].values\n",
        "\n",
        "#         # Find unique categories\n",
        "#         unique_categories = np.unique(categories)\n",
        "\n",
        "#         print(unique_categories)\n",
        "\n",
        "#         #Perform Label Encoding\n",
        "#         encoded_dict={}\n",
        "#         ctr=1\n",
        "#         for occup in unique_categories:\n",
        "#             encoded_dict[occup]=ctr\n",
        "#             ctr+=1\n",
        "\n",
        "\n",
        "# def label_encoding_alpha(df, column_name):\n",
        "#     # Extract the categorical variable\n",
        "#     categories = df[column_name].values\n",
        "\n",
        "#     # Find unique categories\n",
        "#     unique_categories = np.unique(categories)\n",
        "\n",
        "#     #Perform Label Encoding\n",
        "#     encoded_dict={}\n",
        "#     ctr=1\n",
        "#     for occup in unique_categories:\n",
        "#         encoded_dict[occup]=ctr\n",
        "#         ctr+=1\n",
        "\n",
        "#     # Add the encoded variable to the dataframe\n",
        "#     df[column_name+\" Encoded\"]=np.array([encoded_dict[occupation] for occupation in categories])\n",
        "\n",
        "#     return df\n"
      ],
      "metadata": {
        "id": "X7g-HkrJZY1m"
      },
      "execution_count": 420,
      "outputs": []
    },
    {
      "cell_type": "code",
      "source": [
        "np.unique(get_values_dataframe(copy_dataframe(salary_data),\"Education\")).astype(object)\n",
        "# dimensions_dataframe(copy_dataframe(airplane_data))\n"
      ],
      "metadata": {
        "colab": {
          "base_uri": "https://localhost:8080/"
        },
        "id": "6VQUyyNS6Vvh",
        "outputId": "2fe24c3b-7020-4278-9bd2-af0a0e9cacb2"
      },
      "execution_count": null,
      "outputs": [
        {
          "output_type": "execute_result",
          "data": {
            "text/plain": [
              "array(['Bachelor', 'Doctoral', 'Lower secondary', 'Master', 'Primary',\n",
              "       'Upper secondary'], dtype=object)"
            ]
          },
          "metadata": {},
          "execution_count": 185
        }
      ]
    },
    {
      "cell_type": "code",
      "source": [
        "(np.unique(salary_data['Education'].values))"
      ],
      "metadata": {
        "colab": {
          "base_uri": "https://localhost:8080/"
        },
        "id": "0lMDfwQ6gABW",
        "outputId": "d9bb9d03-2084-401a-8780-055b11937557"
      },
      "execution_count": null,
      "outputs": [
        {
          "output_type": "execute_result",
          "data": {
            "text/plain": [
              "array(['Bachelor', 'Doctoral', 'Lower secondary', 'Master', 'Primary',\n",
              "       'Upper secondary'], dtype=object)"
            ]
          },
          "metadata": {},
          "execution_count": 183
        }
      ]
    },
    {
      "cell_type": "code",
      "source": [
        "salary_data['Education']\n",
        "salary_data_copy = salary_data.copy()"
      ],
      "metadata": {
        "id": "GoGDAHj2b3A2"
      },
      "execution_count": null,
      "outputs": []
    },
    {
      "cell_type": "markdown",
      "source": [
        "## Education VS Salary"
      ],
      "metadata": {
        "id": "QEXyUwnxb3F7"
      }
    },
    {
      "cell_type": "code",
      "source": [
        "education_vs_salary_df = copy_dataframe(salary_data) # Creating a deep copy of the dataframe\n",
        "education_vs_salary_df = getcols_dataframe(education_vs_salary_df, ['Education','Salary']) # Extracting only the relevant columns from the dataframe\n",
        "print_dataframe(education_vs_salary_df) # Viewing the first few entries in the dataframe"
      ],
      "metadata": {
        "id": "ecWDFxbzElsh"
      },
      "execution_count": null,
      "outputs": []
    },
    {
      "cell_type": "code",
      "source": [
        "# education_vs_salary_df.Education.unique()\n",
        "# np.unique(education_vs_salary_df.Education)"
      ],
      "metadata": {
        "colab": {
          "base_uri": "https://localhost:8080/"
        },
        "id": "XPpPG1jP2iMU",
        "outputId": "e69326b9-9185-4aab-e6c3-257acde8f8fb"
      },
      "execution_count": null,
      "outputs": [
        {
          "output_type": "execute_result",
          "data": {
            "text/plain": [
              "array(['Bachelor', 'Doctoral', 'Lower secondary', 'Master', 'Primary',\n",
              "       'Upper secondary'], dtype=object)"
            ]
          },
          "metadata": {},
          "execution_count": 22
        }
      ]
    },
    {
      "cell_type": "code",
      "source": [
        "# education_sort_list = ['Primary', 'Lower secondary', 'Upper secondary', 'Bachelor', 'Master', 'Doctoral']\n",
        "# education_vs_salary_df.sort_values(by = education_sort_list)"
      ],
      "metadata": {
        "id": "O6smOQQb2fJA"
      },
      "execution_count": null,
      "outputs": []
    },
    {
      "cell_type": "code",
      "source": [
        "education_vs_salary_df = label_encode_alphabetically(education_vs_salary_df,\"Education\") # Label encoding the data\n",
        "print_dataframe(education_vs_salary_df)"
      ],
      "metadata": {
        "id": "RDRRct0w0kjS"
      },
      "execution_count": null,
      "outputs": []
    },
    {
      "cell_type": "code",
      "source": [
        "education_dict = {'Primary':1, 'Lower secondary':2, 'Upper secondary':3, 'Bachelor':4, 'Master':5, 'Doctoral':6}\n",
        "for i in range(dimensions_dataframe(education_vs_salary_df)[0]):\n",
        "  # element = education_vs_salary_df.loc[i,\"Education\"]\n",
        "  # education_vs_salary_df.loc[i,\"Education Encoded\"] = education_dict[element]\n",
        "  element = education_vs_salary_df[\"Education\"][i]\n",
        "  education_vs_salary_df[\"Education Encoded\"][i] = education_dict[element]\n",
        "\n",
        "print_dataframe(education_vs_salary_df)"
      ],
      "metadata": {
        "id": "pusjqZLb7FcX"
      },
      "execution_count": null,
      "outputs": []
    },
    {
      "cell_type": "code",
      "source": [],
      "metadata": {
        "id": "IVVQucZY8Yj2"
      },
      "execution_count": null,
      "outputs": []
    },
    {
      "cell_type": "code",
      "source": [
        "dimensions_dataframe(education_vs_salary_df)"
      ],
      "metadata": {
        "colab": {
          "base_uri": "https://localhost:8080/"
        },
        "id": "TxMPs_HHFBVj",
        "outputId": "d014de4f-9ef8-4368-ea26-462e5a9241e7"
      },
      "execution_count": null,
      "outputs": [
        {
          "output_type": "execute_result",
          "data": {
            "text/plain": [
              "(200, 3)"
            ]
          },
          "metadata": {},
          "execution_count": 197
        }
      ]
    },
    {
      "cell_type": "code",
      "source": [
        "# For one hot encoding, see later\n",
        "# ed_vs_sal_data = pd.get_dummies(education_vs_salary_df, columns=['Education'], drop_first=True) # dropping the first one-hot encoded column to avoid multicollinearity\n",
        "# ed_vs_sal_data.head()\n",
        "\n",
        "# # Just viewing\n",
        "# X_education = ed_vs_sal_data.drop('Salary', axis=1).values\n",
        "# y_salary = ed_vs_sal_data['Salary'].values\n",
        "# X_education[0:10], y_salary[0:10]"
      ],
      "metadata": {
        "id": "-yLv0kWtElnD"
      },
      "execution_count": null,
      "outputs": []
    },
    {
      "cell_type": "code",
      "source": [
        "# Just assigning the X/y values and viewing the data\n",
        "X_education = np.array(education_vs_salary_df['Education Encoded'])\n",
        "y_salary = np.array(education_vs_salary_df['Salary'])\n",
        "X_education[0:10], y_salary[0:10]"
      ],
      "metadata": {
        "colab": {
          "base_uri": "https://localhost:8080/"
        },
        "id": "TQcpDveEFSDZ",
        "outputId": "5a7e9e87-074b-4531-cf04-8fc7fb332399"
      },
      "execution_count": null,
      "outputs": [
        {
          "output_type": "execute_result",
          "data": {
            "text/plain": [
              "(array([6, 1, 1, 6, 1, 6, 3, 3, 3, 6]),\n",
              " array([142875,  61430, 121282,  35637,  75653,  78059, 109988, 179030,\n",
              "        161817,  64592]))"
            ]
          },
          "metadata": {},
          "execution_count": 199
        }
      ]
    },
    {
      "cell_type": "code",
      "source": [
        "education_VS_salary = LinearRegression(X = X_education, y = y_salary) # Creating an object instance of the LinearRegression Class\n",
        "print(education_VS_salary.calculate_coefficients()) # Calculating the coefficients"
      ],
      "metadata": {
        "colab": {
          "base_uri": "https://localhost:8080/"
        },
        "id": "2QvfAVEsMatC",
        "outputId": "c19b852e-d66f-4ec9-b26d-0b463c2d7b9a"
      },
      "execution_count": null,
      "outputs": [
        {
          "output_type": "stream",
          "name": "stdout",
          "text": [
            "[111263.71516129   -922.21290323]\n"
          ]
        }
      ]
    },
    {
      "cell_type": "code",
      "source": [
        "# Plotting the graph\n",
        "X = education_VS_salary.X\n",
        "y = education_VS_salary.y\n",
        "predictions = education_VS_salary.predict()\n",
        "coefficients = education_VS_salary.coefficients\n",
        "\n",
        "\n",
        "# Visualize the results using matplotlib\n",
        "plt.scatter(X[:,1], y, label='Salaries')\n",
        "plt.plot(X[:,1], predictions, color='red', label='Regression Line')\n",
        "plt.xlabel('Education')\n",
        "plt.ylabel('Salary')\n",
        "plt.title('Simple Linear Regression')\n",
        "plt.legend(bbox_to_anchor=(1.35, 1), loc='upper right')\n",
        "plt.show()\n",
        "\n",
        "# Printing the regression equation\n",
        "print(f\"Regression Equation: Salary = {coefficients[0]:.2f} + {coefficients[1]:.2f} * Education\")"
      ],
      "metadata": {
        "colab": {
          "base_uri": "https://localhost:8080/",
          "height": 890
        },
        "id": "u_PzV4-DFmvC",
        "outputId": "0f20d399-b6db-4b40-d204-4ca942da0979"
      },
      "execution_count": null,
      "outputs": [
        {
          "output_type": "display_data",
          "data": {
            "text/plain": [
              "<Figure size 1000x1000 with 1 Axes>"
            ],
            "image/png": "[encoded data removed]"
          },
          "metadata": {}
        },
        {
          "output_type": "stream",
          "name": "stdout",
          "text": [
            "Regression Equation: Salary = 111263.72 + -922.21 * Education\n"
          ]
        }
      ]
    },
    {
      "cell_type": "code",
      "source": [
        "# # Calculate the best-fit line\n",
        "# x_values = np.linspace(min(X[:, 1]), max(X[:, 1]), 100)\n",
        "# y_values = coefficients[0] + coefficients[1] * x_values\n",
        "\n",
        "# # Plot the best-fit line\n",
        "# plt.plot(x_values, y_values, color='red', linewidth=2, label='Best Fit Line')\n",
        "\n",
        "# plt.xlabel('X')\n",
        "# plt.ylabel('y')\n",
        "# plt.title('Best Fit Line')\n",
        "# plt.legend()\n",
        "# plt.show()"
      ],
      "metadata": {
        "id": "UeP044k7Fmww"
      },
      "execution_count": null,
      "outputs": []
    },
    {
      "cell_type": "code",
      "source": [
        "# Calculating R-Square\n",
        "rsquare_educ_vs_salary = education_VS_salary.calculate_RSquare()\n",
        "print(rsquare_educ_vs_salary)"
      ],
      "metadata": {
        "colab": {
          "base_uri": "https://localhost:8080/"
        },
        "id": "YodAIdFBFmsK",
        "outputId": "d3d607cd-fd29-4c05-93ef-8dd5a467228e"
      },
      "execution_count": null,
      "outputs": [
        {
          "output_type": "stream",
          "name": "stdout",
          "text": [
            "0.0011670984323800537\n"
          ]
        }
      ]
    },
    {
      "cell_type": "code",
      "source": [],
      "metadata": {
        "id": "9e897r7-FmnU"
      },
      "execution_count": null,
      "outputs": []
    },
    {
      "cell_type": "markdown",
      "source": [
        "## Occupation VS Salary"
      ],
      "metadata": {
        "id": "IR8h4ZnAb3Y7"
      }
    },
    {
      "cell_type": "code",
      "source": [
        "occupation_vs_salary_df = copy_dataframe(salary_data) #.copy() # Creating a deep copy of the dataframe\n",
        "occupation_vs_salary_df = getcols_dataframe(occupation_vs_salary_df, ['Occupation','Salary']) # Extracting only the relevant columns from the dataframe\n",
        "\n",
        "occupation_vs_salary_df = label_encode_alphabetically(occupation_vs_salary_df,\"Occupation\") # Label encoding the data\n",
        "print_dataframe(occupation_vs_salary_df) # Viewing the dataframe"
      ],
      "metadata": {
        "id": "OdgcqWNNb3al"
      },
      "execution_count": null,
      "outputs": []
    },
    {
      "cell_type": "code",
      "source": [
        "# Just assigning the X/y values and viewing the data\n",
        "X_occupation = np.array(occupation_vs_salary_df['Occupation Encoded'])\n",
        "y_salary = np.array(occupation_vs_salary_df['Salary'])\n",
        "# X_occupation[0:10], y_salary[0:10]\n",
        "occupation_VS_salary = LinearRegression(X = X_occupation, y = y_salary) # Creating an object instance of the LinearRegression Class\n",
        "print(occupation_VS_salary.calculate_coefficients()) # Calculating the coefficients"
      ],
      "metadata": {
        "colab": {
          "base_uri": "https://localhost:8080/"
        },
        "id": "n1tYiyA1b3cD",
        "outputId": "08a618d6-8107-4145-ca04-33e336f51637"
      },
      "execution_count": null,
      "outputs": [
        {
          "output_type": "stream",
          "name": "stdout",
          "text": [
            "[99343.35627517   324.41178298]\n"
          ]
        }
      ]
    },
    {
      "cell_type": "code",
      "source": [
        "# Plotting the graph\n",
        "X = occupation_VS_salary.X\n",
        "y = occupation_VS_salary.y\n",
        "predictions = occupation_VS_salary.predict()\n",
        "coefficients = occupation_VS_salary.coefficients\n",
        "\n",
        "\n",
        "# Visualize the results using matplotlib\n",
        "plt.scatter(X[:,1], y, label='Salaries')\n",
        "plt.plot(X[:,1], predictions, color='red', label='Regression Line')\n",
        "plt.xlabel('Occupation')\n",
        "plt.ylabel('Salary')\n",
        "plt.title('Simple Linear Regression')\n",
        "plt.legend(bbox_to_anchor=(1.35, 1), loc='upper right')\n",
        "plt.show()\n",
        "\n",
        "# Printing the regression equation\n",
        "print(f\"Regression Equation: Salary = {coefficients[0]:.2f} + {coefficients[1]:.2f} * Occupation\")"
      ],
      "metadata": {
        "colab": {
          "base_uri": "https://localhost:8080/",
          "height": 890
        },
        "id": "T-sRT1bfb3dt",
        "outputId": "29ac09de-9484-4141-a252-25351ede8bfb"
      },
      "execution_count": null,
      "outputs": [
        {
          "output_type": "display_data",
          "data": {
            "text/plain": [
              "<Figure size 1000x1000 with 1 Axes>"
            ],
            "image/png": "[encoded data removed]"
          },
          "metadata": {}
        },
        {
          "output_type": "stream",
          "name": "stdout",
          "text": [
            "Regression Equation: Salary = 99343.36 + 324.41 * Occupation\n"
          ]
        }
      ]
    },
    {
      "cell_type": "code",
      "source": [
        "# Calculating R-Square\n",
        "rsquare_occup_vs_salary = occupation_VS_salary.calculate_RSquare()\n",
        "print(rsquare_occup_vs_salary)"
      ],
      "metadata": {
        "colab": {
          "base_uri": "https://localhost:8080/"
        },
        "id": "J9OdgNxQb3gt",
        "outputId": "b8ffef32-c2a5-435f-fe77-9f583c19c8bd"
      },
      "execution_count": null,
      "outputs": [
        {
          "output_type": "stream",
          "name": "stdout",
          "text": [
            "0.00874895101339046\n"
          ]
        }
      ]
    },
    {
      "cell_type": "markdown",
      "source": [
        "## Experience VS Salary"
      ],
      "metadata": {
        "id": "VtE9gzhub3j9"
      }
    },
    {
      "cell_type": "code",
      "source": [
        "experience_vs_salary_df = copy_dataframe(salary_data) # Creating a deep copy of the dataframe\n",
        "experience_vs_salary_df = getcols_dataframe(experience_vs_salary_df,['Experience (Years)','Salary']) # Extracting only the relevant columns from the dataframe\n",
        "\n",
        "print_dataframe(experience_vs_salary_df) # Viewing the dataframe"
      ],
      "metadata": {
        "id": "8dznLZFIb3lk"
      },
      "execution_count": null,
      "outputs": []
    },
    {
      "cell_type": "code",
      "source": [
        "# Just assigning the X/y values and viewing the data\n",
        "X_experience = np.array(experience_vs_salary_df['Experience (Years)'])\n",
        "y_salary = np.array(experience_vs_salary_df['Salary'])\n",
        "# X_experience[0:10], y_salary[0:10]\n",
        "experience_VS_salary = LinearRegression(X = X_experience, y = y_salary) # Creating an object instance of the LinearRegression Class\n",
        "print(experience_VS_salary.calculate_coefficients()) # Calculating the coefficients"
      ],
      "metadata": {
        "colab": {
          "base_uri": "https://localhost:8080/"
        },
        "id": "ecmjU7Lqb3nO",
        "outputId": "37ca9201-7285-4c88-ec32-28696d07c12f"
      },
      "execution_count": null,
      "outputs": [
        {
          "output_type": "stream",
          "name": "stdout",
          "text": [
            "[112877.48129089   -322.44497442]\n"
          ]
        }
      ]
    },
    {
      "cell_type": "code",
      "source": [
        "# Plotting the graph\n",
        "X = experience_VS_salary.X\n",
        "y = experience_VS_salary.y\n",
        "predictions = experience_VS_salary.predict()\n",
        "coefficients = experience_VS_salary.coefficients\n",
        "\n",
        "\n",
        "# Visualize the results using matplotlib\n",
        "plt.scatter(X[:,1], y, label='Salaries')\n",
        "plt.plot(X[:,1], predictions, color='red', label='Regression Line')\n",
        "plt.xlabel('Experience')\n",
        "plt.ylabel('Salary')\n",
        "plt.title('Simple Linear Regression')\n",
        "plt.legend(bbox_to_anchor=(1.35, 1), loc='upper right')\n",
        "plt.show()\n",
        "\n",
        "# Printing the regression equation\n",
        "print(f\"Regression Equation: Salary = {coefficients[0]:.2f} + {coefficients[1]:.2f} * Experience\")"
      ],
      "metadata": {
        "id": "afrnVjn5b3qW",
        "colab": {
          "base_uri": "https://localhost:8080/",
          "height": 890
        },
        "outputId": "904b3a3a-ab35-4cb7-980d-71e3ece5438c"
      },
      "execution_count": 612,
      "outputs": [
        {
          "output_type": "display_data",
          "data": {
            "text/plain": [
              "<Figure size 1000x1000 with 1 Axes>"
            ],
            "image/png": "[encoded data removed]"
          },
          "metadata": {}
        },
        {
          "output_type": "stream",
          "name": "stdout",
          "text": [
            "Regression Equation: Salary = 112877.48 + -322.44 * Experience\n"
          ]
        }
      ]
    },
    {
      "cell_type": "code",
      "source": [
        "# Calculating R-Square\n",
        "rsquare_exp_vs_salary = experience_VS_salary.calculate_RSquare()\n",
        "print(rsquare_exp_vs_salary)"
      ],
      "metadata": {
        "colab": {
          "base_uri": "https://localhost:8080/"
        },
        "id": "nhY0r2aqb3sM",
        "outputId": "3ce6e2eb-70ed-47d8-874f-3ffa50204496"
      },
      "execution_count": null,
      "outputs": [
        {
          "output_type": "stream",
          "name": "stdout",
          "text": [
            "0.003463147394885513\n"
          ]
        }
      ]
    },
    {
      "cell_type": "markdown",
      "source": [
        "### **R Square**\n",
        "Education VS Salary = 0.0011670984323800537  \n",
        "Occupation VS Salary = 0.00874895101339046  \n",
        "Experience VS Salary = 0.003463147394885513  \n",
        "\n",
        "The R Square values are as follows:  \n",
        "`Education < Experience < Occupation`\n",
        "\n",
        "As we can see the value of R square is very small.  \n",
        "This indicates that the line/model is not a very good fit to the data.  \n",
        "This makes sense since the data has multiple `Salary` values for the same `x` values (Education, Occupation, Experience). Therefore, we cannot map a function to the data so as to estimate it properly.  \n",
        "\n",
        "From the given estimates, it would appear that knowing a person's education, occupation and experience is not indicative of their salary. However, we know in most fields there is a strong positive correlation with each of the above independent variables and salary.\n"
      ],
      "metadata": {
        "id": "mUAu3HBxb3tu"
      }
    },
    {
      "cell_type": "markdown",
      "source": [
        "## Multiple Linear Regression"
      ],
      "metadata": {
        "id": "kgHjLn5Ib3xo"
      }
    },
    {
      "cell_type": "code",
      "source": [
        "experience_vs_salary_df = copy_dataframe(salary_data) # Creating a deep copy of the dataframe\n",
        "experience_vs_salary_df = getcols_dataframe(experience_vs_salary_df,['Experience (Years)','Salary']) # Extracting only the relevant columns from the dataframe\n",
        "\n",
        "print_dataframe(experience_vs_salary_df) # Viewing the dataframe"
      ],
      "metadata": {
        "id": "jhsoHFAFKJJj"
      },
      "execution_count": null,
      "outputs": []
    },
    {
      "cell_type": "code",
      "source": [
        "mlrm_df = copy_dataframe(salary_data) #.copy() # Creating a deep copy of the dataframe\n",
        "mlrm_df = getcols_dataframe(mlrm_df,['Education', 'Occupation', 'Experience (Years)','Salary']) # Extracting only the relevant columns from the dataframe\n",
        "\n",
        "mlrm_df = label_encode_alphabetically(mlrm_df,\"Occupation\") # Label encoding the data\n",
        "mlrm_df[\"Education Encoded\"] = education_vs_salary_df[\"Education Encoded\"] # Encoding the data\n",
        "print_dataframe(mlrm_df) # Viewing the dataframe"
      ],
      "metadata": {
        "id": "eSvxywhPb3zx"
      },
      "execution_count": null,
      "outputs": []
    },
    {
      "cell_type": "code",
      "source": [
        "# Just assigning the X/y values and viewing the data\n",
        "# X_1 = np.array(mlrm_df['Experience (Years)'], dtype = int)\n",
        "# X_2 = np.array(mlrm_df['Occupation Encoded'], dtype = int)\n",
        "# X_3 = np.array(mlrm_df['Education Encoded'], dtype = int)\n",
        "# X_mlrm = np.concatenate(X_1,X_2,X_3)\n",
        "X_1 = mlrm_df['Experience (Years)']\n",
        "X_2 = mlrm_df['Occupation Encoded']\n",
        "X_3 = mlrm_df['Education Encoded']\n",
        "X_mlrm = []\n",
        "for i in range(dimensions_dataframe(mlrm_df)[0]):\n",
        "  element_list = [X_1[i], X_2[i], X_3[i]]\n",
        "  # X_mlrm.append(np.array(element_list))\n",
        "  X_mlrm.append(element_list)\n",
        "\n",
        "X_mlrm = np.array(X_mlrm)\n"
      ],
      "metadata": {
        "id": "3eHOQZEgb31z"
      },
      "execution_count": null,
      "outputs": []
    },
    {
      "cell_type": "code",
      "source": [
        "y_mlrm = np.array(mlrm_df['Salary'])\n",
        "# X_mlrm[0:10], y_mlrm[0:10]\n",
        "mlrm_model = LinearRegression(X = X_mlrm, y = y_mlrm) # Creating an object instance of the LinearRegression Class\n",
        "print(\"Intercept Experience (Years) Occupation Encoded Education Encoded\")\n",
        "print(mlrm_model.calculate_coefficients()) # Calculating the coefficients"
      ],
      "metadata": {
        "colab": {
          "base_uri": "https://localhost:8080/"
        },
        "id": "hkUz9VQvM_Hw",
        "outputId": "2eafdbce-ea6a-44b8-a4ef-8f92465f224d"
      },
      "execution_count": null,
      "outputs": [
        {
          "output_type": "stream",
          "name": "stdout",
          "text": [
            "Intercept Experience (Years) Occupation Encoded Education Encoded\n",
            "[107233.54570937   -262.78354131    319.03329289  -1085.82226269]\n"
          ]
        }
      ]
    },
    {
      "cell_type": "code",
      "source": [
        "predictions = mlrm_model.predict()\n",
        "coefficients = mlrm_model.coefficients"
      ],
      "metadata": {
        "id": "6cwYa-dt3_UJ"
      },
      "execution_count": null,
      "outputs": []
    },
    {
      "cell_type": "code",
      "source": [
        "print(\"R Squared:\", mlrm_model.calculate_RSquare())"
      ],
      "metadata": {
        "colab": {
          "base_uri": "https://localhost:8080/"
        },
        "id": "UgYUp3qt40MB",
        "outputId": "ab1b0ca5-f8f5-46b8-9cb1-bcbe6304ecf9"
      },
      "execution_count": null,
      "outputs": [
        {
          "output_type": "stream",
          "name": "stdout",
          "text": [
            "R Squared: 0.012800420415242653\n"
          ]
        }
      ]
    },
    {
      "cell_type": "code",
      "source": [
        "# [107233.54570937   -262.78354131    319.03329289  -1085.82226269]\n",
        "# [ 108035.970 20.3754775 -469.426554]"
      ],
      "metadata": {
        "id": "6Qnh1jF3b33p"
      },
      "execution_count": null,
      "outputs": []
    },
    {
      "cell_type": "markdown",
      "source": [
        "## Polynomial Regression"
      ],
      "metadata": {
        "id": "fdQz93RQsWne"
      }
    },
    {
      "cell_type": "code",
      "source": [
        "mlrm_df['Experience (Years)**2'] = list(np.array(mlrm_df['Experience (Years)'])**2)\n",
        "mlrm_df['Education Encoded**2'] = list(np.array(mlrm_df['Education Encoded'])**2)\n",
        "mlrm_df['Occupation Encoded**3'] = list(np.array(mlrm_df['Occupation Encoded'])**3)"
      ],
      "metadata": {
        "id": "zTtSnjfmsXXS"
      },
      "execution_count": 522,
      "outputs": []
    },
    {
      "cell_type": "code",
      "source": [
        "X_1 = mlrm_df['Experience (Years)']\n",
        "X_2 = mlrm_df['Occupation Encoded']\n",
        "X_3 = mlrm_df['Education Encoded']\n",
        "X_4 = mlrm_df['Experience (Years)**2']\n",
        "X_5 = mlrm_df['Education Encoded**2']\n",
        "X_6 = mlrm_df['Occupation Encoded**3']\n",
        "X_pol = []\n",
        "for i in range(dimensions_dataframe(mlrm_df)[0]):\n",
        "  element_list = [X_1[i], X_2[i], X_3[i], X_4[i], X_5[i], X_6[i]]\n",
        "  # X_mlrm.append(np.array(element_list))\n",
        "  X_pol.append(element_list)\n",
        "\n",
        "X_pol = np.array(X_pol)\n"
      ],
      "metadata": {
        "id": "k7z98scesXUj"
      },
      "execution_count": 529,
      "outputs": []
    },
    {
      "cell_type": "code",
      "source": [
        "y_pol = np.array(mlrm_df['Salary'])\n",
        "pol_model = LinearRegression(X = X_pol, y = y_pol) # Creating an object instance of the LinearRegression Class\n",
        "print(\"Intercept Experience (Years) Occupation Encoded Education Encoded Experience (Years)**2 Education Encoded**2 Occupation Encoded**3\")\n",
        "print(pol_model.calculate_coefficients()) # Calculating the coefficients"
      ],
      "metadata": {
        "id": "nBe0KhdNsXQj",
        "colab": {
          "base_uri": "https://localhost:8080/"
        },
        "outputId": "5ac422e1-7041-45b2-c6da-6011aeb08d0d"
      },
      "execution_count": 530,
      "outputs": [
        {
          "output_type": "stream",
          "name": "stdout",
          "text": [
            "Intercept Experience (Years) Occupation Encoded Education Encoded Experience (Years)**2 Education Encoded**2 Occupation Encoded**3\n",
            "[ 8.94898595e+04 -5.72001691e+01 -7.40965341e+01  1.53618848e+04\n",
            " -6.72386319e+00 -2.30517714e+03  1.47814779e-01]\n"
          ]
        }
      ]
    },
    {
      "cell_type": "code",
      "source": [
        "predictions = pol_model.predict()\n",
        "coefficients = pol_model.coefficients"
      ],
      "metadata": {
        "id": "RIhoS2hisWdm"
      },
      "execution_count": 531,
      "outputs": []
    },
    {
      "cell_type": "code",
      "source": [
        "print(\"R Squared:\", pol_model.calculate_RSquare())"
      ],
      "metadata": {
        "id": "dMqz0y-xvGqw",
        "colab": {
          "base_uri": "https://localhost:8080/"
        },
        "outputId": "1382ab34-a5c1-4ca4-c688-1bb29fe4105d"
      },
      "execution_count": 532,
      "outputs": [
        {
          "output_type": "stream",
          "name": "stdout",
          "text": [
            "R Squared: 0.03003560125125293\n"
          ]
        }
      ]
    },
    {
      "cell_type": "markdown",
      "source": [
        "### **Polynomial Regression VS MLRM**\n",
        "\n",
        "R Square for Multiple Linear model = 0.012800420415242653  \n",
        "R Square for Polynomial model = 0.03003560125125293  \n",
        "\n",
        "Clearly the R Square for the Polynomial model is greater than that of the Multiple Linear Model. This is may be so because\n",
        "1. Polynomial models can capture a variety non linear relationships whereas MLRMs can model only linear relationships.\n",
        "2. Higher-degree polynomials can fit the training data better, leading to a higher R Square value. However, they may not generalize well to new data, leading to poor performance in real world applications.\n",
        "\n"
      ],
      "metadata": {
        "id": "W6X7cx9yvGn8"
      }
    },
    {
      "cell_type": "markdown",
      "source": [
        "## Principal Component Analysis"
      ],
      "metadata": {
        "id": "6LidcxHHvGbL"
      }
    },
    {
      "cell_type": "code",
      "source": [
        "class PCA:\n",
        "  def __init__(self, n_components):\n",
        "    self.n_components = n_components # number of components we want to have after the transformation\n",
        "    self.components = None\n",
        "    self.mean = None\n",
        "    self.std_dev = None\n",
        "    self.X = None\n",
        "    self.standardised_X = None\n",
        "\n",
        "  def fit(self, X):\n",
        "\n",
        "    self.X = X\n",
        "    # Standardizing the data (mean-centered and scaled to unit variance)\n",
        "    self.mean = np.mean(X, axis=0)\n",
        "    self.std_dev = np.std(X, axis=0)\n",
        "    self.standardised_X = (X -  self.mean) / self.std_dev\n",
        "\n",
        "    # calculating covariance\n",
        "    covmatr = np.cov(self.standardised_X.T)\n",
        "\n",
        "    # Computing eigenvalues and eigenvectors of the covariance matrix\n",
        "    eigenvalues, eigenvectors = np.linalg.eig(covmatr)\n",
        "\n",
        "    # eigenvectors v = [:, i] column vector, transposing for easier calculations\n",
        "    eigenvectors = eigenvectors.T\n",
        "\n",
        "    print(eigenvalues, eigenvectors)\n",
        "    print()\n",
        "    print()\n",
        "\n",
        "    # sorting eigenvectors according to eigenvalues\n",
        "    idxs = np.argsort(eigenvalues)[::-1] # sorting in decreasing order\n",
        "    eigenvalues = eigenvalues[idxs]\n",
        "    eigenvectors = eigenvectors[idxs]\n",
        "\n",
        "    print(eigenvalues, eigenvectors)\n",
        "\n",
        "    self.components = eigenvectors[:self.n_components] # saving the first n_components\n",
        "\n",
        "\n",
        "    pca_result = np.dot(self.standardised_X, self.components.T)\n",
        "\n",
        "    return pca_result, self.components, eigenvalues\n",
        "\n",
        "\n",
        "  def transform(self, X):\n",
        "\n",
        "    \"\"\" projects data \"\"\"\n",
        "    # X = X - self.mean\n",
        "\n",
        "    return np.dot(X, self.components.T)\n",
        "\n",
        "\n",
        "\n"
      ],
      "metadata": {
        "id": "KusJiqtXvGRh"
      },
      "execution_count": 579,
      "outputs": []
    },
    {
      "cell_type": "code",
      "source": [
        "supervised_pca_df = copy_dataframe(salary_data) # .copy()\n",
        "supervised_pca_df = label_encode_alphabetically(supervised_pca_df,\"Occupation\") # Label encoding the data\n",
        "supervised_pca_df[\"Education Encoded\"] = education_vs_salary_df[\"Education Encoded\"] # Encoding the data\n",
        "\n",
        "print_dataframe(supervised_pca_df)"
      ],
      "metadata": {
        "id": "2e5P2TpivGOm"
      },
      "execution_count": null,
      "outputs": []
    },
    {
      "cell_type": "code",
      "source": [
        "y_supervised_pca = supervised_pca_df[\"Salary\"]\n",
        "\n",
        "X_1 = supervised_pca_df['Experience (Years)']\n",
        "X_2 = supervised_pca_df['Education Encoded']\n",
        "X_3 = supervised_pca_df['Occupation Encoded']\n",
        "supervised_pca_df_fin = []\n",
        "for i in range(dimensions_dataframe(supervised_pca_df)[0]):\n",
        "  element_list = [X_1[i], X_2[i], X_3[i]]\n",
        "  # X_mlrm.append(np.array(element_list))\n",
        "  supervised_pca_df_fin.append(element_list)\n",
        "\n",
        "supervised_pca_df_fin = np.array(supervised_pca_df_fin)\n"
      ],
      "metadata": {
        "id": "MuMBCxGJRHcx"
      },
      "execution_count": 581,
      "outputs": []
    },
    {
      "cell_type": "code",
      "source": [
        "supervised_pca_df = supervised_pca_df_fin"
      ],
      "metadata": {
        "id": "4qwKKTnOvt_N"
      },
      "execution_count": 582,
      "outputs": []
    },
    {
      "cell_type": "code",
      "source": [
        "pca_ele = PCA(2)\n",
        "# pca_projected, throw1, throw2 = pca_ele.fit(supervised_pca_df)\n",
        "throw_1, throw_2, throw_3 = pca_ele.fit(supervised_pca_df)\n",
        "pca_projected = pca_ele.transform(supervised_pca_df)\n",
        "print(\"Shape of X:\", supervised_pca_df.shape)\n",
        "print(\"Shape of transformed X:\", pca_projected.shape)"
      ],
      "metadata": {
        "colab": {
          "base_uri": "https://localhost:8080/"
        },
        "id": "Uo38PFf5vt8T",
        "outputId": "c11b72b0-269a-4800-b49d-f2ef22e575b2"
      },
      "execution_count": 595,
      "outputs": [
        {
          "output_type": "stream",
          "name": "stdout",
          "text": [
            "[0.85270673 1.03958334 1.12278531] [[ 0.56362312 -0.49742529  0.65946725]\n",
            " [-0.61981781 -0.78241577 -0.06042718]\n",
            " [-0.54603558  0.37469139  0.74930068]]\n",
            "\n",
            "\n",
            "[1.12278531 1.03958334 0.85270673] [[-0.54603558  0.37469139  0.74930068]\n",
            " [-0.61981781 -0.78241577 -0.06042718]\n",
            " [ 0.56362312 -0.49742529  0.65946725]]\n",
            "Shape of X: (200, 3)\n",
            "Shape of transformed X: (200, 2)\n"
          ]
        }
      ]
    },
    {
      "cell_type": "code",
      "source": [
        "pca_projected # = throw_1"
      ],
      "metadata": {
        "id": "T__4eZK03jpZ"
      },
      "execution_count": null,
      "outputs": []
    },
    {
      "cell_type": "code",
      "source": [
        "# Just assigning the X/y values and viewing the data\n",
        "X_supervised_pca = pca_projected\n",
        "\n",
        "supervised_pca_model = LinearRegression(X = X_supervised_pca, y = y_supervised_pca) # Creating an object instance of the LinearRegression Class\n",
        "print(supervised_pca_model.calculate_coefficients()) # Calculating the coefficients"
      ],
      "metadata": {
        "colab": {
          "base_uri": "https://localhost:8080/"
        },
        "id": "CG4FKjzrycdg",
        "outputId": "415e17c9-8104-4656-b62f-c9d66d00bc6c"
      },
      "execution_count": 597,
      "outputs": [
        {
          "output_type": "stream",
          "name": "stdout",
          "text": [
            "[105417.09168579    388.65543681    183.51412521]\n"
          ]
        }
      ]
    },
    {
      "cell_type": "code",
      "source": [
        "predictions = supervised_pca_model.predict()\n",
        "coefficients = supervised_pca_model.coefficients"
      ],
      "metadata": {
        "id": "SkmDYYaIycac"
      },
      "execution_count": 598,
      "outputs": []
    },
    {
      "cell_type": "code",
      "source": [
        "print(\"R Squared:\", supervised_pca_model.calculate_RSquare())"
      ],
      "metadata": {
        "colab": {
          "base_uri": "https://localhost:8080/"
        },
        "id": "LBO3wbJFycXa",
        "outputId": "fe5a1b64-7485-4014-dced-d973cbc89186"
      },
      "execution_count": 599,
      "outputs": [
        {
          "output_type": "stream",
          "name": "stdout",
          "text": [
            "R Squared: 0.011053115328921614\n"
          ]
        }
      ]
    },
    {
      "cell_type": "code",
      "source": [],
      "metadata": {
        "id": "kSuEg4WOycTl"
      },
      "execution_count": null,
      "outputs": []
    },
    {
      "cell_type": "markdown",
      "source": [
        "### **PCA Comments**\n",
        "\n",
        "\n",
        "R Squared for MLRM before PCA: 0.012800420415242653  \n",
        "R Squared for MLRM after PCA: 0.011053115328921614  \n",
        "\n",
        "The R Squared value after applying (PCA) is smaller than that of before PCA, which tell us that the PCA process has led to a reduction in the model's explanatory power.  \n",
        "This can happen because of loss of information. PCA compresses the data by retaining only a subset of the original variables (principal components) that explain the most variance. As a result there is a loss of data due to dimensionality reduction which may degrade the models performance.\n",
        "Typically, PCA is applied to reduce dimensions of high-dimensional data, i.e., datasets that contain a large number of features or variables relative to the number of observations or data points. However, in our case, this is not the situation.\n",
        "  \n",
        "\n",
        "\n"
      ],
      "metadata": {
        "id": "mzCHJzHqycG5"
      }
    },
    {
      "cell_type": "code",
      "source": [],
      "metadata": {
        "id": "sdKkFlkasWad"
      },
      "execution_count": null,
      "outputs": []
    },
    {
      "cell_type": "markdown",
      "source": [
        "## Orthogonality"
      ],
      "metadata": {
        "id": "ko0TzgGsb35x"
      }
    },
    {
      "cell_type": "code",
      "source": [
        "gram_df = copy_dataframe(salary_data)\n",
        "gram_df = getcols_dataframe(gram_df,['Experience (Years)','Salary']) # Extracting only the relevant columns from the dataframe\n",
        "\n",
        "gram_df[\"Occupation Encoded\"] = occupation_vs_salary_df[\"Occupation Encoded\"] # Label encoding the data\n",
        "gram_df[\"Education Encoded\"] = education_vs_salary_df['Education Encoded'] # Encoding the data\n",
        "print_dataframe(gram_df) # Viewing the dataframe"
      ],
      "metadata": {
        "id": "_Ay7B2unuUtj"
      },
      "execution_count": null,
      "outputs": []
    },
    {
      "cell_type": "code",
      "source": [
        "relevant_features=[\"Education Encoded\", \"Occupation Encoded\", \"Experience (Years)\"]\n",
        "\n",
        "# Extracting the relevant features\n",
        "\n",
        "design_matrix = []\n",
        "for i in range(dimensions_dataframe(gram_df)[0]):\n",
        "    L=[]\n",
        "    L.append(gram_df[\"Education Encoded\"][i])\n",
        "    L.append(gram_df[\"Occupation Encoded\"][i])\n",
        "    L.append(gram_df[\"Experience (Years)\"][i])\n",
        "    design_matrix.append(np.array(L))\n",
        "\n",
        "design_matrix = np.array(design_matrix)"
      ],
      "metadata": {
        "id": "mne2w1kUJXBu"
      },
      "execution_count": 552,
      "outputs": []
    },
    {
      "cell_type": "code",
      "source": [
        "def orthogonalize_matrix(design_matrix):\n",
        "  ### Orthogonalization of matrix using Gram Schimdt Process\n",
        "  # Initialising a matrix of 0s to store the orthogonalized features\n",
        "  orthogonal_matrix = np.zeros((len(design_matrix), len(design_matrix[0])))\n",
        "\n",
        "  X = design_matrix\n",
        "\n",
        "  # Perform Gram-Schmidt orthogonalization\n",
        "  for i in range(len(X[0])):\n",
        "\n",
        "      # Computing the orthogonal component of the current feature\n",
        "      orthogonal_component = X[:, i].astype(float)\n",
        "      for j in range(i):\n",
        "          # Subtracting projections of previous orthogonalized features\n",
        "          projection = np.dot(X[:, i], orthogonal_matrix[:, j])\n",
        "          orthogonal_component -= projection * orthogonal_matrix[:, j]\n",
        "\n",
        "      orthogonal_component /= np.linalg.norm(orthogonal_component)\n",
        "\n",
        "      # Storing the orthogonalized feature in the matrix\n",
        "      orthogonal_matrix[:, i] = orthogonal_component\n",
        "\n",
        "  return orthogonal_matrix\n"
      ],
      "metadata": {
        "id": "Ljxqa5ZJvK9h"
      },
      "execution_count": 553,
      "outputs": []
    },
    {
      "cell_type": "code",
      "source": [
        "\n",
        "### Checking for orthogonality of the matrix\n",
        "dot_products = np.dot(design_matrix, design_matrix.T)\n",
        "\n",
        "# Assuming a small tolerance for orthogonality (e.g., 1e-10)\n",
        "tolerance = 1e-10\n",
        "is_orthogonal = np.all(np.abs(dot_products - np.diag(np.diagonal(dot_products))) < tolerance)\n",
        "\n",
        "if is_orthogonal:\n",
        "    print(\"The data matrix is orthogonal.\")\n",
        "else:\n",
        "    print(\"The data matrix is not orthogonal. Applying Gram-Schmidt orthogonalization.\")\n",
        "\n",
        "\n",
        "\n",
        "\n",
        "\n",
        "orthogonal_matrix = orthogonalize_matrix(design_matrix)\n",
        "correlation_matrix = np.corrcoef(design_matrix, rowvar=False)\n",
        "\n",
        "\n",
        "print()\n",
        "print(\"Initial Correlation Matrix:\")\n",
        "print(correlation_matrix)\n",
        "print()\n",
        "\n",
        "correlation_matrix = np.corrcoef(orthogonal_matrix, rowvar=False)\n",
        "\n",
        "print(\"Final Correlation Matrix:\")\n",
        "print(correlation_matrix)\n",
        "print()\n",
        "\n"
      ],
      "metadata": {
        "id": "pyapCyDwqQuI",
        "colab": {
          "base_uri": "https://localhost:8080/"
        },
        "outputId": "f30b63fe-31ad-438e-885b-724bd3a064cc"
      },
      "execution_count": 554,
      "outputs": [
        {
          "output_type": "stream",
          "name": "stdout",
          "text": [
            "The data matrix is not orthogonal. Applying Gram-Schmidt orthogonalization.\n",
            "\n",
            "Initial Correlation Matrix:\n",
            "[[ 1.          0.08423839  0.03519326]\n",
            " [ 0.08423839  1.         -0.1029845 ]\n",
            " [ 0.03519326 -0.1029845   1.        ]]\n",
            "\n",
            "Final Correlation Matrix:\n",
            "[[ 1.         -0.58446875 -0.38691506]\n",
            " [-0.58446875  1.         -0.0572272 ]\n",
            " [-0.38691506 -0.0572272   1.        ]]\n",
            "\n"
          ]
        }
      ]
    },
    {
      "cell_type": "code",
      "source": [
        "orthogonal_matrix"
      ],
      "metadata": {
        "id": "rN_1YASpZVe-"
      },
      "execution_count": null,
      "outputs": []
    },
    {
      "cell_type": "code",
      "source": [
        "x__1 = []\n",
        "x__2 = []\n",
        "x__3 = []\n",
        "for i in orthogonal_matrix:\n",
        "  x__1.append(i[0])\n",
        "  x__2.append(i[1])\n",
        "  x__3.append(i[2])\n"
      ],
      "metadata": {
        "id": "hMentzlQOpuV"
      },
      "execution_count": 555,
      "outputs": []
    },
    {
      "cell_type": "code",
      "source": [
        "# Just assigning the X/y values and viewing the data\n",
        "# X_1 = np.array(mlrm_df['Experience (Years)'], dtype = int)\n",
        "# X_2 = np.array(mlrm_df['Occupation Encoded'], dtype = int)\n",
        "# X_3 = np.array(mlrm_df['Education Encoded'], dtype = int)\n",
        "# X_mlrm = np.concatenate(X_1,X_2,X_3)\n",
        "X_1 = x__1\n",
        "X_2 = x__2\n",
        "X_3 = x__3\n",
        "X_orthogmlrm = []\n",
        "for i in range(dimensions_dataframe(gram_df)[0]):\n",
        "  element_list = [X_1[i], X_2[i], X_3[i]]\n",
        "  # X_mlrm.append(np.array(element_list))\n",
        "  X_orthogmlrm.append(element_list)\n",
        "\n",
        "X_orthogmlrm = np.array(X_orthogmlrm)\n"
      ],
      "metadata": {
        "id": "NrnIB6KvYCLZ"
      },
      "execution_count": 556,
      "outputs": []
    },
    {
      "cell_type": "code",
      "source": [
        "y_orthogmlrm = np.array(gram_df['Salary'])\n",
        "# X_mlrm[0:10], y_mlrm[0:10]\n",
        "orthogmlrm_model = LinearRegression(X = X_orthogmlrm, y = y_orthogmlrm) # Creating an object instance of the LinearRegression Class\n",
        "print(\"Intercept Education Encoded Occupation Encoded Experience (Years)\")\n",
        "print(orthogmlrm_model.calculate_coefficients()) # Calculating the coefficients"
      ],
      "metadata": {
        "colab": {
          "base_uri": "https://localhost:8080/"
        },
        "id": "nrZN946yYCCi",
        "outputId": "3041839d-a17d-4483-9343-059dce37969e"
      },
      "execution_count": 557,
      "outputs": [
        {
          "output_type": "stream",
          "name": "stdout",
          "text": [
            "Intercept Education Encoded Occupation Encoded Experience (Years)\n",
            "[107233.54570937   -181.8342622   66705.92434308 -38240.00992985]\n"
          ]
        }
      ]
    },
    {
      "cell_type": "code",
      "source": [
        "predictions = orthogmlrm_model.predict()\n",
        "coefficients = orthogmlrm_model.coefficients\n",
        "\n",
        "print(\"R Squared:\", orthogmlrm_model.calculate_RSquare())\n",
        "\n"
      ],
      "metadata": {
        "id": "mykyj6HXqQ1A",
        "colab": {
          "base_uri": "https://localhost:8080/"
        },
        "outputId": "cbe57b14-5794-4c49-da65-fceba70df1c9"
      },
      "execution_count": 559,
      "outputs": [
        {
          "output_type": "stream",
          "name": "stdout",
          "text": [
            "R Squared: 0.012800420415242542\n"
          ]
        }
      ]
    },
    {
      "cell_type": "markdown",
      "source": [
        "### Inference\n",
        "\n",
        "R Square for MLRM before Orthogonalisation: 0.012800420415242653  \n",
        "R Square for MLRM after Orthogonalisation: 0.012800420415242542  \n",
        "\n",
        "The R Squared values for a MLRM before and after orthogonalization are very close to each other.\n",
        "This can be due to the fact that orthogonalisation primarily affects the relationships between the predictor variables, making them uncorrelated with each other. It does not change the relationships between the predictors and the dependent variable. Furthermore, R Square depends on the relationships between the predictors and the dependent variable.  \n",
        "Therefore, the values before and after Orthogonalisation are nearly identical.\n"
      ],
      "metadata": {
        "id": "GlpdHUiwqQrz"
      }
    },
    {
      "cell_type": "markdown",
      "source": [
        "## Plotting Original Experience and Orthogonalized Experience"
      ],
      "metadata": {
        "id": "hClxLJDFqQpX"
      }
    },
    {
      "cell_type": "code",
      "source": [
        "exper_original = list(gram_df['Experience (Years)'])\n",
        "orthog_educ = []\n",
        "for i in orthogonal_matrix:\n",
        "  orthog_educ.append(i[2])\n",
        "orthog_educ\n",
        "\n"
      ],
      "metadata": {
        "id": "ohD_GbqFqQm7"
      },
      "execution_count": null,
      "outputs": []
    },
    {
      "cell_type": "code",
      "source": [
        "plt.scatter(exper_original, orthog_educ)\n",
        "plt.xlabel(\"Original Experience\")\n",
        "plt.ylabel(\"Orthogonal Experience\")\n",
        "plt.show()"
      ],
      "metadata": {
        "id": "4XM-IXtTb38T",
        "colab": {
          "base_uri": "https://localhost:8080/",
          "height": 850
        },
        "outputId": "644e5af8-48d4-43ae-eabb-8c25b546859d"
      },
      "execution_count": 561,
      "outputs": [
        {
          "output_type": "display_data",
          "data": {
            "text/plain": [
              "<Figure size 1000x1000 with 1 Axes>"
            ],
            "image/png": "[encoded data removed]"
          },
          "metadata": {}
        }
      ]
    },
    {
      "cell_type": "markdown",
      "source": [
        "### Inference\n",
        "\n",
        "There exists somewhat of a linear relationship between experience before and\n",
        "after being orthogonalised.  \n",
        "The orthogonalisation process is designed to preserve the linear relationships between the original predictor variables and the dependent variable while removing multicollinearity. It does not alter the fundamental linear relationships that exist in the data."
      ],
      "metadata": {
        "id": "upqdDsdgb3-B"
      }
    },
    {
      "cell_type": "code",
      "source": [],
      "metadata": {
        "id": "lb_idTSLb4AB"
      },
      "execution_count": null,
      "outputs": []
    },
    {
      "cell_type": "markdown",
      "source": [
        "# Unsupervised Learning"
      ],
      "metadata": {
        "id": "MVGGkqypb5NK"
      }
    },
    {
      "cell_type": "code",
      "source": [
        "# airplane_data"
      ],
      "metadata": {
        "id": "jS3bH55nb5RN"
      },
      "execution_count": null,
      "outputs": []
    },
    {
      "cell_type": "markdown",
      "source": [
        "## Unsupervised Principal Component Analysis"
      ],
      "metadata": {
        "id": "JkszXlskb5PR"
      }
    },
    {
      "cell_type": "code",
      "source": [
        "airplane_data"
      ],
      "metadata": {
        "id": "Zgrp39d5b5Tt"
      },
      "execution_count": null,
      "outputs": []
    },
    {
      "cell_type": "code",
      "source": [
        "preprocessed_df = copy_dataframe(airplane_data) #.copy() # creating a deep copy\n",
        "preprocessed_df = dropna_dataframe(airplane_data, [\"Location\",\"Operator\",\"Route\",\"Type\",\"Aboard\",\"Fatalities\",\"Ground\"]) # dropping all columns with NA in them\n",
        "preprocessed_df = getcols_dataframe(preprocessed_df,[\"Location\",\"Operator\",\"Route\",\"Type\",\"Aboard\",\"Fatalities\",\"Ground\"]) # extracting only the relevant columns\n",
        "preprocessed_df = label_encode_alphabetically(preprocessed_df,\"Location\") # Label encoding the data\n",
        "preprocessed_df = label_encode_alphabetically(preprocessed_df,\"Operator\") # Label encoding the data\n",
        "preprocessed_df = label_encode_alphabetically(preprocessed_df,\"Route\") # Label encoding the data\n",
        "preprocessed_df = label_encode_alphabetically(preprocessed_df,\"Type\") # Label encoding the data\n",
        "\n",
        "print(\"Dimensions of new data: \",dimensions_dataframe(preprocessed_df))\n",
        "# print_dataframe(preprocessed_df)"
      ],
      "metadata": {
        "id": "H2QQ87x3b5VY",
        "colab": {
          "base_uri": "https://localhost:8080/"
        },
        "outputId": "96981f46-95e3-453b-afba-275dd62f8b45"
      },
      "execution_count": 282,
      "outputs": [
        {
          "output_type": "stream",
          "name": "stdout",
          "text": [
            "HERE [142, 411, 564, 573, 588, 596, 704, 904, 1500, 1916, 1918, 1978, 2914, 2953, 3868, 3880, 4034, 4043, 4975, 5039, 61, 67, 106, 138, 164, 359, 482, 545, 618, 704, 772, 975, 2041, 2775, 3176, 4525, 4602, 5140, 2, 3, 4, 5, 6, 7, 8, 9, 10, 11, 12, 13, 14, 15, 16, 17, 18, 19, 20, 21, 22, 23, 24, 25, 26, 27, 28, 29, 30, 31, 32, 33, 34, 35, 36, 37, 38, 39, 40, 41, 42, 43, 44, 45, 46, 47, 48, 49, 50, 51, 52, 53, 54, 55, 57, 58, 59, 60, 61, 62, 63, 64, 65, 66, 67, 68, 69, 70, 71, 72, 73, 74, 75, 76, 77, 78, 79, 81, 82, 84, 85, 86, 87, 88, 89, 90, 91, 92, 93, 94, 95, 97, 98, 99, 100, 101, 103, 104, 105, 107, 108, 109, 110, 111, 112, 113, 114, 115, 116, 117, 118, 120, 122, 124, 125, 126, 127, 128, 129, 130, 131, 133, 134, 135, 136, 137, 138, 139, 140, 141, 142, 143, 144, 145, 147, 149, 151, 152, 153, 154, 155, 156, 157, 158, 160, 163, 164, 165, 167, 168, 169, 170, 171, 172, 173, 177, 178, 180, 181, 183, 184, 185, 186, 187, 188, 189, 192, 194, 195, 200, 201, 202, 203, 204, 205, 206, 207, 209, 212, 214, 215, 217, 219, 224, 226, 227, 230, 232, 234, 235, 237, 239, 240, 242, 245, 246, 248, 249, 251, 252, 254, 255, 259, 260, 266, 267, 271, 272, 273, 274, 277, 278, 280, 281, 282, 283, 284, 287, 288, 289, 290, 292, 294, 298, 299, 300, 301, 303, 304, 305, 307, 309, 312, 314, 317, 319, 322, 323, 328, 331, 332, 333, 335, 337, 338, 339, 341, 348, 350, 351, 353, 357, 359, 360, 364, 367, 369, 371, 372, 375, 377, 378, 380, 387, 393, 394, 395, 396, 398, 401, 402, 404, 405, 406, 407, 409, 410, 411, 413, 414, 415, 416, 417, 420, 423, 432, 434, 442, 443, 445, 449, 451, 457, 464, 465, 467, 469, 471, 472, 473, 474, 478, 481, 482, 485, 488, 489, 490, 493, 497, 498, 500, 502, 505, 508, 509, 510, 512, 513, 515, 516, 518, 519, 524, 527, 531, 536, 537, 539, 542, 544, 546, 548, 549, 550, 552, 554, 555, 557, 558, 559, 561, 562, 564, 567, 569, 570, 571, 572, 573, 574, 575, 576, 577, 578, 579, 580, 585, 586, 587, 588, 589, 590, 591, 592, 593, 596, 598, 600, 601, 602, 606, 611, 612, 615, 616, 617, 618, 623, 624, 625, 626, 627, 629, 630, 631, 632, 633, 634, 635, 636, 637, 639, 641, 642, 645, 646, 649, 650, 651, 652, 655, 658, 661, 662, 663, 664, 665, 668, 670, 672, 673, 674, 675, 678, 679, 680, 681, 682, 683, 685, 690, 692, 693, 694, 695, 696, 697, 698, 700, 703, 704, 706, 709, 710, 712, 714, 715, 716, 717, 719, 721, 722, 724, 727, 728, 729, 737, 738, 739, 740, 742, 745, 747, 748, 750, 752, 753, 756, 757, 760, 763, 771, 773, 774, 775, 780, 781, 782, 783, 785, 788, 789, 792, 793, 795, 800, 801, 806, 810, 811, 815, 823, 824, 827, 832, 836, 845, 857, 860, 861, 863, 868, 886, 895, 896, 898, 903, 904, 905, 908, 909, 916, 918, 919, 922, 925, 926, 929, 931, 934, 935, 937, 941, 944, 945, 946, 948, 950, 952, 956, 958, 959, 972, 974, 984, 987, 988, 992, 993, 995, 1000, 1002, 1016, 1024, 1034, 1036, 1039, 1041, 1051, 1052, 1053, 1054, 1058, 1059, 1067, 1071, 1074, 1078, 1090, 1093, 1094, 1096, 1097, 1098, 1103, 1110, 1112, 1114, 1115, 1117, 1118, 1120, 1126, 1129, 1130, 1131, 1135, 1138, 1139, 1142, 1144, 1146, 1148, 1149, 1152, 1158, 1161, 1163, 1165, 1167, 1171, 1172, 1176, 1177, 1178, 1181, 1182, 1185, 1189, 1190, 1191, 1192, 1193, 1195, 1202, 1204, 1207, 1208, 1214, 1215, 1216, 1217, 1218, 1220, 1221, 1224, 1227, 1228, 1231, 1232, 1233, 1235, 1237, 1239, 1242, 1243, 1244, 1252, 1254, 1255, 1256, 1261, 1266, 1269, 1273, 1274, 1277, 1278, 1287, 1292, 1294, 1295, 1296, 1297, 1302, 1303, 1305, 1307, 1309, 1313, 1317, 1319, 1320, 1321, 1323, 1328, 1330, 1338, 1339, 1341, 1343, 1350, 1351, 1355, 1357, 1360, 1366, 1370, 1377, 1378, 1381, 1387, 1389, 1401, 1402, 1403, 1404, 1405, 1408, 1411, 1412, 1413, 1417, 1419, 1422, 1428, 1429, 1439, 1440, 1444, 1449, 1459, 1468, 1474, 1475, 1477, 1478, 1481, 1483, 1484, 1485, 1490, 1495, 1496, 1500, 1504, 1505, 1511, 1514, 1516, 1522, 1523, 1525, 1527, 1529, 1530, 1538, 1540, 1545, 1547, 1550, 1553, 1554, 1555, 1557, 1558, 1559, 1560, 1562, 1563, 1572, 1585, 1593, 1595, 1607, 1610, 1612, 1615, 1628, 1636, 1637, 1638, 1643, 1649, 1655, 1656, 1669, 1674, 1675, 1679, 1690, 1693, 1700, 1704, 1707, 1716, 1721, 1726, 1728, 1729, 1732, 1733, 1740, 1746, 1749, 1750, 1753, 1754, 1766, 1772, 1776, 1777, 1780, 1783, 1784, 1786, 1788, 1791, 1796, 1798, 1799, 1803, 1805, 1807, 1809, 1811, 1813, 1822, 1826, 1827, 1828, 1830, 1832, 1834, 1837, 1843, 1844, 1854, 1855, 1856, 1861, 1862, 1864, 1866, 1867, 1869, 1873, 1876, 1877, 1885, 1887, 1890, 1893, 1895, 1896, 1902, 1905, 1908, 1909, 1910, 1912, 1914, 1917, 1923, 1926, 1929, 1930, 1938, 1939, 1940, 1941, 1943, 1944, 1945, 1946, 1948, 1950, 1952, 1954, 1955, 1956, 1957, 1958, 1959, 1962, 1964, 1965, 1967, 1973, 1976, 1980, 1985, 1989, 1990, 1997, 1999, 2001, 2003, 2005, 2006, 2010, 2013, 2015, 2019, 2022, 2024, 2025, 2027, 2029, 2030, 2034, 2038, 2040, 2041, 2044, 2045, 2046, 2047, 2050, 2051, 2052, 2055, 2056, 2059, 2064, 2065, 2066, 2068, 2071, 2075, 2076, 2077, 2078, 2079, 2080, 2084, 2085, 2088, 2091, 2093, 2094, 2095, 2096, 2098, 2100, 2101, 2104, 2110, 2113, 2116, 2117, 2119, 2120, 2121, 2127, 2128, 2129, 2130, 2131, 2132, 2133, 2135, 2137, 2138, 2142, 2145, 2147, 2151, 2155, 2156, 2157, 2159, 2160, 2161, 2163, 2165, 2169, 2171, 2172, 2173, 2174, 2177, 2178, 2179, 2183, 2184, 2185, 2186, 2189, 2190, 2191, 2192, 2196, 2203, 2204, 2207, 2208, 2210, 2211, 2213, 2214, 2217, 2218, 2221, 2222, 2224, 2225, 2227, 2229, 2230, 2233, 2235, 2236, 2237, 2238, 2240, 2244, 2246, 2247, 2248, 2249, 2250, 2252, 2254, 2255, 2256, 2257, 2258, 2259, 2261, 2262, 2265, 2268, 2269, 2271, 2272, 2279, 2284, 2287, 2291, 2293, 2298, 2301, 2303, 2304, 2305, 2307, 2309, 2310, 2311, 2313, 2315, 2318, 2321, 2331, 2334, 2335, 2337, 2339, 2340, 2349, 2350, 2354, 2359, 2360, 2361, 2364, 2368, 2370, 2372, 2375, 2377, 2380, 2388, 2390, 2392, 2393, 2395, 2396, 2397, 2399, 2400, 2401, 2403, 2405, 2412, 2417, 2419, 2420, 2421, 2425, 2427, 2434, 2436, 2440, 2441, 2443, 2445, 2453, 2454, 2457, 2462, 2471, 2474, 2482, 2496, 2500, 2503, 2505, 2509, 2512, 2514, 2524, 2530, 2534, 2537, 2538, 2543, 2545, 2546, 2552, 2554, 2560, 2561, 2565, 2566, 2571, 2575, 2577, 2578, 2579, 2585, 2586, 2587, 2590, 2593, 2600, 2603, 2610, 2611, 2617, 2624, 2627, 2635, 2636, 2637, 2639, 2641, 2643, 2645, 2648, 2649, 2651, 2655, 2656, 2660, 2672, 2685, 2686, 2687, 2688, 2690, 2695, 2696, 2699, 2703, 2705, 2706, 2710, 2713, 2714, 2721, 2724, 2725, 2727, 2734, 2735, 2740, 2741, 2745, 2754, 2755, 2763, 2765, 2767, 2774, 2775, 2777, 2780, 2785, 2786, 2787, 2789, 2790, 2793, 2798, 2804, 2809, 2811, 2817, 2821, 2826, 2830, 2836, 2839, 2851, 2854, 2855, 2857, 2858, 2860, 2866, 2869, 2872, 2877, 2879, 2881, 2891, 2893, 2896, 2897, 2900, 2905, 2908, 2909, 2926, 2928, 2929, 2936, 2937, 2940, 2944, 2953, 2954, 2955, 2957, 2965, 2969, 2970, 2974, 2976, 2978, 2979, 2980, 2990, 2993, 3006, 3007, 3011, 3013, 3017, 3018, 3019, 3025, 3027, 3033, 3042, 3050, 3058, 3064, 3067, 3071, 3082, 3083, 3085, 3086, 3088, 3089, 3093, 3099, 3100, 3104, 3107, 3110, 3111, 3112, 3117, 3118, 3125, 3127, 3130, 3136, 3142, 3151, 3152, 3153, 3159, 3161, 3162, 3163, 3164, 3168, 3170, 3177, 3185, 3188, 3190, 3191, 3195, 3199, 3204, 3207, 3209, 3210, 3211, 3213, 3216, 3220, 3221, 3222, 3224, 3227, 3236, 3237, 3242, 3245, 3246, 3247, 3248, 3249, 3251, 3253, 3255, 3256, 3260, 3264, 3270, 3272, 3274, 3276, 3277, 3280, 3283, 3285, 3288, 3290, 3291, 3297, 3298, 3304, 3305, 3307, 3311, 3313, 3317, 3318, 3323, 3324, 3327, 3328, 3330, 3333, 3334, 3338, 3344, 3351, 3352, 3354, 3355, 3356, 3357, 3361, 3362, 3364, 3370, 3371, 3373, 3376, 3377, 3380, 3384, 3386, 3387, 3390, 3394, 3395, 3396, 3399, 3401, 3403, 3404, 3408, 3410, 3412, 3413, 3416, 3418, 3420, 3421, 3422, 3429, 3430, 3431, 3433, 3434, 3437, 3441, 3442, 3444, 3449, 3452, 3458, 3461, 3462, 3463, 3465, 3466, 3467, 3468, 3469, 3471, 3472, 3474, 3476, 3478, 3479, 3480, 3481, 3483, 3484, 3485, 3486, 3487, 3488, 3495, 3497, 3501, 3503, 3506, 3512, 3513, 3515, 3517, 3519, 3521, 3522, 3523, 3537, 3539, 3543, 3548, 3552, 3555, 3558, 3563, 3569, 3575, 3578, 3582, 3583, 3586, 3588, 3593, 3595, 3597, 3600, 3603, 3605, 3606, 3608, 3610, 3611, 3615, 3618, 3622, 3623, 3626, 3629, 3630, 3641, 3646, 3647, 3648, 3654, 3656, 3657, 3664, 3668, 3669, 3671, 3672, 3674, 3676, 3678, 3684, 3691, 3692, 3693, 3694, 3697, 3700, 3703, 3707, 3709, 3710, 3712, 3714, 3716, 3723, 3727, 3730, 3734, 3741, 3744, 3752, 3753, 3759, 3761, 3768, 3770, 3773, 3776, 3782, 3784, 3785, 3790, 3797, 3807, 3810, 3813, 3815, 3822, 3831, 3835, 3843, 3857, 3859, 3862, 3878, 3880, 3881, 3883, 3884, 3886, 3887, 3889, 3894, 3896, 3897, 3898, 3900, 3911, 3927, 3928, 3929, 3930, 3932, 3934, 3937, 3938, 3941, 3946, 3948, 3953, 3954, 3955, 3956, 3958, 3959, 3961, 3969, 3971, 3974, 3976, 3977, 3980, 3982, 3983, 3986, 3987, 3988, 3990, 3997, 3999, 4001, 4002, 4003, 4005, 4011, 4016, 4023, 4024, 4037, 4041, 4042, 4043, 4045, 4046, 4047, 4048, 4049, 4054, 4056, 4058, 4059, 4061, 4062, 4069, 4080, 4089, 4090, 4091, 4106, 4109, 4112, 4124, 4129, 4133, 4138, 4140, 4141, 4143, 4146, 4151, 4153, 4156, 4158, 4161, 4165, 4166, 4171, 4173, 4182, 4183, 4186, 4187, 4188, 4191, 4192, 4198, 4200, 4206, 4218, 4233, 4234, 4238, 4242, 4243, 4247, 4262, 4287, 4291, 4292, 4300, 4301, 4305, 4321, 4338, 4350, 4352, 4372, 4373, 4374, 4379, 4380, 4389, 4392, 4393, 4399, 4409, 4415, 4422, 4440, 4443, 4444, 4446, 4456, 4457, 4478, 4481, 4482, 4490, 4492, 4498, 4510, 4512, 4517, 4520, 4522, 4523, 4524, 4543, 4545, 4546, 4555, 4567, 4575, 4582, 4585, 4596, 4599, 4602, 4607, 4613, 4635, 4646, 4663, 4668, 4675, 4679, 4683, 4708, 4711, 4712, 4713, 4730, 4733, 4744, 4758, 4764, 4772, 4829, 4831, 4839, 4843, 4855, 4856, 4865, 4867, 4869, 4875, 4878, 4879, 4886, 4890, 4900, 4924, 4928, 4931, 4933, 4935, 4936, 4946, 4954, 4955, 4960, 4963, 4978, 5024, 5028, 5085, 5094, 5101, 5117, 5133, 5139, 5144, 5151, 5156, 5174, 5192, 5199, 5211, 5230, 5249, 49, 52, 61, 86, 97, 114, 138, 220, 359, 545, 567, 632, 678, 717, 767, 768, 772, 773, 806, 1144, 1190, 1355, 1386, 2289, 4399, 4602, 5094, 26, 333, 348, 364, 423, 526, 537, 570, 571, 573, 587, 593, 678, 768, 832, 1479, 3007, 3323, 3369, 3843, 4080, 4705, 26, 333, 364, 423, 537, 570, 571, 573, 593, 678, 768, 4705, 26, 228, 308, 310, 333, 364, 423, 527, 537, 570, 571, 573, 593, 643, 678, 768, 1177, 1186, 1822, 4705, 4709, 5264]\n",
            "Dimensions of new data:  (3531, 11)\n"
          ]
        }
      ]
    },
    {
      "cell_type": "code",
      "source": [
        "X_1 = preprocessed_df['Location Encoded']\n",
        "X_2 = preprocessed_df['Operator Encoded']\n",
        "X_3 = preprocessed_df['Route Encoded']\n",
        "X_4 = preprocessed_df['Type Encoded']\n",
        "X_5 = preprocessed_df['Aboard']\n",
        "X_6 = preprocessed_df['Fatalities']\n",
        "X_7 = preprocessed_df['Ground']\n",
        "unsuper_pca_df_fin = []\n",
        "for i in range(dimensions_dataframe(preprocessed_df)[0]):\n",
        "  element_list = [X_1[i], X_2[i], X_3[i], X_4[i], X_5[i], X_6[i], X_7[i]]\n",
        "  # X_mlrm.append(np.array(element_list))\n",
        "  unsuper_pca_df_fin.append(element_list)\n",
        "\n",
        "unsuper_pca_df = np.array(unsuper_pca_df_fin)\n"
      ],
      "metadata": {
        "id": "aRcBsmU7b5Z2"
      },
      "execution_count": 291,
      "outputs": []
    },
    {
      "cell_type": "code",
      "source": [
        "unsuper_pca_df"
      ],
      "metadata": {
        "colab": {
          "base_uri": "https://localhost:8080/"
        },
        "id": "cGJfUwaMbNDM",
        "outputId": "bd27a574-5a26-45ae-9ffa-3bbfb9cda3c5"
      },
      "execution_count": 292,
      "outputs": [
        {
          "output_type": "execute_result",
          "data": {
            "text/plain": [
              "array([[5.650e+02, 1.187e+03, 8.240e+02, ..., 2.000e+00, 1.000e+00,\n",
              "        0.000e+00],\n",
              "       [8.000e+01, 1.193e+03, 2.956e+03, ..., 5.000e+00, 5.000e+00,\n",
              "        0.000e+00],\n",
              "       [2.363e+03, 7.710e+02, 3.092e+03, ..., 5.000e+00, 5.000e+00,\n",
              "        0.000e+00],\n",
              "       ...,\n",
              "       [8.500e+01, 1.600e+02, 2.498e+03, ..., 2.280e+02, 2.280e+02,\n",
              "        0.000e+00],\n",
              "       [1.849e+03, 1.625e+03, 1.660e+03, ..., 1.000e+00, 1.000e+00,\n",
              "        0.000e+00],\n",
              "       [2.710e+03, 1.133e+03, 1.796e+03, ..., 1.300e+01, 1.300e+01,\n",
              "        0.000e+00]])"
            ]
          },
          "metadata": {},
          "execution_count": 292
        }
      ]
    },
    {
      "cell_type": "code",
      "source": [
        "unsuper_pca_ele = PCA(2)\n",
        "throw_1, throw_2, eigenvalues_PCAUNSUP = unsuper_pca_ele.fit(unsuper_pca_df)\n",
        "unsup_pca_projected = unsuper_pca_ele.transform(unsuper_pca_df)\n",
        "print(\"Shape of X:\", unsuper_pca_df.shape)\n",
        "print(\"Shape of transformed X:\", unsup_pca_projected.shape)"
      ],
      "metadata": {
        "id": "dYlm9bF8b5eP"
      },
      "execution_count": null,
      "outputs": []
    },
    {
      "cell_type": "code",
      "source": [
        "covariance_matrix = np.cov(throw_1, rowvar=False)\n",
        "# Calculate the eigenvalues of the covariance matrix\n",
        "eigenvalues = np.linalg.eigvals(covariance_matrix)\n",
        "\n",
        "# Calculate the explained variance ratios\n",
        "explained_variance_ratios = eigenvalues/(np.sum(eigenvalues_PCAUNSUP))\n",
        "# Print the explained variance for each component\n",
        "for i,explained_variance in enumerate(explained_variance_ratios):\n",
        "  print (f\"Explained Variance for Principal Component {i+1}: {explained_variance:.4f}\")"
      ],
      "metadata": {
        "id": "kdyUFOfIGj4Z",
        "colab": {
          "base_uri": "https://localhost:8080/"
        },
        "outputId": "90b61b32-67e9-4796-be10-5f39df3a621e"
      },
      "execution_count": 590,
      "outputs": [
        {
          "output_type": "stream",
          "name": "stdout",
          "text": [
            "Explained Variance for Principal Component 1: 0.2512\n",
            "Explained Variance for Principal Component 2: 0.1705\n"
          ]
        }
      ]
    },
    {
      "cell_type": "markdown",
      "source": [
        "## K-Means"
      ],
      "metadata": {
        "id": "KF2DEJatb5h5"
      }
    },
    {
      "cell_type": "code",
      "source": [
        "def kmeans(data, k, max_iters=10000):\n",
        "\n",
        "    # Randomly initializing cluster centroids\n",
        "    centroids = np.random.choice(list(data), size=k, replace=False)\n",
        "    point_to_cluster = {}\n",
        "\n",
        "    for _ in range(max_iters):\n",
        "\n",
        "        point_to_cluster_idx = 0\n",
        "        # Assigning each data point to the nearest cluster\n",
        "        clusters = [[] for _ in range(k)]\n",
        "        for point in data:\n",
        "            distances = [np.linalg.norm(point - centroid) for centroid in centroids] # calculating the norm between each point and the centroid\n",
        "            cluster_index = np.argmin(distances) # finding the index of the minimum distance\n",
        "            clusters[cluster_index].append(point) # adding the point to the corresponding cluster list\n",
        "\n",
        "            point_to_cluster[point_to_cluster_idx] = cluster_index # storing which point maps to which cluster\n",
        "            point_to_cluster_idx += 1\n",
        "\n",
        "        # Updating the cluster centroids\n",
        "        new_centroids = [np.mean(cluster, axis=0) for cluster in clusters]\n",
        "\n",
        "        # Checking for convergence\n",
        "        # if np.allclose(centroids, new_centroids, rtol=1e-8): #\n",
        "        #     break\n",
        "\n",
        "        centroids = new_centroids # updating the centroids\n",
        "\n",
        "    return centroids, clusters, point_to_cluster\n",
        "\n",
        "def kmeans_multiple(data, k, max_iters=10000):\n",
        "\n",
        "    num_samples, num_features = dimensions_dataframe(data)\n",
        "    n_rows = num_samples\n",
        "    n_cols = num_features\n",
        "\n",
        "\n",
        "    list_col = [] # appending all column names\n",
        "    for i in data: # iterating through all column names\n",
        "      list_col.append(i)\n",
        "\n",
        "    # Randomly initialize cluster centroids\n",
        "    centroids_indices = np.random.choice(n_rows, size=k, replace=False) # random list of initial indices\n",
        "\n",
        "    centroids = [] # empty list of centroids\n",
        "    for i in centroids_indices: # iterating through all the centroids_indices\n",
        "      list_ele = [] # list of elements\n",
        "      for j in list_col: # iterating through the column names\n",
        "        element = data[j][i] # accessing element using dataframe[column name][centroid indice]\n",
        "        list_ele.append(element) # appending each element to list_ele\n",
        "\n",
        "      centroids.append(list_ele)  # Use randomly selected data points as centroids\n",
        "\n",
        "    point_to_cluster = {}\n",
        "\n",
        "    for _ in range(max_iters):\n",
        "        # Assign each data point to the nearest cluster\n",
        "        clusters = [[] for _ in range(k)]\n",
        "        point_to_cluster_idx = 0\n",
        "\n",
        "\n",
        "        for i in range(n_rows):\n",
        "            point = []\n",
        "            for j in list_col:\n",
        "                point.append(data[j][i])\n",
        "\n",
        "            # point = [data[\"Location Encoded\"][i],data[\"Operator Encoded\"][i]]\n",
        "            point = np.array(point)\n",
        "            distances = [np.linalg.norm(point - centroid) for centroid in centroids]  # Calculate Euclidean distances\n",
        "            cluster_index = np.argmin(distances)  # Find the index of the minimum distance\n",
        "            clusters[cluster_index].append(point)  # Add the point to the corresponding cluster list\n",
        "\n",
        "            point_to_cluster[point_to_cluster_idx] = cluster_index  # Store which point maps to which cluster\n",
        "            point_to_cluster_idx += 1\n",
        "\n",
        "        # Update cluster centroids\n",
        "        new_centroids = [np.mean(cluster, axis=0) for cluster in clusters]\n",
        "\n",
        "        # Check for convergence by comparing centroids\n",
        "        # if np.allclose(centroids, new_centroids, rtol=1e-8):\n",
        "        #     break\n",
        "\n",
        "        centroids = new_centroids  # Update the centroids\n",
        "\n",
        "    return centroids, clusters, point_to_cluster\n",
        "\n"
      ],
      "metadata": {
        "id": "MAbM-ZkGb0py"
      },
      "execution_count": 408,
      "outputs": []
    },
    {
      "cell_type": "code",
      "source": [
        "# airplane_data[\"Ground\"][0]\n",
        "# for i in airplane_data:\n",
        "#   print(i)"
      ],
      "metadata": {
        "id": "9PeUZ_H3OBm0"
      },
      "execution_count": null,
      "outputs": []
    },
    {
      "cell_type": "code",
      "source": [],
      "metadata": {
        "id": "f7zow1fh7iw5"
      },
      "execution_count": null,
      "outputs": []
    },
    {
      "cell_type": "markdown",
      "source": [
        "### 1D Data"
      ],
      "metadata": {
        "id": "7n4KKILFHHbM"
      }
    },
    {
      "cell_type": "code",
      "source": [
        "# reprocessed_df = dropna_dataframe(airplane_data, [\"Location\",\"Operator\",\"Route\",\"Type\",\"Aboard\",\"Fatalities\",\"Ground\"]) # dropping all columns with NA in them\n",
        "# preprocessed_df = getcols_dataframe(preprocessed_df,[\"Location\",\"Operator\",\"Route\",\"Type\",\"Aboard\",\"Fatalities\",\"Ground\"]) # extracting only the relevant columns\n",
        "# preprocessed_df = label_encode_alphabetically(preprocessed_df,\"Location\") # Label encoding the data\n",
        "# preprocessed_df = label_encode_alphabetically(preprocessed_df,\"Operator\") # Label encoding the data\n",
        "# preprocessed_df = label_encode_alphabetically(preprocessed_df,\"Route\") # Label encoding the data"
      ],
      "metadata": {
        "id": "T-AFO9swhRIn"
      },
      "execution_count": null,
      "outputs": []
    },
    {
      "cell_type": "code",
      "source": [
        "type_df = dropna_dataframe(airplane_data, [\"Type\"]) # dropping invalid values\n",
        "type_df = label_encode_alphabetically(type_df, \"Type\")\n",
        "# print_dataframe(type_df)\n",
        "\n",
        "dimensions_dataframe(type_df)\n"
      ],
      "metadata": {
        "colab": {
          "base_uri": "https://localhost:8080/"
        },
        "id": "-szRQyGRb0va",
        "outputId": "959aa9f8-fb17-4d8a-c092-aeaabc06bced"
      },
      "execution_count": 409,
      "outputs": [
        {
          "output_type": "stream",
          "name": "stdout",
          "text": [
            "HERE [49, 52, 61, 86, 97, 114, 138, 220, 359, 545, 567, 632, 678, 717, 767, 768, 772, 773, 806, 1144, 1190, 1355, 1386, 2289, 4399, 4602, 5094]\n"
          ]
        },
        {
          "output_type": "execute_result",
          "data": {
            "text/plain": [
              "(5241, 14)"
            ]
          },
          "metadata": {},
          "execution_count": 409
        }
      ]
    },
    {
      "cell_type": "code",
      "source": [
        "k_in_kmeans = 3\n",
        "centroids_typecol, clusters_typecol, ptocluster_typecol = kmeans(type_df[\"Type Encoded\"],k_in_kmeans,1000)"
      ],
      "metadata": {
        "id": "0Jel4aEmktw9"
      },
      "execution_count": 482,
      "outputs": []
    },
    {
      "cell_type": "code",
      "source": [
        "clusters_typecol"
      ],
      "metadata": {
        "id": "jC2VMMXpfiXW"
      },
      "execution_count": null,
      "outputs": []
    },
    {
      "cell_type": "code",
      "source": [
        "# type_df[\"Aboard\"]\n",
        "len(clusters_typecol)\n",
        "# centroids_typecol\n",
        "# ptocluster_typecol\n",
        "silhouette_list_type = []\n",
        "for i in range(len(clusters_typecol)):\n",
        "  # print(clusters_locop[i])\n",
        "  for j in clusters_typecol[i]:\n",
        "    list_sil = [j]\n",
        "    silhouette_list_type.append(list_sil)\n",
        "\n",
        "silhouette_list_type = np.array(silhouette_list_type)\n",
        "silhouette_list_type"
      ],
      "metadata": {
        "colab": {
          "base_uri": "https://localhost:8080/"
        },
        "id": "RTFtD5m5nYaK",
        "outputId": "1b6faf3b-fb44-4596-d11a-30ac4255563e"
      },
      "execution_count": 491,
      "outputs": [
        {
          "output_type": "execute_result",
          "data": {
            "text/plain": [
              "array([[2336],\n",
              "       [2350],\n",
              "       [2352],\n",
              "       ...,\n",
              "       [1307],\n",
              "       [1387],\n",
              "       [ 827]])"
            ]
          },
          "metadata": {},
          "execution_count": 491
        }
      ]
    },
    {
      "cell_type": "code",
      "source": [
        "PTOCLUSTERFINAL_type = []\n",
        "cluter_no = 0\n",
        "for i in clusters_typecol:\n",
        "  for j in i:\n",
        "    PTOCLUSTERFINAL_type.append(cluter_no)\n",
        "  cluter_no+=1\n",
        "\n"
      ],
      "metadata": {
        "id": "rWd8ejbigKbX"
      },
      "execution_count": 504,
      "outputs": []
    },
    {
      "cell_type": "code",
      "source": [
        "colour_list = ['b','c','g','pink','m','r','w','y']\n",
        "plt.rcParams[\"figure.figsize\"] = [10.00,10.00]\n",
        "plt.rcParams[\"figure.autolayout\"] = False\n",
        "plt.xlim(-100,2500)\n",
        "plt.ylim(-2,2)\n",
        "plt.grid()\n",
        "# plt.plot(x, y, marker=\"o\", markersize=5, markeredgecolor=\"red\", markerfacecolor=\"green\")\n",
        "for i in range(len(clusters_typecol)):\n",
        "  for j in clusters_typecol[i]:\n",
        "    x = j\n",
        "    y = 0\n",
        "    # colour = colour_list[ptocluster_typecol[i]]\n",
        "    colour = colour_list[i]\n",
        "\n",
        "    plt.plot(x, y, marker=\"o\", markersize=5, color=colour)\n",
        "\n",
        "for i in centroids_typecol:\n",
        "  x = i\n",
        "  y = 0\n",
        "  plt.plot(x, y, marker=\"x\", markersize=10, color=\"black\")\n",
        "\n",
        "plt.xlabel(\"Type\")\n",
        "plt.legend()\n",
        "plt.grid(True)\n",
        "\n",
        "\n",
        "plt.show()"
      ],
      "metadata": {
        "colab": {
          "base_uri": "https://localhost:8080/",
          "height": 893
        },
        "id": "-eLgYYqO9-dm",
        "outputId": "5ff86163-e11b-46dc-eb51-9c52a305cf94"
      },
      "execution_count": 492,
      "outputs": [
        {
          "output_type": "stream",
          "name": "stderr",
          "text": [
            "WARNING:matplotlib.legend:No artists with labels found to put in legend.  Note that artists whose label start with an underscore are ignored when legend() is called with no argument.\n"
          ]
        },
        {
          "output_type": "display_data",
          "data": {
            "text/plain": [
              "<Figure size 1000x1000 with 1 Axes>"
            ],
            "image/png": "[encoded data removed]"
          },
          "metadata": {}
        }
      ]
    },
    {
      "cell_type": "markdown",
      "source": [
        "### 2D Data"
      ],
      "metadata": {
        "id": "Js3ECUbFHKPt"
      }
    },
    {
      "cell_type": "markdown",
      "source": [
        "#### Location & Operator"
      ],
      "metadata": {
        "id": "aBfFzfCgm2B5"
      }
    },
    {
      "cell_type": "code",
      "source": [
        "locop_df = dropna_dataframe(airplane_data,[\"Location\",\"Operator\"])\n",
        "locop_df = label_encode_alphabetically(locop_df, \"Location\")\n",
        "locop_df = label_encode_alphabetically(locop_df, \"Operator\")\n",
        "del_list_dict = []\n",
        "for i in locop_df:\n",
        "  if i not in [\"Location Encoded\",\"Operator Encoded\"]:\n",
        "    del_list_dict.append(i)\n",
        "\n",
        "for i in del_list_dict:\n",
        "  del locop_df[i]\n",
        "\n",
        "# print_dataframe(locop_df)\n",
        "dimensions_dataframe(locop_df)"
      ],
      "metadata": {
        "colab": {
          "base_uri": "https://localhost:8080/"
        },
        "id": "4vGq4nxXEb05",
        "outputId": "99b3b70b-a8e9-4714-a2cd-147d4ffff8e2"
      },
      "execution_count": 337,
      "outputs": [
        {
          "output_type": "stream",
          "name": "stdout",
          "text": [
            "HERE [142, 411, 564, 573, 588, 596, 704, 904, 1500, 1916, 1918, 1978, 2914, 2953, 3868, 3880, 4034, 4043, 4975, 5039, 61, 67, 106, 138, 164, 359, 482, 545, 618, 704, 772, 975, 2041, 2775, 3176, 4525, 4602, 5140]\n"
          ]
        },
        {
          "output_type": "execute_result",
          "data": {
            "text/plain": [
              "(5231, 2)"
            ]
          },
          "metadata": {},
          "execution_count": 337
        }
      ]
    },
    {
      "cell_type": "code",
      "source": [
        "# locop_df"
      ],
      "metadata": {
        "id": "d7MTHDXokZ0z"
      },
      "execution_count": 358,
      "outputs": []
    },
    {
      "cell_type": "code",
      "source": [
        "k_in_kmeans = 4\n",
        "centroids_locop, clusters_locop, ptocluster_locop = kmeans_multiple(locop_df,k_in_kmeans,1000)\n"
      ],
      "metadata": {
        "id": "4NqwiLEai47g"
      },
      "execution_count": 339,
      "outputs": []
    },
    {
      "cell_type": "code",
      "source": [
        "for i in clusters_locop:\n",
        "  print(len(i))"
      ],
      "metadata": {
        "colab": {
          "base_uri": "https://localhost:8080/"
        },
        "id": "dTZwpVMh4H_F",
        "outputId": "10847727-f4a8-4036-f851-ab09e3756ab0"
      },
      "execution_count": 508,
      "outputs": [
        {
          "output_type": "stream",
          "name": "stdout",
          "text": [
            "1341\n",
            "1082\n",
            "1465\n",
            "1343\n"
          ]
        }
      ]
    },
    {
      "cell_type": "code",
      "source": [
        "# np.array(list(ptocluster_locop.values()))"
      ],
      "metadata": {
        "id": "KBoaH9eT53XU"
      },
      "execution_count": 510,
      "outputs": []
    },
    {
      "cell_type": "code",
      "source": [
        "# for j in clusters_locop[0]:\n",
        "#   print(j[0], type(j))"
      ],
      "metadata": {
        "id": "bQUpJFgP4Rai"
      },
      "execution_count": 511,
      "outputs": []
    },
    {
      "cell_type": "code",
      "source": [
        "silhouette_list_locop = []\n",
        "for i in range(len(clusters_locop)):\n",
        "  # print(clusters_locop[i])\n",
        "  for j in clusters_locop[i]:\n",
        "    list_sil = [j[0],j[1]]\n",
        "    silhouette_list_locop.append(list_sil)\n",
        "\n",
        "silhouette_list_locop = np.array(silhouette_list_locop)\n",
        "silhouette_list_locop"
      ],
      "metadata": {
        "colab": {
          "base_uri": "https://localhost:8080/"
        },
        "id": "4pbHQdnCYdLA",
        "outputId": "02807d1c-2175-46f6-98b3-03cff2cc2391"
      },
      "execution_count": 512,
      "outputs": [
        {
          "output_type": "execute_result",
          "data": {
            "text/plain": [
              "array([[ 786,  378],\n",
              "       [ 228,  630],\n",
              "       [ 635, 1057],\n",
              "       ...,\n",
              "       [ 173, 1475],\n",
              "       [1717, 1607],\n",
              "       [2143, 1591]])"
            ]
          },
          "metadata": {},
          "execution_count": 512
        }
      ]
    },
    {
      "cell_type": "code",
      "source": [
        "PTOCLUSTERFINAL_locop = []\n",
        "cluter_no = 0\n",
        "for i in clusters_locop:\n",
        "  for j in range(len(i)):\n",
        "    PTOCLUSTERFINAL_locop.append(cluter_no)\n",
        "  cluter_no+=1\n",
        "\n"
      ],
      "metadata": {
        "id": "szLPSXQxh1r-"
      },
      "execution_count": 513,
      "outputs": []
    },
    {
      "cell_type": "code",
      "source": [
        "colour_list = ['b','c','g','r','m','pink','w','y']\n",
        "plt.rcParams[\"figure.figsize\"] = [10.00,10.00]\n",
        "plt.rcParams[\"figure.autolayout\"] = False\n",
        "plt.xlim(-100,4400)\n",
        "plt.ylim(-100,2600)\n",
        "plt.grid()\n",
        "\n",
        "for i in range(len(clusters_locop)):\n",
        "  x = None\n",
        "  y = None\n",
        "  colour = colour_list[i]\n",
        "  for j in clusters_locop[i]:\n",
        "    x = j[0]\n",
        "    y = j[1]\n",
        "    # colour = colour_list[ptocluster_typecol[i]]\n",
        "    plt.plot(x, y, marker=\"o\", markersize=5, color=colour)\n",
        "\n",
        "\n",
        "  # plt.plot(x, y, marker=\"o\", markersize=5, color=colour)\n",
        "\n",
        "for i in range(len(centroids_locop)):\n",
        "  x = centroids_locop[i][0]\n",
        "  y = centroids_locop[i][1]\n",
        "  plt.plot(x, y, marker=\"x\", markersize=10, color=\"black\")\n",
        "\n",
        "\n",
        "plt.xlabel(\"Location\")\n",
        "plt.ylabel(\"Operator\")\n",
        "plt.show()"
      ],
      "metadata": {
        "colab": {
          "base_uri": "https://localhost:8080/",
          "height": 850
        },
        "id": "sdDbImDaEvJJ",
        "outputId": "a15e1bb6-9d9e-454e-c3f0-d3b32330e474"
      },
      "execution_count": 490,
      "outputs": [
        {
          "output_type": "display_data",
          "data": {
            "text/plain": [
              "<Figure size 1000x1000 with 1 Axes>"
            ],
            "image/png": "[encoded data removed]"
          },
          "metadata": {}
        }
      ]
    },
    {
      "cell_type": "markdown",
      "source": [
        "###### Inference\n",
        "\n",
        "The cluster sizes are relatively equal which indiactes that our clustering has been performed adequately. This is supported by the silhouette score which is 0.3702497536708594 and is moderate.\n",
        "\n",
        "\n",
        "\n",
        "\n",
        "\n"
      ],
      "metadata": {
        "id": "grpVRISI41GZ"
      }
    },
    {
      "cell_type": "markdown",
      "source": [
        "#### Route & Fatalities"
      ],
      "metadata": {
        "id": "5wARATKQb03v"
      }
    },
    {
      "cell_type": "code",
      "source": [
        "from collections import OrderedDict\n",
        "route_df = dropna_dataframe(airplane_data,[\"Route\",\"Fatalities\"])\n",
        "new_dict_route = {}\n",
        "list_fatalities_aj = []\n",
        "\n",
        "\n",
        "for i in range(dimensions_dataframe(route_df)[0]):\n",
        "  if route_df[\"Route\"][i] not in new_dict_route:\n",
        "    new_dict_route[route_df[\"Route\"][i]] = 1\n",
        "  else:\n",
        "    new_dict_route[route_df[\"Route\"][i]] += 1\n",
        "\n",
        "  # new_dict_route[route_df[\"Route\"][i]] = route_df[\"Fatalities\"][i]\n",
        "\n",
        "# Sorting the dictionary according to values\n",
        "new_dict_route_keys = list(new_dict_route.keys())\n",
        "new_dict_route_values = list(new_dict_route.values())\n",
        "sorted_value_index = np.argsort(new_dict_route_values)\n",
        "sorted_dict_route = {new_dict_route_keys[i]: new_dict_route_values[i] for i in sorted_value_index}\n",
        "\n",
        "print(sorted_dict_route)\n",
        "\n",
        "final_sorted_dict = {}\n",
        "k = 1\n",
        "\n",
        "# Label encoding according to fatalities in ascending order\n",
        "for i in sorted_dict_route:\n",
        "  final_sorted_dict[i] = k\n",
        "  k+=1\n",
        "\n",
        "\n",
        "\n",
        "len(sorted_dict_route)\n"
      ],
      "metadata": {
        "colab": {
          "base_uri": "https://localhost:8080/"
        },
        "id": "wxKF9sY3-n_L",
        "outputId": "27e9acaa-114c-47d9-9e33-6ef39d5707f9"
      },
      "execution_count": 603,
      "outputs": [
        {
          "output_type": "stream",
          "name": "stdout",
          "text": [
            "HERE [2, 3, 4, 5, 6, 7, 8, 9, 10, 11, 12, 13, 14, 15, 16, 17, 18, 19, 20, 21, 22, 23, 24, 25, 26, 27, 28, 29, 30, 31, 32, 33, 34, 35, 36, 37, 38, 39, 40, 41, 42, 43, 44, 45, 46, 47, 48, 49, 50, 51, 52, 53, 54, 55, 57, 58, 59, 60, 61, 62, 63, 64, 65, 66, 67, 68, 69, 70, 71, 72, 73, 74, 75, 76, 77, 78, 79, 81, 82, 84, 85, 86, 87, 88, 89, 90, 91, 92, 93, 94, 95, 97, 98, 99, 100, 101, 103, 104, 105, 107, 108, 109, 110, 111, 112, 113, 114, 115, 116, 117, 118, 120, 122, 124, 125, 126, 127, 128, 129, 130, 131, 133, 134, 135, 136, 137, 138, 139, 140, 141, 142, 143, 144, 145, 147, 149, 151, 152, 153, 154, 155, 156, 157, 158, 160, 163, 164, 165, 167, 168, 169, 170, 171, 172, 173, 177, 178, 180, 181, 183, 184, 185, 186, 187, 188, 189, 192, 194, 195, 200, 201, 202, 203, 204, 205, 206, 207, 209, 212, 214, 215, 217, 219, 224, 226, 227, 230, 232, 234, 235, 237, 239, 240, 242, 245, 246, 248, 249, 251, 252, 254, 255, 259, 260, 266, 267, 271, 272, 273, 274, 277, 278, 280, 281, 282, 283, 284, 287, 288, 289, 290, 292, 294, 298, 299, 300, 301, 303, 304, 305, 307, 309, 312, 314, 317, 319, 322, 323, 328, 331, 332, 333, 335, 337, 338, 339, 341, 348, 350, 351, 353, 357, 359, 360, 364, 367, 369, 371, 372, 375, 377, 378, 380, 387, 393, 394, 395, 396, 398, 401, 402, 404, 405, 406, 407, 409, 410, 411, 413, 414, 415, 416, 417, 420, 423, 432, 434, 442, 443, 445, 449, 451, 457, 464, 465, 467, 469, 471, 472, 473, 474, 478, 481, 482, 485, 488, 489, 490, 493, 497, 498, 500, 502, 505, 508, 509, 510, 512, 513, 515, 516, 518, 519, 524, 527, 531, 536, 537, 539, 542, 544, 546, 548, 549, 550, 552, 554, 555, 557, 558, 559, 561, 562, 564, 567, 569, 570, 571, 572, 573, 574, 575, 576, 577, 578, 579, 580, 585, 586, 587, 588, 589, 590, 591, 592, 593, 596, 598, 600, 601, 602, 606, 611, 612, 615, 616, 617, 618, 623, 624, 625, 626, 627, 629, 630, 631, 632, 633, 634, 635, 636, 637, 639, 641, 642, 645, 646, 649, 650, 651, 652, 655, 658, 661, 662, 663, 664, 665, 668, 670, 672, 673, 674, 675, 678, 679, 680, 681, 682, 683, 685, 690, 692, 693, 694, 695, 696, 697, 698, 700, 703, 704, 706, 709, 710, 712, 714, 715, 716, 717, 719, 721, 722, 724, 727, 728, 729, 737, 738, 739, 740, 742, 745, 747, 748, 750, 752, 753, 756, 757, 760, 763, 771, 773, 774, 775, 780, 781, 782, 783, 785, 788, 789, 792, 793, 795, 800, 801, 806, 810, 811, 815, 823, 824, 827, 832, 836, 845, 857, 860, 861, 863, 868, 886, 895, 896, 898, 903, 904, 905, 908, 909, 916, 918, 919, 922, 925, 926, 929, 931, 934, 935, 937, 941, 944, 945, 946, 948, 950, 952, 956, 958, 959, 972, 974, 984, 987, 988, 992, 993, 995, 1000, 1002, 1016, 1024, 1034, 1036, 1039, 1041, 1051, 1052, 1053, 1054, 1058, 1059, 1067, 1071, 1074, 1078, 1090, 1093, 1094, 1096, 1097, 1098, 1103, 1110, 1112, 1114, 1115, 1117, 1118, 1120, 1126, 1129, 1130, 1131, 1135, 1138, 1139, 1142, 1144, 1146, 1148, 1149, 1152, 1158, 1161, 1163, 1165, 1167, 1171, 1172, 1176, 1177, 1178, 1181, 1182, 1185, 1189, 1190, 1191, 1192, 1193, 1195, 1202, 1204, 1207, 1208, 1214, 1215, 1216, 1217, 1218, 1220, 1221, 1224, 1227, 1228, 1231, 1232, 1233, 1235, 1237, 1239, 1242, 1243, 1244, 1252, 1254, 1255, 1256, 1261, 1266, 1269, 1273, 1274, 1277, 1278, 1287, 1292, 1294, 1295, 1296, 1297, 1302, 1303, 1305, 1307, 1309, 1313, 1317, 1319, 1320, 1321, 1323, 1328, 1330, 1338, 1339, 1341, 1343, 1350, 1351, 1355, 1357, 1360, 1366, 1370, 1377, 1378, 1381, 1387, 1389, 1401, 1402, 1403, 1404, 1405, 1408, 1411, 1412, 1413, 1417, 1419, 1422, 1428, 1429, 1439, 1440, 1444, 1449, 1459, 1468, 1474, 1475, 1477, 1478, 1481, 1483, 1484, 1485, 1490, 1495, 1496, 1500, 1504, 1505, 1511, 1514, 1516, 1522, 1523, 1525, 1527, 1529, 1530, 1538, 1540, 1545, 1547, 1550, 1553, 1554, 1555, 1557, 1558, 1559, 1560, 1562, 1563, 1572, 1585, 1593, 1595, 1607, 1610, 1612, 1615, 1628, 1636, 1637, 1638, 1643, 1649, 1655, 1656, 1669, 1674, 1675, 1679, 1690, 1693, 1700, 1704, 1707, 1716, 1721, 1726, 1728, 1729, 1732, 1733, 1740, 1746, 1749, 1750, 1753, 1754, 1766, 1772, 1776, 1777, 1780, 1783, 1784, 1786, 1788, 1791, 1796, 1798, 1799, 1803, 1805, 1807, 1809, 1811, 1813, 1822, 1826, 1827, 1828, 1830, 1832, 1834, 1837, 1843, 1844, 1854, 1855, 1856, 1861, 1862, 1864, 1866, 1867, 1869, 1873, 1876, 1877, 1885, 1887, 1890, 1893, 1895, 1896, 1902, 1905, 1908, 1909, 1910, 1912, 1914, 1917, 1923, 1926, 1929, 1930, 1938, 1939, 1940, 1941, 1943, 1944, 1945, 1946, 1948, 1950, 1952, 1954, 1955, 1956, 1957, 1958, 1959, 1962, 1964, 1965, 1967, 1973, 1976, 1980, 1985, 1989, 1990, 1997, 1999, 2001, 2003, 2005, 2006, 2010, 2013, 2015, 2019, 2022, 2024, 2025, 2027, 2029, 2030, 2034, 2038, 2040, 2041, 2044, 2045, 2046, 2047, 2050, 2051, 2052, 2055, 2056, 2059, 2064, 2065, 2066, 2068, 2071, 2075, 2076, 2077, 2078, 2079, 2080, 2084, 2085, 2088, 2091, 2093, 2094, 2095, 2096, 2098, 2100, 2101, 2104, 2110, 2113, 2116, 2117, 2119, 2120, 2121, 2127, 2128, 2129, 2130, 2131, 2132, 2133, 2135, 2137, 2138, 2142, 2145, 2147, 2151, 2155, 2156, 2157, 2159, 2160, 2161, 2163, 2165, 2169, 2171, 2172, 2173, 2174, 2177, 2178, 2179, 2183, 2184, 2185, 2186, 2189, 2190, 2191, 2192, 2196, 2203, 2204, 2207, 2208, 2210, 2211, 2213, 2214, 2217, 2218, 2221, 2222, 2224, 2225, 2227, 2229, 2230, 2233, 2235, 2236, 2237, 2238, 2240, 2244, 2246, 2247, 2248, 2249, 2250, 2252, 2254, 2255, 2256, 2257, 2258, 2259, 2261, 2262, 2265, 2268, 2269, 2271, 2272, 2279, 2284, 2287, 2291, 2293, 2298, 2301, 2303, 2304, 2305, 2307, 2309, 2310, 2311, 2313, 2315, 2318, 2321, 2331, 2334, 2335, 2337, 2339, 2340, 2349, 2350, 2354, 2359, 2360, 2361, 2364, 2368, 2370, 2372, 2375, 2377, 2380, 2388, 2390, 2392, 2393, 2395, 2396, 2397, 2399, 2400, 2401, 2403, 2405, 2412, 2417, 2419, 2420, 2421, 2425, 2427, 2434, 2436, 2440, 2441, 2443, 2445, 2453, 2454, 2457, 2462, 2471, 2474, 2482, 2496, 2500, 2503, 2505, 2509, 2512, 2514, 2524, 2530, 2534, 2537, 2538, 2543, 2545, 2546, 2552, 2554, 2560, 2561, 2565, 2566, 2571, 2575, 2577, 2578, 2579, 2585, 2586, 2587, 2590, 2593, 2600, 2603, 2610, 2611, 2617, 2624, 2627, 2635, 2636, 2637, 2639, 2641, 2643, 2645, 2648, 2649, 2651, 2655, 2656, 2660, 2672, 2685, 2686, 2687, 2688, 2690, 2695, 2696, 2699, 2703, 2705, 2706, 2710, 2713, 2714, 2721, 2724, 2725, 2727, 2734, 2735, 2740, 2741, 2745, 2754, 2755, 2763, 2765, 2767, 2774, 2775, 2777, 2780, 2785, 2786, 2787, 2789, 2790, 2793, 2798, 2804, 2809, 2811, 2817, 2821, 2826, 2830, 2836, 2839, 2851, 2854, 2855, 2857, 2858, 2860, 2866, 2869, 2872, 2877, 2879, 2881, 2891, 2893, 2896, 2897, 2900, 2905, 2908, 2909, 2926, 2928, 2929, 2936, 2937, 2940, 2944, 2953, 2954, 2955, 2957, 2965, 2969, 2970, 2974, 2976, 2978, 2979, 2980, 2990, 2993, 3006, 3007, 3011, 3013, 3017, 3018, 3019, 3025, 3027, 3033, 3042, 3050, 3058, 3064, 3067, 3071, 3082, 3083, 3085, 3086, 3088, 3089, 3093, 3099, 3100, 3104, 3107, 3110, 3111, 3112, 3117, 3118, 3125, 3127, 3130, 3136, 3142, 3151, 3152, 3153, 3159, 3161, 3162, 3163, 3164, 3168, 3170, 3177, 3185, 3188, 3190, 3191, 3195, 3199, 3204, 3207, 3209, 3210, 3211, 3213, 3216, 3220, 3221, 3222, 3224, 3227, 3236, 3237, 3242, 3245, 3246, 3247, 3248, 3249, 3251, 3253, 3255, 3256, 3260, 3264, 3270, 3272, 3274, 3276, 3277, 3280, 3283, 3285, 3288, 3290, 3291, 3297, 3298, 3304, 3305, 3307, 3311, 3313, 3317, 3318, 3323, 3324, 3327, 3328, 3330, 3333, 3334, 3338, 3344, 3351, 3352, 3354, 3355, 3356, 3357, 3361, 3362, 3364, 3370, 3371, 3373, 3376, 3377, 3380, 3384, 3386, 3387, 3390, 3394, 3395, 3396, 3399, 3401, 3403, 3404, 3408, 3410, 3412, 3413, 3416, 3418, 3420, 3421, 3422, 3429, 3430, 3431, 3433, 3434, 3437, 3441, 3442, 3444, 3449, 3452, 3458, 3461, 3462, 3463, 3465, 3466, 3467, 3468, 3469, 3471, 3472, 3474, 3476, 3478, 3479, 3480, 3481, 3483, 3484, 3485, 3486, 3487, 3488, 3495, 3497, 3501, 3503, 3506, 3512, 3513, 3515, 3517, 3519, 3521, 3522, 3523, 3537, 3539, 3543, 3548, 3552, 3555, 3558, 3563, 3569, 3575, 3578, 3582, 3583, 3586, 3588, 3593, 3595, 3597, 3600, 3603, 3605, 3606, 3608, 3610, 3611, 3615, 3618, 3622, 3623, 3626, 3629, 3630, 3641, 3646, 3647, 3648, 3654, 3656, 3657, 3664, 3668, 3669, 3671, 3672, 3674, 3676, 3678, 3684, 3691, 3692, 3693, 3694, 3697, 3700, 3703, 3707, 3709, 3710, 3712, 3714, 3716, 3723, 3727, 3730, 3734, 3741, 3744, 3752, 3753, 3759, 3761, 3768, 3770, 3773, 3776, 3782, 3784, 3785, 3790, 3797, 3807, 3810, 3813, 3815, 3822, 3831, 3835, 3843, 3857, 3859, 3862, 3878, 3880, 3881, 3883, 3884, 3886, 3887, 3889, 3894, 3896, 3897, 3898, 3900, 3911, 3927, 3928, 3929, 3930, 3932, 3934, 3937, 3938, 3941, 3946, 3948, 3953, 3954, 3955, 3956, 3958, 3959, 3961, 3969, 3971, 3974, 3976, 3977, 3980, 3982, 3983, 3986, 3987, 3988, 3990, 3997, 3999, 4001, 4002, 4003, 4005, 4011, 4016, 4023, 4024, 4037, 4041, 4042, 4043, 4045, 4046, 4047, 4048, 4049, 4054, 4056, 4058, 4059, 4061, 4062, 4069, 4080, 4089, 4090, 4091, 4106, 4109, 4112, 4124, 4129, 4133, 4138, 4140, 4141, 4143, 4146, 4151, 4153, 4156, 4158, 4161, 4165, 4166, 4171, 4173, 4182, 4183, 4186, 4187, 4188, 4191, 4192, 4198, 4200, 4206, 4218, 4233, 4234, 4238, 4242, 4243, 4247, 4262, 4287, 4291, 4292, 4300, 4301, 4305, 4321, 4338, 4350, 4352, 4372, 4373, 4374, 4379, 4380, 4389, 4392, 4393, 4399, 4409, 4415, 4422, 4440, 4443, 4444, 4446, 4456, 4457, 4478, 4481, 4482, 4490, 4492, 4498, 4510, 4512, 4517, 4520, 4522, 4523, 4524, 4543, 4545, 4546, 4555, 4567, 4575, 4582, 4585, 4596, 4599, 4602, 4607, 4613, 4635, 4646, 4663, 4668, 4675, 4679, 4683, 4708, 4711, 4712, 4713, 4730, 4733, 4744, 4758, 4764, 4772, 4829, 4831, 4839, 4843, 4855, 4856, 4865, 4867, 4869, 4875, 4878, 4879, 4886, 4890, 4900, 4924, 4928, 4931, 4933, 4935, 4936, 4946, 4954, 4955, 4960, 4963, 4978, 5024, 5028, 5085, 5094, 5101, 5117, 5133, 5139, 5144, 5151, 5156, 5174, 5192, 5199, 5211, 5230, 5249, 26, 333, 364, 423, 537, 570, 571, 573, 593, 678, 768, 4705]\n",
            "{'Malmo - Bromma': 1, 'Marseille - Paris': 1, 'Bergamo - Orio al Serio - Santa Maria': 1, 'Singapore - Kuala Lumpur': 1, 'Los Angeles - Honolulu - Auckland - Sidney': 1, ' - Tegucigalpa - Toncontin': 1, 'Dryden - Winnipeg': 1, 'Fort Worth, TX - Oklahoma City, OK': 1, 'Manaus - Sao Paulo-Guarulhos': 1, 'Paris - Valence': 1, 'Baranquilla - Bogota': 1, 'Memphis - Columbia': 1, 'Stockholm - Oskarshamn': 1, 'Paramaribo - Zanderij': 1, 'El Yopal - Tame': 1, 'Hilo, HI - Kahului, HI': 1, 'Berlin - Moscow': 1, 'Kabul - Zaranj': 1, 'San Ramon - Captain Alvarino': 1, 'Kaohsiung - Chi-mei': 1, 'Hargeisa - Mogadishu': 1, 'Carterville, GA  - Montgomery, AL': 1, 'Rangoon - Kentung': 1, 'Baltimore, MD - Winchester, VA': 1, 'La Paz - Apolo': 1, 'Terre Haute - Lafayette': 1, 'Uruapan - Lazro': 1, 'Dallas/Fort Worth, TX - Salt Lake City, UT': 1, 'Sitka - Petersburg': 1, 'Hanoi - Bangkok': 1, 'Lago Agrio - Quito': 1, 'Montreal - Ottawa': 1, 'Bahar Dar - Asmara': 1, 'Sawyer AFB - Wurtsmith AFB': 1, 'Sedona, AZ - Sedona, AZ': 1, 'London - Rome': 1, 'Bombay - Ahmadabad': 1, 'Juliaca - Arequipa': 1, 'Warszawa - Rzeszow': 1, 'Brunswick, GA - Jacksonville, FL': 1, 'Helsink - Ilmajoki': 1, 'Montluçon - Paris': 1, 'Hamada al Hambra - Tripoli': 1, 'Dakar - Agadir': 1, 'Kabul - Khowst': 1, 'Dar-es-Salaam - Cairo': 1, 'London - New York City': 1, 'Dayton, OH - Montreal, Canada': 1, 'Guangzhou - Hong Kong': 1, 'Denver, CO - Chicago, IL': 1, 'Zamboanga - Manila': 1, 'Seou - Ulsan': 1, 'Kamina - Jamba': 1, 'Canaima - Ciudad Guayana -Charallave': 1, 'Block Island, RI - Westerly, RI': 1, 'Fort Belvoir - Patuxent River NAS': 1, 'Guayaramerin - Santa Cruz': 1, 'Bogota via Neiva - Ibague': 1, 'Yakima - Pasco': 1, 'Bicharest - Beogard': 1, 'Palambang and Jakarta': 1, 'Tyumen - Ufa': 1, 'San Jose - Palmar Sur': 1, 'Denver - Montrose': 1, 'Detroit, MI - Louisville, KY': 1, 'Caracas - Puerto Ayancucho': 1, 'Medellin - New York City': 1, 'Ujung Pandang - Selaparang': 1, 'Pointe-Noire - Brazzaville': 1, 'Burlington, VT - Albany, NY': 1, 'Plattsburg - Syracuse': 1, 'San Palo - Bauru - Aracatuba': 1, 'Perm - Sovietsky': 1, 'Observation flight out of Cape Schmidt': 1, 'Kahului, Maui - Kaunakakai, Molokai': 1, 'Managua - Tegucigalpa': 1, 'Luena - Cazombo': 1, 'Jeddah - Tripoli': 1, 'Thessaloniki - Samos': 1, 'Addis Ababa - Bole': 1, 'Wanaka - Milford Sound': 1, 'Hattiesburg, MS - Gulfport, MS': 1, 'Shanghai - Hongqiao': 1, 'Medford, OR - Medford, OR': 1, 'Gilgit - Islamabad - Chaklala': 1, 'Salisbury, MD - Lynchburg, VA': 1, 'Havana - Köln, Bonn': 1, 'Maraba - Belem': 1, 'Oslo - Hamburg': 1, 'Manokwari - Bentuni': 1, 'Orlando, FL - Mayfield, KY': 1, \"N'Djamena - Paris\": 1, 'New York City - Charlotte, NC': 1, 'Pune - Hyderabad': 1, 'Grand Canyon National Park': 1, 'Uncertain, TX - Destsin, FL': 1, \"Ul'yanovsk - Leninakan\": 1, 'Hualian - Taibei': 1, 'Bombay - Bangalore': 1, 'Air show': 1, 'Bahawalpur - Islamabad': 1, 'Rabaul - Hoskins': 1, 'Denver - Vail': 1, 'Hanover, West Germany - Skien, Norway': 1, 'Banda Aceh - Medan': 1, 'Wichita - Kansas City': 1, 'Wilmington - Lumberton': 1, 'Tikis - Batagay': 1, 'San Juan, PR - Mayaguez, PR': 1, 'Warsaw - New York City': 1, 'Big Trout - Pickle Lake': 1, 'Sayre, PA - Washington, District of Colombia': 1, 'Camiri - Santa Cruz': 1, 'Kandahar - Kabul': 1, 'Lima - Saposa': 1, 'Heho - Mong Hsat': 1, 'Manila - Baguio': 1, 'Brazzaville - Paris': 1, 'Mexico City - Miami': 1, 'Santiago - Calama': 1, 'Beijing - Chongqing': 1, 'Detroit, MI - Phoenix, AZ': 1, 'Ontario, CA - Las Vegas, NV': 1, 'Hat Yai - Phuket': 1, 'Pocatello - Salt Lake City': 1, 'Abidjan - Rio de Janeiro': 1, 'Malakal - Khartoum': 1, 'McDermitt, OR - Burns, OR': 1, 'Lander, WY - Riverton, WY': 1, 'Little Rock - Texarkana': 1, 'Tijuana - Los Angeles': 1, 'Tullamarine - Leongatha': 1, 'Bombay-Karachi-Frankfurt-New York': 1, 'Sao Jose dos Campo - Manaus': 1, 'Mangole - Manado': 1, 'Kelly AFB - Warner Robins AFB': 1, 'Groton, CT - Fisher Island, NY': 1, 'Lusaka - Maputo': 1, 'Yekaterinburg - Kuybyshev': 1, 'Traffireporting': 1, 'Lahore - Peshawar': 1, 'Bakhtaran - Zahedan': 1, 'Minsk - Berlin': 1, 'Lanzhou - Chengdu': 1, 'Baghdad - Amman': 1, 'Savu Savu - Nadi': 1, 'Bata - Malabo': 1, 'Asrmara - Addis Ababa': 1, 'Kirensk - Irkutsk': 1, 'Rangoon - Nyaung-U': 1, 'Tacoma, WA - Bellingham, WA': 1, 'Nancy - Paris': 1, 'Cucuta - Cartagena': 1, 'Cairo - Sharjah': 1, 'Bangkok - Kuwait': 1, 'Maimana - Mazar': 1, 'Bloemfontein - Johannesburg': 1, 'Muya - Bagdarin': 1, 'Allentown, PA - Morristown, NJ': 1, 'Hilo - Honolulu': 1, 'Namsos - Bronnoysund': 1, 'Anchorage, AK - McGrath, AK': 1, 'Belize City, Belize - New Orleans, LA': 1, 'Billund - Hannover - Nurnberg': 1, 'Resistencia - Posadas': 1, 'Basel - Basel': 1, 'Bandar Abbas - Dubai': 1, 'El Salvador - New Orleans': 1, 'Oostende, Belgium - Lagos, Nigeria': 1, 'Ketichikan, AK - Security Cove, AK': 1, 'Sofia  - Varna': 1, 'Narsarsuaq, Greenland - Reykjavik, Iceland': 1, 'Phalaborwa - Johannesburg': 1, 'Milan - Koln': 1, 'Istanbul - Ercan': 1, 'Raleigh - Richmond': 1, 'Blantyre - Lilongwe': 1, 'Fort Nelson - Ross River': 1, 'Denver, CO - Boise, ID': 1, 'Wellington - Christchurch': 1, 'Denver, CO - Durango, CO': 1, 'Taipei, Taiwan -  Mauritius - Johannesburg, South Africa': 1, 'Abu Dhabi - Bangkok': 1, 'Los Angeles - San Fransisco': 1, 'Cebu - Iligan': 1, 'Recife - Fernando de Noronha': 1, 'Brussels - Bordeaux': 1, 'Alliance, AK - Chadron, NE': 1, 'Kenai, AK - Anchorage, AK': 1, 'Honolulu, HI - Molokai, HI': 1, 'Samarinda - Berau': 1, 'Stuttgart - Izmir': 1, 'Memphis, TN - Monroe, LA': 1, 'Moscow - Krosnovodsk': 1, 'Nizhnevartovsk - Tyumen': 1, 'Missoula, MT - Helena, MT': 1, 'Hannover - Dusseldorf': 1, 'Tyumen - Surgut': 1, 'Tegucigalpa - Duzuna': 1, \"M'bala - Likouala\": 1, 'San Pedro - Tegucigalpa': 1, 'Lagos - Kaduna': 1, 'Amsterdam - Tel Aviv': 1, \"Lanzhou - Xi'an\": 1, 'Semarang - Bandung': 1, 'Petropavlovsk - Novosobrisk': 1, 'Kiana, AK - Selawik, AK': 1, 'Migalovo AB - Yerevan': 1, 'Ho Chi Minh City - Nha Trang': 1, 'Santo Domingo - Porto Plata': 1, 'Selway Lodge, ID  Salmon, ID': 1, 'Uruapan - Guadalajara': 1, 'Amsterdam - Faro': 1, 'Benghazi - Tripoli': 1, 'Bremen - Paris': 1, 'Southend - Glasgow': 1, 'Bronson - Wrangell': 1, 'Medan - Banda Aceh - Jakarta': 1, 'Tehran - Khoram': 1, 'Faisabad - Daraim': 1, 'Skopje - Zürich': 1, 'Albuquerque, NM - Oakland, CA': 1, 'Curacao - Miami': 1, 'Pucallpa - Dagali - Trujillo': 1, 'Tarapoto - Bellavista': 1, 'Estrecho - Iquitos': 1, 'Panama City, Panama - Cali, Colombia': 1, 'San Juan - Mayaguez': 1, 'Atlanta - Anniston, AR': 1, 'Sheboygan - Manitowoc': 1, 'Bankstown - Cooma': 1, 'Meadview, AZ - Las Vegas, NV': 1, 'Rio Bran- Cruzeiro do Sul': 1, 'Igarka - Omsk': 1, 'St Thomas, Virgin Islands, Fajardo, Puerto Rico': 1, 'Bethel - Chevak': 1, 'Nakhichevan - Rostov': 1, 'Tbilisi - Mineralnye Vody': 1, 'Jakarta - Surabaya - Ujung Pandang - Ambon': 1, 'Puebla - Mexico City': 1, 'Curitiba, PR - Rio de Janeiro': 1, 'Arecibo, PR - Ponce, PR': 1, 'Karachi - Kathmandu': 1, 'Bangkok - Kathmandu': 1, 'Nanjing - Xiamen': 1, 'La Paz - Santa Ana de Yacuma': 1, 'Donetsk - Ivanovo': 1, 'Jamba - Pretoria': 1, 'Manshahr  - Tehran': 1, 'Cuiaba - Vihena - Rondonia': 1, 'Shanghai - Los Angeles': 1, 'Beijing - Urumqi': 1, 'Dubai - Kerman': 1, 'Genève - Skopje': 1, 'Santa Elena - Guatemala City': 1, 'Minneapolis/St. Paul - Hibbing': 1, 'Tuktoyaktuk - Inuvik': 1, 'Vientiane - Phonesavahn': 1, 'Fresno, CA - Santa Ana, CA': 1, 'Krasnadar - Gyumri': 1, 'Irkutsk - Moscow': 1, 'Newcastle - Lord Howe Island': 1, 'Kissimmee - Opa': 1, 'Washington D.C. - Columbus, OH': 1, 'Cotonou - Kinshasa': 1, 'Volgograd - Nalchik': 1, 'Jananjui - Tocache - Tingo Maria - Lima': 1, 'Edinburgh - Coventry': 1, 'New York City - Denver': 1, 'Tehran - Moscow': 1, 'Spokane - Portland': 1, 'Key West Harbor - Key West': 1, 'Winnipeg - Sandy Lake': 1, 'Bristol, TN - Blountville, TN': 1, 'Pontiac, MI - Greensburg, IN': 1, 'Shenzen - Fuzhou': 1, 'Cincinnati, OH - Pierre, SD': 1, 'Ulan Bator - Bayan Olgiy': 1, 'Aurangabad - Bombay': 1, 'Kabul - Mazar-i- Sharif': 1, 'Lusaka - Libreville - Dakar': 1, 'Panama City - Medellin': 1, 'Bogota - El Yopal': 1, 'Batumi - Baku - Chimkent': 1, 'Ambo - Sorong': 1, 'Birmingham - Talladega': 1, 'Yinchuan - Beijing': 1, 'Seoul - Mokpo': 1, 'Ba Kelalan - Marudi': 1, 'Kathmandu - Bharatpur': 1, 'Norfolk, VA - Guantanamo, Cuba': 1, 'Khorag - Dushanbe': 1, 'Frankfurt - Warszawa': 1, 'Sochi - Sukhumi': 1, 'Tbilisi - Sukhumi': 1, 'Sukhumi - Tbilisi': 1, 'Glentanner - Queenstown': 1, 'Trondheim - Namsos': 1, 'Aspen - Denver': 1, 'Local': 1, 'Khartoum - Tunis': 1, 'Camaguey - Santiago de Cuba': 1, 'Milano - Zürich': 1, 'Cleveland - Indianapolis': 1, 'Bangkok - Koh Samui': 1, 'Detroit - Pittsburg': 1, 'Cold Bay - False Pass': 1, 'Caracas - Merida': 1, 'Columbus - Los Angeles \\\\  Los Angeles - Fresno': 1, 'Macon, GA - Anniston, AL': 1, 'Las Vegas, NV - Aspen, CO': 1, 'Macao - Taisha': 1, 'Punta Arenas - Puerto Williams': 1, 'Denver - Colorado Springs': 1, 'Maracaibo - Santa Barbara de Zulia': 1, 'San Diego - Amarillo, TX  - Evansville, IN': 1, 'Ubrraba - Brasillia': 1, 'Trashkent - Navoi': 1, 'Zeldiver - San Pedro': 1, 'Sturdee - Smithers': 1, 'Williamsport, PA  - Philadelphia, PA': 1, 'Atlanta - Brunswick': 1, 'Bella Vista - La Paz': 1, 'Hiva Ou - Nuku Hiva': 1, 'Guangzhou - Shanghi': 1, 'Fernando de Noronha -  Recife': 1, 'Kokand - Kabul': 1, 'Rio de Janeiro - Juiz De Flora': 1, 'Vaeroy - Bodo': 1, 'Manila - Roxaz City': 1, 'Timmins, Ontario - Ship Sands Island, Ontario': 1, 'Guatamala City - La Aurora': 1, 'Tapachula - Tuxtla-Gutierrez': 1, 'Manila - Iloilo': 1, 'Proserpine - Mareeba - Claims': 1, 'Manila - Surigao City': 1, 'Belem - Altamira': 1, 'Birmingham, England - Malaga, Spain': 1, 'Seward, AK - Aialak Bay, AK': 1, 'Aurora, OR - Penticton, Canada': 1, 'Yerevan - Zvartnots': 1, 'Elkhorn, WI - Chicago, IL': 1, 'Ramstein AB - Rhein-Main AB': 1, 'Nulato, AK - Kaltag, AK': 1, 'Malta - Miami - Reykjavík - Gander': 1, 'Sondre Stomfjord - Goose Bay': 1, 'Volgograd - Sverdlovsk': 1, 'Van Nuys, CA - San Luis Obispo, CA': 1, 'Philadelphia, PA - Reading, PA': 1, 'Ambon - Ternate - Manado': 1, 'Sukhumi - Leningrad': 1, 'Ellsta - Makhackala': 1, 'Memphis - Destin': 1, 'San Francisco, CA - Sacramento, CA': 1, 'Nizhnevartovsk - Bugulma': 1, 'Brasilla  - Guarantinguerta': 1, 'Rome, GA - Huntsville, AL': 1, 'Frankfurt - Frankfurt': 1, 'Stockholm-Copenhagen-Warsaw': 1, 'Taipei - Anchorage': 1, 'Plattsburgh, NY - SaranaLake, NY': 1, 'Lyon - Strasbourg': 1, 'Nanaimo - Port Mellon': 1, 'Agdam - Shusha': 1, 'Salvador - Guanambi': 1, 'Dakar - Yoff - Cap Skiring': 1, 'Seattle - Toledo': 1, 'Estencia el Trompillo - La Paz': 1, 'Dwando - Brazzaville': 1, 'Chekurdakh - Tiksi': 1, 'Amsterdam - Athens': 1, 'Etropavlovsk - Kamchatskiy': 1, 'Edmonton - Point Alert': 1, 'Villavicencio - Miraflores Guaviarel': 1, 'Concord, CA - Novato, CA': 1, 'Kavanayen - Luepa': 1, 'Bangkok - Wien, Austria': 1, 'Grada Zuma, Bahamas - Cape Hatien': 1, 'Bogota - Malambo': 1, 'Saint Petersburg - Voronezh': 1, 'Benin - Kano': 1, 'New Orleans - Mobile - Birmingham': 1, 'Jeddah - Sokoto': 1, 'Kira-Kira - Honiara': 1, 'Detroit - Chicago': 1, 'Local flight - Flying B Ranch': 1, 'Nogougou - Luganville': 1, 'Altukaki - Rarotonga': 1, 'Bucharest - Timisoara': 1, 'Gustavus, AK - Haines, AK': 1, 'Kano - Bamako': 1, 'Calcutta - Imphal': 1, 'Ketchikan, AK - Wrangell, AK': 1, 'Bario - Marudi': 1, 'Sampit - Plangkaraya': 1, 'Laredo - Houston': 1, 'Moncton - Hamilton': 1, 'Palangkaraya - Sampit': 1, 'Vieux Fort - Kingstown': 1, 'San Andreas, CA - Death Valley, CA': 1, 'Penza - Simferopol': 1, 'Houston, TX - Gulfport, MS - New Orleans, LA': 1, 'Lebanon, TN - Galesburg, IL': 1, 'Denpasar - Surabaya': 1, 'New York - Santa Monica': 1, 'Amman - Doha': 1, 'Moscow - Odessa': 1, 'Gorkiy - Liepaya': 1, 'Bethel, AK - Tooksook, Alaska': 1, 'Quebe- Montreal': 1, 'Carrizozo, NM - Albuquerque, NM': 1, 'San Pedro, CA - Catalina, CA': 1, 'Newark, NJ - Flushing, NY': 1, 'Chicago, IL- Los Angeles, CA': 1, 'Ambler, AK - Kobuk, AK': 1, 'Bullen Point - Deadhorse': 1, 'Bouceif - Dakar': 1, 'Boston - Rockland': 1, 'New York, NY - Hyannis, MA': 1, 'Talang Betutu - Medan': 1, 'Anchorage, AK - Kenai, AK': 1, 'Suva-Nausori - Bua-Dama': 1, 'Greenville, MS - Charlotte, NC': 1, 'Positiioning - San Jose - Honolulu': 1, 'Gisborne - Auckland': 1, 'Bauru - Sao Paulo': 1, 'Mexico City - Morelia': 1, 'Wrangell, AK - Return': 1, 'Laoag - Paranaque': 1, 'King Salmon, AK - Kodiak, AK': 1, 'Bridgeport, CT - Albany, NY': 1, 'Los Angeles - San Diego': 1, 'Borinquen, PR - San Juan, PR': 1, 'Kuopio - Helsinki': 1, 'Kenai, AK - Return': 1, 'Oberlin, KS - Phoenix, NM': 1, 'Dallas, TX - Lubbox, TX': 1, 'Jeddah - Colombo': 1, 'Wichita, KS - Hays, KS': 1, 'Chandigarh - Leh': 1, 'Ketchikan, AK - Hydaburg, AK': 1, 'Hartford, CT - Newburg, NY': 1, 'Steamboat Springs - Denver': 1, 'Terra Haute, IN - Moline, IN': 1, 'St. Marys, AK - Chevak, AK': 1, 'Concord, MA - White Plains, NY': 1, 'Lansing, MI - Marquette, MI': 1, 'Clarksburg - Washington DC': 1, 'Savoy, IL - Cleveland, OH': 1, 'St. Croix - St. Kitts': 1, 'Boise, ID - Indian Creek, ID': 1, 'Moa - Baracoa': 1, 'Sydney - Tomora': 1, 'Leeville, LA - Grand Isle, LA': 1, 'Taipei - Manila': 1, 'New York City - Warsaw': 1, 'Houston, TX - Brownwood, TX': 1, 'Sao Paulo - Florianopolis': 1, 'Manchester - Tenerife': 1, 'Khon Kaen - Bangkok': 1, 'Rio Hacha - Medellin': 1, 'West Palm Beach, FL - New Orleans, LA': 1, 'Appleton, WI - Minneapolis, MN, - Lincoln, NE': 1, 'Honolulu, HI - Lihue, HI': 1, 'Bologna - Palermo': 1, 'Alma Ata - Simferopol': 1, 'Nome, AK - Unalakeet, AK': 1, 'Tusayan, AZ - Phoenix, AZ': 1, 'Hazelton, PA - Philadelphia, PA': 1, 'Lima, Peu - Mexico City, Mexico': 1, 'Dillingham, AK - Return': 1, 'Oil Platform SS-224 - Houma LA': 1, 'Mandalay - Rangoon': 1, 'Bombay - Pune': 1, 'Babol Sar - Tehran': 1, 'Port au Prince - Cape Haitien': 1, 'Flushing, NY - AtlantiCity, NJ': 1, 'Athens, Greece - Jeddah, Saudi Arabia': 1, 'Tashkent - Donetsk - Minsk /Chelyabinsk to Kishinev': 1, 'Norisk - Krasnoyarsk': 1, 'Redmond - Klamath Falls - Medford': 1, 'Alghero - Cagliari': 1, 'Covington, KY - Nashville, TN': 1, 'Zurich - Geneva - Athens - Bombay - Beijing': 1, 'Centrailia, IN - Columbus, IN': 1, 'Monterey, Mexico - San Ysidro, CA': 1, 'Los Angeles, CA  - Mexico City, Mexico': 1, 'Pickle Lake - Big Trout': 1, 'Greenville, SC - Colombia, SC': 1, 'John Day, OR - Salem, OR': 1, 'Chicago - Washington D.C.': 1, 'Ogden, UT - Las Vegas, NV': 1, 'Jeddah - Karachi': 1, 'Nome, AK - Return': 1, 'Arauca - Bogota': 1, 'Pucallpa - Puerto Esperanza': 1, 'Ankara - Samsun': 1, 'Shreveport - Baton Rouge': 1, 'Bucurest  - Nouadhibou': 1, 'Victoria harbor - Victoria Harbor Water Aerodome': 1, 'Laboucher, AK - Ketchican, AK': 1, 'Huntsville - Atlanta': 1, 'Parnu - Tapa': 1, 'Varna, Bulgaria  - Beiruit, Lebanon': 1, 'Nairobi, Kenya  - Luskaka, Zambia': 1, 'Pan Am building - JFK Airport': 1, 'Houma, LA - Return': 1, 'Carrasco - Salto-Nueva Hesperides': 1, 'Tippi - Jima': 1, 'Ruby - Colorado Creek': 1, 'Punta Arenas - Santiago': 1, 'Yoro - Honduran': 1, 'Boise, ID - Flying B Ranch, ID': 1, 'Burbank - Santa Barbara': 1, 'El Bolson - Rivadavia': 1, 'Albuquerque, NM - Las Cruces, NM': 1, 'Buffalo, NY - Parkersburg, WV': 1, 'Deadhorse, AK - Eskimo Island, AK': 1, 'Honolulu - Kona': 1, 'Minto Lake, AK - Fairbanks, AK': 1, 'Iliamna - Anchorage': 1, 'Mongasat - Keng Tung': 1, 'Palu - Toli Toli': 1, 'Yakutat - Anchorage': 1, 'Tenerife - Las Palmas / Tenerife - Las Palmas': 1, 'Saint Louis, MO - Detroit, MI': 1, 'Greensville, NC - Philadelphia, PA': 1, 'Mumbai - Chennai': 1, 'Santa Cruz - Viru': 1, 'Washington D.C. - Baltimore, MD': 1, 'Villavicencio - Cucuta': 1, 'Curacao - Port-au-Prince': 1, 'Shannon, Ireland - Geneva, Switzerland': 1, 'Moscow - Leningrad': 1, 'Grand Canyon, AZ - Denver, CO': 1, 'AtlantiCity - Cap May': 1, 'Cairo - Bangkok': 1, 'Anguilla Island, WI - Beef Island, WI': 1, 'Trujillo - Tarapoto': 1, 'Palm Springs - Las Vegas': 1, 'Novosibirsk - Alma Ata': 1, 'Mosses Lake, WA - Tokyo, Japan': 1, 'Prince George - Prince Rupert': 1, 'Lourdes de BlanSablon - Port Hope Simpson': 1, 'Tashkent - Mineralnyye Vody': 1, 'Aden - Al Kari': 1, 'Paris, France - Niamey, Nigher': 1, 'Prince George - Tezzeron Lake': 1, 'Kansas City, MO - Raton, NM': 1, 'Kirkland AFB - Nellis AFB': 1, 'Salida, CO - Cortez, CO': 1, 'Dillingham, AK - Anchorage, AK': 1, 'Visalia, CA - Santa Barbara, CA - Santa Maria, CA': 1, 'Los Angeles - Honolulu': 1, 'Agana, Guam - Rota, TT': 1, 'Caracas - Cumana': 1, 'Jackson, MS - Laurel, MS': 1, 'Flint, MI - Whitelake, MI': 1, 'Sofia - Warszawa': 1, 'Santa Ana, CA - Lake Havasu, AZ': 1, 'Yangon - Myitkyina': 1, 'Local tour': 1, 'St. John, VI - St. Croix, VI': 1, 'Paris - Seoul': 1, 'Trenton, NJ - Indianappolis, IN': 1, 'Pago Pago, American Samoa - Apia, Western Samoa': 1, 'Anchorage, AK - Whittier, AK': 1, 'Miami, FL - Pensacola, FL - Mobile, AL': 1, 'Baku - Leningrad': 1, 'Toronto - Winnipeg': 1, 'Bergen - Stratjford-A': 1, 'Samburu - Nairobi': 1, 'Los Angeles, CA - Lake Tahoe, CA': 1, 'Istanbul - Bucharest': 1, 'Calgary - Cranbrook': 1, 'Artigas - Montevideo': 1, 'Hong Kong - Kuala Lumpur': 1, 'Kenmore, WA - Lake Hatheume, Canada': 1, 'New Iberia, LA - Grand Chenier, LA': 1, 'Greenville - Baton Rouge': 1, 'Palenque - San Cristobal de las Casas': 1, 'Brussels - Funchal': 1, 'Rome, Italy - Asmara, Ethiopia': 1, 'Buenos  Aires - San Carlos de Bariloche': 1, 'Charlotte, NC - Pinehurst, NC': 1, 'Jeddah - Benghazi': 1, 'Penang - Kuala Lumpur': 1, 'Evansville - Nashville': 1, 'Davenport, IA - Davenport, IA': 1, 'Geneva - Funchal': 1, 'San Francisco, CA - Salt Lake City, Utah': 1, 'St Croix, VI - Vieques, PR': 1, 'Houston, TX - Austin, TX': 1, 'Bombay - Dubai': 1, 'Greenville, KY - Marion, IL': 1, 'Dubois, PA - Lancaster, PA': 1, 'Neiva - San Vincente': 1, 'Richland, WA - Seattle, WA': 1, 'Dhahran - Karachi': 1, 'Ramstein AFB - Oslo, Norway': 1, 'Riyadh - Jeddah': 1, 'Bolivar, TN - Pontiac, MI': 1, 'San Luis Obispo - San Fransisco': 1, 'Naples, FL - Tampa, FL': 1, 'Airshow': 1, 'Reno, NV - Eureka, NV': 1, 'Fort Norman - Fort Franklin': 1, 'Krasnodar - Omsk': 1, 'St. Anthony - Goose Bay': 1, 'Loja - Zumba': 1, 'Jacksonville - Tampa': 1, 'Binghamton, NY - Bainbridge, NY': 1, 'Asuncion, Paraguay - La Paz, Bolivia': 1, 'Detroit - Kansas City': 1, 'Nanjing - Jinan': 1, 'Havana - Managua': 1, 'Albuquerque, NM - Taos, NM -': 1, 'Reno, NV - Minneapolis-St. Paul, MN': 1, 'Howard AFB - Trujillo AP': 1, 'Florencia - Cali': 1, 'Burlington, VT - Whitefield, NH': 1, 'Minsk - Leningrad': 1, 'Memphis - Chicago': 1, 'Altus, OK - Oklahoma City, OK': 1, 'Karachi - Tashkent': 1, 'Vieques, PR - St. Croix, VI': 1, 'Little Rock, AR - Springfield, MO': 1, 'Lonkin - Myitkyina': 1, 'Springfield, Il - Carbondale, IL': 1, 'Middletown - Washington DC': 1, 'Lubango - Luanda': 1, 'Wichita, TX - Midland, TX': 1, 'Paris - Madrid - Bogota': 1, 'Madrid - Rome': 1, \"Put-In-Bay, OH - Kelly's Island, OH\": 1, 'Medellin - Miami': 1, 'Inuvik - Paulatuk': 1, 'Arkhangelsk - Leshukonskoye': 1, 'Saint Louis, MO - Toronto, Canada': 1, 'Berlin - Sofia': 1, 'Oslo, Norway, New York, NY': 1, 'Pohang - Kannung': 1, 'Ft. Lauderdale - Bimini': 1, 'Baltimore - Detroit': 1, 'Kodiak, AK - Ouzinkie, AK': 1, 'Pango Pango - Tau Island': 1, 'Anchorage, AK - Cantwell, AK': 1, 'Chittagong-Patenga - Dhaka': 1, 'Flagstaff, AZ - Mesa, AZ': 1, 'Gold Beach, OR - Metford, OR': 1, 'Bogota - San Vicente del Caguán - Florencia': 1, 'Sidney - Brisbane': 1, 'Beni - La Paz': 1, 'State College - Pittsburgh': 1, 'Anchorage - Juneau': 1, 'Bethel, AK - Quinhagaki, AK': 1, 'Gander - Fort Campbell, KY': 1, 'Guntersville - Dallas/Ft. Worth': 1, 'Sao Paulo - Belo Horizonte': 1, 'Villa Constitucion - Los Mochis': 1, 'Taipei - Makung': 1, 'Detroit, MI - Alpena, MI': 1, 'Snegamook Lake - Goose Bay': 1, 'Pemba - Maputo': 1, 'Mexico City - Puerto Vallarta': 1, 'Bogota - Saravena': 1, 'San Salvador - Panama City': 1, 'Colombo - Male, Maldives': 1, 'AtlantiCity, NJ - AtlantiCity, NJ': 1, 'Cairo - Alexandia': 1, 'Glasgow - Port Ellen': 1, 'Grand Canyon - Grand Canyon': 1, 'Parachuting': 1, 'Tombouctou - Bamako': 1, 'Dnepropetrovsk - Moscow': 1, 'Milwaukee - Atlanta': 1, 'Buenos Aires - Salta': 1, 'El Dorado, AR - Houston, TX': 1, 'Dallas, TX - San Diego, CA': 1, 'Tuba City, AZ - Page, AZ': 1, \"Tallin - L'vov\": 1, 'Iwakuni - Fulemma, Okinawa': 1, 'Golovin, AK - Elim, AK': 1, 'Branson, MO - Harrison, AR': 1, 'Nashville - Indianapolis': 1, 'Athens - Rome': 1, 'Juara - Cuiaba': 1, 'Montreal - London': 1, 'Karshi - Leningrad': 1, 'Louisville, KY - Cleveland, OH': 1, 'Leticia - Bogota': 1, 'Fort Lauderdale - Dallas-Fort Worth': 1, 'Aden - Abu Dahbi': 1, 'Anchorage, AK - Gulkana, AK': 1, 'Manchester - Kerkira': 1, 'Boston, MA - Auburn, ME': 1, 'Kandahar - Farah': 1, 'Washington D.C. Baltimore, MD': 1, 'Karachi - Abu Dhabi': 1, 'Guilin - Beijing': 1, 'Kazan - Chelyabinsk - Alma-Ata': 1, 'Muskegon, MI - Pontiac, MI': 1, 'Tehran, Iran - Larnaca, Cyprus': 1, 'Mogadishu- Hargeisa': 1, 'Kansas City, MO - York, NE': 1, 'Monterey - Chihuahua': 1, 'Skagway, AK - Local': 1, 'Taipei - Kaohsiung': 1, \"Komsomol'sk-na-Amure - Blagoveshchensk\": 1, 'Chita - Zeya': 1, 'Fort Lewis, WA - Indian springs, NV': 1, 'Ahwaz - Tehran': 1, 'Casper, WY - McAllen, TX': 1, 'Rotterdam - Eindhoven - Hamburgh': 1, 'Acapulco - Guadalajara': 1, 'Millinocket, ME - Mount Pocono, PA': 1, 'Krasnoyarsk - Norilsk': 1, 'Ljubljana - Ajaccio': 1, 'Haliive, HI  - Honolulu, HI': 1, 'Tyonek, AK - Anchorage, AK': 1, 'Talkeetna, AK - Return': 1, 'Cape Town - Johannesburg': 1, 'London - East Midlands': 1, 'Albuquerque, NM - Durango, CO': 1, 'Ulan - Severomuysk': 1, 'Quito - Macara': 1, 'Banjarmasin-Sjamsudin Noor  -  Jakarta': 1, 'West Palm Beach - Freeport Grand Bahama Islands': 1, 'Bartow, FL - Lake City, FL': 1, 'Ramstein AB - Cairo': 1, 'Dodoma - Dar es Salaam': 1, 'Chicago, IL - Michigan City, IL': 1, 'King Cove, AK - Cold Bay, AK': 1, 'Florence - Neiva': 1, 'Moses Lake - Spokane': 1, 'Reno, NV - Winnemucca, NV': 1, 'New Orleans, LA - Houma, LA': 1, 'White Plains, NY - Toronto, Canada - White Plains, NY': 1, 'San Pedro, CA - Avalon, CA': 1, 'Tucurui - Belem': 1, 'North Adams, MA - New York, NY': 1, 'Fallon, NV - Austin, NVq': 1, 'Fairbanks - Shemya AFB': 1, 'Hughes, AK - Galena, AK': 1, 'Denver, CO - Gillette, WY': 1, 'Tucuman - Buenos Aires': 1, 'Oaxaca - Puerto Escondido': 1, 'Avalon, CA - Visalia, CA': 1, 'Washington D.C. - Fort Lauderdale, FL': 1, 'Newark, NJ - Boston, MA': 1, 'Parhankot - Leh': 1, 'Philadelphia, PA - Pottstown, PA': 1, 'Sante Fe, NM - Pueblo, CO': 1, 'Ketchikan, AK - Craig, AK': 1, 'Santiago - La Serena': 1, 'Columbus, OH - Difiance, OH': 1, 'Minneapolis-St Paul - Brainerd': 1, 'Detroit - Los Angeles': 1, 'Tallahssee, FL - Lakeland, FL': 1, 'Caracas - Barquisimeto': 1, 'Jacksonville, FL - Atlanta, GA': 1, 'Chicago - Newark': 1, 'Nome - Ambler': 1, 'Nalchik - Leninakan': 1, 'Jacksonville NAS - Guantanamo Bay, Cuba': 1, 'Miami, FL - Nassau, Bahamas': 1, 'Dallas-Fort Worth - Toronto': 1, 'Blanding, UT - Farnington, New Mexico': 1, 'Pyongyang, North Korea - Conakry, Guinea': 1, 'Penzance - Scilly Islands': 1, 'Ottawa - Edmonton': 1, 'Las Vegas, NV  - Grand Canyon, AZ': 1, 'Cullman, AL - Louisville, KY': 1, 'Anguilla - St. Thomas, VI': 1, 'Moscow - Luxembourg': 1, 'Kiana, AK - Kotzebue, AK': 1, 'Fukuoka - Tokyo': 1, 'Manila - Sicogon': 1, 'New York City - Bridgeport - New Haven - Groton - Boston': 1, 'Berlevag - Mehamn': 1, 'Kuala Lampur - Perth': 1, 'Leningrad - Kiev': 1, 'None': 1, 'Jakarta - Bandar': 1, 'Banddanack, AK - Fairbanks, AK': 1, 'Erzurum - Incirlik': 1, 'Manaus - Bogota': 1, 'Hilo, HI - Honalulu, HI': 1, 'Kuala Lumpur - Mumbai': 1, 'New Orleans - Las Vegas': 1, 'Imnaha, OR - Fort Fairfield, ME': 1, 'Movie set': 1, 'Sitka, AK - Warm Springs, AK': 1, 'Groton, CT - Concord, CT': 1, 'Managua - El Rodeo': 1, 'Zumba - Loja': 1, 'Malaga - New York City': 1, 'Nondalton, AK - Port Alsworth, AK': 1, 'Eirunepe - Tabatinga': 1, 'Bridgetown - Kingston': 1, 'Aldergrove AB - Fort George': 1, 'Amsterdam - Cardiff': 1, 'El Paso - Del Rio': 1, 'Mexicali - Santa Lucia': 1, 'Gaspé - Îles-de-la-Madeleine': 1, 'Sao Gabriel de Cachoeria - Yauarete': 1, 'Christchurch - Palmerston North': 1, 'Tampico - Las Potrancas Ranch Airstrip': 1, 'Casper - Cody': 1, 'Fallujah - Baghdad': 1, 'Ogle, Guyana - Ekereku, Guyana': 1, 'Seattle - Spokane': 1, 'Boende, Congo - Kinshasa, Congo': 1, 'Chino,CA - Sun Valley, ID': 1, 'Conakry, Guinea - Cotonou, Benin - Beirut, Lebanon': 1, 'Sharm el Sheikh, Egypt - Cairo, Egypt': 1, 'Termez - Tashkent': 1, 'Pelee Island, Ontario - Windsor, Ontario': 1, \"Hassi R'Mel - Ghardaïa\": 1, 'Skopje - Mostar': 1, 'Kish Island - Sharjah': 1, 'Rome - Cagliari': 1, 'Trefoil Island - Smithton': 1, 'Pickle Lake - Summer Beaver': 1, 'Ankara - Baku - Kabul': 1, 'Cap Haitien - Port au Paix': 1, 'Porlamar - Canaima': 1, 'Busia - Nairobi': 1, 'Macau - Baucau': 1, 'Agadir - Algiers': 1, 'Tallinn - Helsinki': 1, 'Griffith-Merrill, IN - Somerset, KY': 1, 'Zahedan - Kerman': 1, 'Islamabad - Kohat': 1, 'Tamanrasset - Algiers': 1, 'Mulia - Wamena': 1, 'Aurora, IL - Morris, MN': 1, 'Kinshasa - Lubumbashi': 1, 'Kabul, Afghanistan - Trabzon, Turkey - Zaragoza, Spain': 1, 'Milan - Genoa - Farnborough': 1, 'Oiapoque - Macapa': 1, 'Palmerston North - Christchurch': 1, 'Hallo Bay, AK - Homer, AK': 1, 'Port Sudan - Khartoum': 1, 'Ft. Lauderdale, FL - Treasure Cay': 1, 'La Carlota - San Cristobal': 1, 'Nairobi - Samburu National Park': 1, 'Farmingdale - Groton': 1, 'Kamchatka - Kuril Islands': 1, 'Brazzaville - Douala': 1, 'San Juan - Saint Martten': 1, 'Odessa, TX - Lubbock, TX': 1, 'Athens - Mount Athos': 1, 'Mayaguez - San Juan': 1, 'El Obeid - Juba': 1, 'Dallas - Houston': 1, 'Bagram - Farah, Afghanstan': 1, 'Little Rock - Minneapolis': 1, 'Windsor Locks - Halifax - Zaragoza, Spain': 1, 'Villavicencio - Medellin': 1, 'Coron Island - Manila': 1, 'St. Louis, MO - Kirkville, MO': 1, 'Concord, NC - Martinsville, VA': 1, 'San Diego, CA - Albuquerque, NM': 1, 'El Vigia - Caracas': 1, 'Baotou - Shanghai': 1, 'Montrose, CO - South Bend, IN': 1, 'Jakarta, Indonesia - Solo, Indonesia': 1, 'Saint Louis - Toledo': 1, 'Salt Lake City, UT - Sun Valley, ID': 1, 'Puerto Ayacucho - La Carlota': 1, 'Sao Paulo - Uberaba': 1, 'Baku - Kabul': 1, 'Mexico City - Villahermosa': 1, 'Hamilton Island - Lindeman Island': 1, 'Kenai - McGrath - Kotzebue': 1, 'Moscow - Sochi': 1, 'Ciudad Juarez - Mexico City': 1, 'Ciudad Bolívar - Uonquén': 1, 'Bogota - Carepa': 1, 'Jiech - Ayod': 1, 'Khartoum - Juba - El Obeid': 1, 'Sao Paulo - Tefe - Manaus': 1, 'Kyzyl-Orda - Bozoy - Vozrozhdenya Island': 1, 'Taiyuan - Urumqi - Baku': 1, 'Nairobi - Mogadiscio': 1, 'Katmandou - Lukla': 1, 'Libreville - Franceville': 1, 'Belo Horizxonte - Juiz de For a': 1, 'Freetown - Kailahun': 1, 'Panama City, Panama  - Washington DC': 1, 'Waterbury,CN  - Oxford, CN': 1, 'Campos, Brazil  -  Off-shore oil rig': 1, 'Port Moresby - Ononge': 1, 'Memphis - Cincinnati': 1, 'Billings - Kalispell': 1, 'Goma - Walikale': 1, 'La Orchila Air Base - Maracay': 1, 'Moscow - Volograd': 1, 'Vanavara - Tura': 1, 'Chiclayo - Chachapoyas': 1, 'Istanbul - Ankara - Diyarbakir': 1, 'Gods Narrows - Shamattawa': 1, 'Humiata - Altamira': 1, 'Fire Island, AK - Anchorage, AK': 1, 'New York City - Santo Domingo, Dominican Rep.': 1, 'Khatanga - Moscow': 1, 'Pittsburgh, PA - Baca Raton, Fl': 1, 'Tallinn - Kardla': 1, 'Berlin - Zurich': 1, 'Luxembourg - Port Harcourt': 1, 'San Jose - Quepos': 1, 'Moscow - Bratsk - Anadyr': 1, 'Little Rock - Bessemer': 1, 'Harlingen - El Paso': 1, 'Bunia - Beni': 1, 'Bremerhaven - Wangerooge': 1, 'Birmingham, England - Bangor, MA': 1, 'Jacobabad - Shamsi': 1, 'Mexico City - Chilpancingo': 1, 'Ampenan - Yogyakarta - Jakarta': 1, 'Quito - Lago Agrio': 1, 'Te Anau  - Milford Sound': 1, 'Barcelona - Oran, Algeria': 1, 'Quito -  Tulcán - Cali': 1, 'Dillingham - King Salmon': 1, 'Milan - Copenhagen / Milan - Paris': 1, 'Mendoza - Parana': 1, 'Tehran - Gorgan': 1, 'Rzhevsk - Morsansk': 1, 'Yekaterinburg - Irkutsk - Vladivostok': 1, 'Jinhae - Ockpo': 1, 'Puerto Cabello - Caracas': 1, 'Moscow - Norilsk': 1, 'Shagway, AK - Return': 1, 'Reykjavík, Iceland - Narsarsua, Greenland': 1, 'Grand Canyon NP - Las Vegas': 1, 'Kama - Kapmene': 1, 'Toronto - Lisbon': 1, 'Ithaca, NY - Jackson, MI': 1, 'Abaco - Miami': 1, 'Melilla - Málaga': 1, 'Newark - San Francisco': 1, 'Washington D.C. - Los Angeles': 1, 'Recife  - Sao Paulo': 1, 'Guatemala City - San Pedro Sula, Honduras': 1, 'Decatur Island, WAAnacortez, WA': 1, 'Tel Aviv -  Novosibirsk, Russia': 1, 'Iyachisakus Lake - Mollet Lake': 1, 'Charlotte, NC - Greer, SC': 1, 'Tehran - Khorramabed': 1, 'Basilan - Mactan Island': 1, 'Khabarovsk - Ayan': 1, 'Marco, Fl - Lexington, KY': 1, 'Cruzeiro do Sul - Tarauaca - Rio Branco': 1, 'Edmond, Alberta - High Prarie, Alberta': 1, 'Guarulhos - Londrina': 1, \"Lake de l'Avion - Agunish River\": 1, 'Military exercises': 1, 'Mobile - Mongomery': 1, 'St. Paul - Eveleth': 1, 'Berlin, Germany - Luxembourg': 1, 'Tarakan - Long Bawan': 1, 'Las Vegas, NV - Taos, NM': 1, 'Manila - Laoag': 1, 'Ol Kiombo - Mombasa': 1, 'Wichita, KS - Mena, AR': 1, 'Gohu - Madang': 1, 'Decatur - Rockford': 1, 'Taipei - Macau': 1, 'Kharkiv, Ukraine - Trabzon, Turkey - Isfanan, Iran': 1, 'Elizabeth City - Manteo': 1, 'Moroni Hahaya - Anjouan': 1, 'Roosevelt Roads NS - Borinquen NGB': 1, 'Sanofov - Lakhta': 1, 'Moscow - St. Petersburgh': 1, 'Gas platform Clipper - drilling rig Golbal Sante Fe Monach': 1, 'Budapest, Hungary - Tunis, Tunisia': 1, 'Cienfuegos -- Cayo Coco': 1, 'Minneapolis - Detroit': 1, 'Mogadishu, Somalia - Djibouti': 1, 'Cairns - Hicks Island': 1, 'Madrid - Palma de Mallorca': 1, 'Beijing - Busan': 1, 'Mornington Island - Normanton': 1, 'Medellín - Popayán': 1, 'Abuja - Jos - Kano - Lagos': 1, 'Cairo - Tunis': 1, 'Beijing - Dalian': 1, 'Port Harcourt - Calabar': 1, 'Nabire - Enaotali': 1, 'Bloemfontein - George': 1, 'Luanda - demobilization camp': 1, 'Winnipeg Manitoba': 1, 'Moscow-Munich-Barcelona / Bahrain/Brussels': 1, \"N'Djamena, Chad - Brazzaville, Congo\": 1, 'Lake Hood, AK - Iliamna, AK': 1, 'Tarakan - Krayan': 1, 'Jumla - Surkhet': 1, 'Diyarbakir - Ankara': 1, 'Bangor, ME - Concord, NH': 1, 'Bucharest -Lasi': 1, 'Lihu - Kauai': 1, 'Bejing, China - London, England': 1, 'Luanda, Angola - Huambo, Angola': 1, 'Warsaw - Miroslawiec': 1, 'Tarakan - Long Apung': 1, 'Oil Rig P18 - Macae': 1, 'Lagos - Bebi Air Strip': 1, 'Paramaribo - Lawa': 1, 'Sydney - Brisbane': 1, 'Chrisinau, Moldova - Antalya, Turkey - Sudan': 1, 'Goma - Kisangani - Kinshasa': 1, 'Bata - Annobon Island': 1, 'Wau - Rumbek - Juba': 1, 'Chelan - Stehekin': 1, 'Billings - Great Falls': 1, 'Long Beach - Two Harbors': 1, 'Chelyabinsk - Perm': 1, 'Tocumen - Colon': 1, 'San Salvador, El Salvador - Tegucigalpa, Honduras - Miami': 1, 'Puerto Montt - La Junta': 1, 'Huntsville-Houston': 1, 'Los Rogues - Carac': 1, 'Aman, Jordan - Damascus, Syria - Khartoum, Sudan': 1, 'HradeKrálové - Kiev': 1, 'Cordova - Ancorage': 1, 'Milwaukee, WI - Detroit, MI': 1, 'Lilongwe to Rumchi': 1, 'Kamina - Lubumbashi': 1, 'Siem Reap - Sihanoukville': 1, \"Luanda - M'Banza\": 1, 'Inishmaan - Connemara': 1, 'Muncho Lake - Vancouver': 1, 'Porto Alegre - Sao Paulo': 1, 'Dire Dawa - Djibouti': 1, 'Ruidoso - Albuquerque': 1, 'Moorea - Papeete': 1, 'Transporting troops': 1, 'Curitiba - Jundiai': 1, 'Kongolo - Goma': 1, 'Kisangi - Goma - Bukavu': 1, 'Bosnia - Skopje, Macedonia': 1, 'Bangkok - Phuket': 1, 'Lubumbashi - Malemba Nkulu': 1, 'Star, ID - Shelton, WA': 1, 'Villavicencio - Uribe': 1, 'Istanbul - Isparta': 1, 'Columbus, OH - Buffalo, NY': 1, 'Shuttle': 1, 'Hyannis - Nantucket': 1, 'Medical flight': 1, 'Santiago, Dominican Republi- Providenciales': 1, 'Bayou Penchant - Off shore oil fields': 1, 'New York, NY- Charlotte, NC': 1, 'Coari - Manus': 1, 'Rome - Bologna': 1, 'Newark, N.J. - Buffalo, NY': 1, 'Entebbe, Uganda - Luxor, Egypt - Niklaev, Ukraine': 1, 'Istanbul, Turkey - Amsterdam, Netherlands': 1, 'Entebbe, Uganda - Mogadishu, Somalia': 1, 'St. Johns - Hibernia platform': 1, 'Oroville, CA - Butte, MT': 1, 'Guangzhou, China - Tokyo, Japan': 1, 'Miller field - Aberdeen': 1, 'Militiary training': 1, 'Ilaga - Mulia': 1, 'Canaima - Porlamar': 1, 'Bangui, CAR- Brazzaville, Congo - Harare, Zimbabwe': 1, 'Patrol': 1, 'Jakarta - Maduin': 1, 'Goma - Isiro': 1, 'Rio de Janeiro - Paris': 1, 'Sabine Pass - Oil Platform': 1, 'Jakarta - aerial survelliance': 1, 'Tortola Virgin Islands - San Juan, PR': 1, 'al-Asad air base - Baghdad': 1, 'Hamilton, Ont, Can.- Shreveport, LA - Saltillo, Mexico': 1, 'Bogota, Colombia - Miami, FL': 1, 'Puerto Montt - Melinka Island': 1, 'AtlantiCity, NJ- Owatonna,MN': 1, 'Port Hardy - Chamiss Bay, Vancouver Island': 1, 'Ferrying fire fighters': 1, 'Betong - ': 1, 'Kenya - Somalia': 1, 'Madrid - Las Palmas, Canary Islands': 1, 'Guatemala City - El Estor': 1, 'Bishkek - Tehran, Iran': 1, 'Caracas - Latacunga': 1, 'Kisangani - Bukavu - Goma': 1, 'Colombus - Mansfield': 1, 'Moscow - Perm': 1, 'Colombia, SC - Los Angeles, CA': 1, 'Medical evacuation flight': 1, 'Katmandu - Lukla': 1, 'Sandwich - Chicago': 1, 'San Luis Potosi - Mexico City': 1, 'Kampi ya Kanzi Airstrip - Loitokitok': 1, 'Vancouver - Powell River - Toba Inlet': 1, 'Ferrying troops': 1, 'Iquitos - Pucallpa': 1, 'El-Gora - Santa Katarina': 1, 'Larnaca, Cyprus - Athens, Greece - Prague, Czech Republic': 1, 'Panama City - Fort de France, Martinique': 1, 'Lima - Pucallpa - Iquitos': 1, 'Beni - Isiro': 1, 'Medan - Jakarta': 1, 'Boende - Kinshasa': 1, 'Rio de Janeiro - Jacarepagua': 1, 'San Juan de Manapiare - Puetro Ayacucho': 1, 'Kisangani - Bunia': 1, 'Winnipeg - Thunder Bay, Ontario': 1, 'Voronezh - Moscow-Domodedovo': 1, 'Tehran - Bandar Abbas': 1, 'Baltimore, Maryland - Chicago, Illinois - Las Vegas, Nevada': 1, 'Abuja - Port Harcourt': 1, 'Miami, Florida - Bimini, Bahamas': 1, 'Baku, Azerbaijan - Aktau, Kazakhstan': 1, 'Mulia - Ilaga': 1, 'Twin Falls - Truckee - Carlsbad - Monterrey': 1, 'Moscow - Karkov': 1, 'Entebbe - Kinshasa': 1, 'Tehran - Orumiyeh': 1, 'Talinn, Estonia - Helsinki, Finland': 1, 'Pristina - Kosice': 1, 'Bari, Italy - Djerba, Tunisia': 1, 'Malabala, Bioko Island - Bata': 1, 'Bagdad - Balad': 1, 'Herat - Kabul': 1, 'Sharjah - Khartoum - Nyala': 1, 'Fresno, CA - Santa Monica, CA': 1, 'Richmond, VA - Saint Louis, MO  - Pueblo,CO - Irvine, CA': 1, 'Tabubil - Bimin': 1, 'Jayapura - Sarmi': 1, 'Maturin - Charallave': 1, 'Glasgow - Campbeltown': 1, 'Ufa - Usinsk - Perm - Varandey - Naryan Mar': 1, 'Mwanza - Khartoum - Zagreb': 1, 'Old Providence - San Andres': 1, 'Timika - Enarotali': 1, 'Krish - Teran': 1, 'Auckland - Blenheim': 1, 'Bangboka - Isiro': 1, 'Bamaga - Lockhart River': 1, 'Balmaceda, Argentina - Chile Chiro, Chile': 1, 'Lusaka - Livingstone - Mongu - Lusaka': 1, 'Goma - Kindu - Kongolo': 1, 'Kartoom - El Obeid - El Fasher': 1, 'Paris, France - Toronto Canada': 1, 'Walikale - Goma': 1, 'Tofino - Vancouver': 1, 'Madrid - Pamplona': 1, 'Stavanger - Stord': 1, 'Training/Aranchi': 1, 'Lagos - Abuja - Sokoto': 1, 'Tehran - Shiraz': 1, 'Loma Linda - Victorville': 1, 'Port Heiden - King Salmon': 1, 'Mbeya - Dar es Salaam': 1, 'Surabaya, East Java - Manado, Indonesia': 1, 'Dar es Salaam - Matabwe': 1, 'Adana, Turkey - Balad Air Base, Iraq': 1, 'Laredo, TX - Guadalajara, Mexico': 1, 'Van Nuys - Long Beach': 1, 'Pau - Paris': 1, 'North Caicos - Grand Turk': 1, 'Great Falls - Bozeman': 1, 'Jakarta - Yogyakarta': 1, 'Petrolina - Salvador': 1, 'Surgut - Samara': 1, 'Mogadishu - Djibouti': 1, 'Kato - Kopinang': 1, 'Abidjan, Ivory Coast - Douala, Cameroon - Nairobi, Kenya': 1, 'Manaus - Brasilia': 1, 'Dayton, Ohio -': 1, 'Abuja - Obudu': 1, 'Bandar Abbas - Mashad': 1, 'La Paz - Sana Cruz': 1, 'Cuenca - Macas': 1, 'Macaé - Rio de Janeiro': 1, 'Nairobi - Eastleigh AFB': 1, \"Sebha - N'Djamena\": 1, 'Kabul - Kandahar - Lashkar Gah': 1, 'Goma - Bunia, DCR': 1, 'Yerevan, Armenia - Sochi, Russia': 1, 'AtlantiCity, NJ - Groton, CT': 1, \"Coeur d'Alene, ID - Missoula, MT\": 1, \"N'djamena - Abéché\": 1, 'Surkhet - Jumla': 1, 'Polokwane - Vilanculos': 1, 'Goma - Kisangani': 1, 'Multan - Lahore': 1, 'Lugushwa - Bukavu': 1, 'Bogota - Leticia': 1, 'Binghamton, NY - Benningham, VT': 1, 'Algiers, Algeria - Frankfurt, Germany': 1, 'Anapa - St. Petersburg': 1, 'Lexington, KY - Atlanta, GA': 1, 'Gizel - Khankala': 1, 'San Fernando - El Calafate': 1, 'Vinh - Dong Hoi - Hue': 1, 'Adar Yeil - Khartoum': 1, 'Ludana - Lukapa': 1, 'Lima - Arequipa': 1, 'Brasilia - Sao Paulo': 1, 'Condorcanqui - Bagua': 1, 'Ariba - Punto Fijo': 1, 'Tizla - Dubrovnik': 1, 'Novosibirsk - Petropavlovsk': 1, 'Taipei - Matsu Island': 1, 'Cheyenne, WY - Lincoln, NE': 1, 'Wadi Halfa - Khartoum': 1, 'Durango - Otaez': 1, 'Menyamya - Marakawa': 1, 'Miami - Atlanta': 1, 'Inverness - Lerwick': 1, 'Kinshasa, Congo  - Athens, Greece': 1, 'Fukuoka - Denpasar': 1, 'Dalian - Shanghai': 1, 'Pensacola - Atlanta': 1, 'Bosavi - Mendi': 1, 'Delhi - Shimla - Kulu': 1, 'Villafranca, Italy - Eindhoven AB': 1, 'El Obeid - Khartoum': 1, 'New York City - Paris': 1, 'Berlin - Salzburg': 1, 'Port-au-Prince - Cap Haitien': 1, 'Triumph Bay - Campbell River': 1, 'Medan - Meulaboh': 1, 'Saltillo - Piedras Negras': 1, 'Comodoro Rivadavia - Cordoba': 1, 'Jos - Kano': 1, 'Colombo - Palay AFB': 1, 'Cotonou - Douala': 1, 'Nakhichevan - Baku': 1, 'Yushno - Khabarovk': 1, 'Cayenne - Port-au-Prince': 1, 'Verona - Timisoara': 1, 'Kinshasa - Jamba': 1, 'Miami - Cali': 1, 'Madang - Bundi': 1, 'Kinshasa - Kahemba': 1, 'Union Island - Bridgetown': 1, 'Wellington - Picton': 1, 'Asuncion - Campina Grande': 1, 'St. Johns, AZ - Brownsville, TX': 1, 'Puerto Plata - Gander': 1, 'Tijuana - Ensenada': 1, 'Guatemala City - Cantabal': 1, 'Cape Chelyuskin - Sterligov Cope': 1, 'Holvox Island - Playa del Carmen': 1, 'Rangoon - Mergui': 1, 'Bogota - Medellin': 1, 'Tanbaram AFB - Hyderabad': 1, 'Bridgeport, CT - Lebanon, NH': 1, 'Manteo - Edenton': 1, 'Pago Pago - FagaliI': 1, 'St. Marys - Kenai': 1, 'Jos - Yola': 1, 'Tambacounda - Dakar': 1, 'Maraba - Carajas': 1, 'Lima, Peru - Guatemala City, Guatemala': 1, 'Dezful - Mashhad': 1, 'Stavropol - Trabzon': 1, 'Howard AFB - Tegucigalpa': 1, 'Griffin - Americus': 1, 'Brazzaville - Luanda': 1, 'Jakarta - Tanjung Pandan': 1, 'Chongqing - Shenzen': 1, 'Bunia - Kisangani': 1, 'Ulan Bator - Mandalgobi': 1, 'Mumbai - Banglaor': 1, 'Sao Jose dos Campos - Congonhas': 1, 'St. Petersburg - Krasnodar': 1, 'Emmonak - Aniak': 1, 'Boise - Salt Lake City': 1, 'Medellin - Bahia Solano': 1, 'Iqaluit - Markham Bay': 1, 'Bronson Creek - Wrangell': 1, 'Jackson Hole, WY - New York, NY': 1, 'Tasu - Alliford': 1, 'Belgrade - Malta': 1, 'Moscow - Svalbard': 1, 'Porto Alegre - Joinville': 1, 'Texel - Amsterdam': 1, 'Lima - Santiago': 1, 'Moscow - Turin, Italy': 1, 'Port Meiner, Quebe- Bangor, Maine': 1, 'Manta - Miami': 1, 'Tyumen - Khanty': 1, 'Sao Paulo - Rio de Janiero': 1, 'Geneva - Bordeaux': 1, 'New Delhi - Dhahran / Chimkent - New Delhi': 1, 'Burlington, IA - Quincy, IA': 1, 'San Diego, CA - Portland, OR': 1, 'Addis Ababa - Nairobi': 1, 'Bethel - Kwigillingok': 1, 'Abakan - Petropavlosk - Kamchatsky': 1, 'Banjarmasin - Sampit': 1, 'Haines, AK - Skagway, AK': 1, 'Anchorage-Elmendorf AFB - Anchorage-Elmendorf AFB': 1, 'Kota Kinabalu - Tawau': 1, 'Caribou Lake, AK - Nikiski, AK': 1, 'Merrill Field, AK - Port Alsworth, AK': 1, 'Chicago - Pittsburgh': 1, 'Fish Egg Inlet - Pruth Bay': 1, 'Tunis - Tamanrasset': 1, 'Krasnoyarsk - Tura': 1, 'Bahia Negra - Asuncion': 1, 'Cordoba Pajas Blancas - Buenos Aires, Brazil': 1, 'Chaibukha - Provedenia': 1, 'Isfahan - Terhan': 1, 'Rio de Janeiro - Belem': 1, 'Yushno - Ust Ilimsk': 1, 'Indianapolis - Chicago': 1, 'Cozumel - Chichen Itza': 1, 'Nabire - Obano': 1, 'Trujillo - Saposa': 1, 'Selbang - Bolvovip': 1, 'Manila - Cebu - Tokyo': 1, 'Nome, AK - Koyuk, AK': 1, 'Greensboro - Raleigh': 1, 'Tabubil - Selbang': 1, 'Seoul - Cheju': 1, 'East Midlands - Coventry': 1, 'Dzhida - Boda': 1, 'Colon - Panama City': 1, 'Taura - Latacunga': 1, 'Tanzania - Kigali, Rwanda': 1, 'Pontianak - Nanga Pinoh': 1, 'Taipe - Nagoya': 1, 'AtlantiCity, NJ - Stratford, CT': 1, 'Furatena - Quipama - Boyaca - Bogota': 1, 'Sao Paulo - Sao Gabriel': 1, 'San Jose - Villavicencio': 1, 'Villavicencio - La Primavera - Puerto Carreno': 1, 'Xian - Guangzhou': 1, 'Lazaro - Cardenas - Michoacan': 1, 'Mexico City - Washington D.C.': 1, 'Balikpapan - Palu': 1, 'Taku Lodge, AK - Taku Lodge, AK': 1, 'San Pedro - Abidjan': 1, 'Toulouse - Toulouse': 1, 'Nouakchott - Tidjikja': 1, 'Columbia, SC - Charlotte, NC': 1, 'Portage Creek, AK - Dillingham, AK': 1, 'Lihue, HI - Lihue, HI': 1, 'Bridgetown - Fort de France': 1, 'Kilo Lima - Kelawit': 1, 'Ulan Bator - Moron': 1, 'Alger - Paris': 1, 'Bima - Ruteng': 1, 'Poliny Osipenko - Nikolayevsk-on-Amur': 1, 'Poliny - Nikolayevsk-on-Amur': 1, 'Ondjiva - Catumbela': 1, 'Kaduna - Lagos': 1, 'Santo Domingo - Aguadilla, Puerto Rico': 1, 'Karluk - Kodiak': 1, 'Port Moresby - Tabubil': 1, 'Alotou - Dagura': 1, 'Maintirano - Antananivo': 1, 'Johannesburg - Jamba': 1, 'Guatemala City - San Salvador': 1, 'Tual - Langgar - Kaimana': 1, 'Neiva - Cali': 1, 'Atlanta - Gulfport': 1, 'Farewell - Anchorage': 1, 'Air Show': 1, 'Las Vegas, NV - W. Yellowstone, MT': 1, 'Villavicencio - La Macarena': 1, 'Kabul - Jalalabad': 1, 'Ratmalana - Palali base': 1, 'Bimini - Mores Cay': 1, 'Auckland - Palmerston North': 1, 'Isfahan - Tehran': 1, 'Atlanta - Miami': 1, 'Leeds - Aberdeen': 1, 'Flagstaff - Phoenix': 1, 'Vancouver - Masset': 1, 'Visalia - Oakland': 1, 'Sequim, WA - Seattle, WA': 1, 'Los Angeles, CA - Burbank, CA': 1, 'Kathmandu - Rumjatar': 1, 'Krasnoyarsk - Abakan': 1, 'Paris - Romania': 1, 'AZ - Las Vegas, NV': 1, 'Kansas City - Chicopee': 1, 'Petropavlovsk -  Ossora': 1, 'Sacramento, CA - Reno, NV': 1, 'Hamilton -  New Plymouth': 1, 'Bucharest - Brussel': 1, 'Camp Springs, MD - San Antonio, TX': 1, 'Tindal - Alice Springs': 1, 'Anuradhapura - Palaly AFB': 1, 'Red Lake - Sioux Lookout  / Sioux Lookout - Red Lake': 1, 'Buenos Aires - La Paz - Quito': 1, 'Mitu - Villavicencio': 1, 'Boise, ID - Colorado Springs, CO': 1, 'Villavicencio - Miraflores': 1, 'Bangdung - Jakarta': 1, 'Chimbu - Goroka': 1, 'Phuket - Ranong': 1, 'Opa-Locka - Marianna': 1, 'London, England - Milan, Italy': 1, 'Havana - Valencia': 1, 'Simara - Kathmandu': 1, 'Kiev, Russia - Tehran, Iran': 1, 'Zürich - Dresden': 1, 'Tripoli IAP - Marsa el-Brega': 1, 'San Jose - Tortuguero': 1, 'Ankara - Istanbul': 1, 'Abidjan - Lagos': 1, 'Pepa, Congo - Kigali, Rwanda': 1, 'Cagayancillo - Puerto Princesa': 1, 'Puerto Vallarta - San Francisco': 1, 'Ilianma, AK - Koliganek, AK': 1, 'Sacramento, CA - Dayton, OH': 1, 'Las Vegas - Burbank': 1, 'Moscow - Kiev': 1, 'Points North Landing, SK - Ennadai Lake': 1, 'Panama City - Puerto Obaldia': 1, 'Bangkok - Colombo': 1, 'Boca Raton - Fort Pierce': 1, 'Havana - Guatemala City': 1, 'Manila - Davao': 1, 'Ponta Delgada - Horta': 1, 'Saint Louis - Branson': 1, 'Sao Vicente - Santo Antao': 1, 'Port-Menier - Sept-Iles': 1, 'Taipei - Hualian': 1, 'Tashkent - Turtkul': 1, 'Buenos Aires - Cordoba': 1, 'Serener Airstrip - Kilimanjaro IAP': 1, 'Glasgow - Aberdeen': 1, 'Westerly, RI - Block Island, RI': 1, 'Pokhara - Kathmandu': 1, 'Athens - Bucharest': 1, 'Belem - Monte Dourado': 1, 'Napoli - Genoa': 1, 'La Carlota - Acarigua': 1, 'Orlando, FL - Dallas, TX': 1, 'New York City - Cairo': 1, 'Uruapan - Mexico City': 1, 'Rome - Pristina': 1, 'Nairobi - Dar Es Salaam, Tanzania': 1, 'Moscow, Russia - Tashkent, Uzbekistan': 1, 'Johannesburg, South Africa  - Oranjemund, Namibia': 1, 'Manila - Cauayan': 1, 'Sundsvall - Gothenburg': 1, 'Sky Diving': 1, 'Kahului - Hoolehua': 1, 'AtlantiCity - Wilkes-Barre': 1, 'St. Louis - New Madrid': 1, 'Vientiane - Sam Neua': 1, 'Moscow - Batumi': 1, 'Saurimo - Luanda': 1, 'Fort Wayne, IN - Milwaukee, WI': 1, 'Luanda - Namibe': 1, 'Miami, FL - Port au Prince': 1, 'Malaga - Cordoba': 1, 'Canaina - Ciudad Bolivar - Por La Mar': 1, 'Broomfield, CO - Stillwater, OK': 1, 'Chicago - Beaver Island': 1, 'Nurnberg - Rome, Italy': 1, 'Paramaribo - Jakobkondre': 1, 'Edinburgh - Belfast': 1, 'Bangkok - Chiang Mai.': 1, 'Fort Walton Beach, Fl - Oceana Naval Air Station, VA': 1, 'Istanbul, Turky - Moscow, Russia': 1, 'Luanda - Lubango': 1, 'St. Maarten - St. Barthélémy': 1, 'Los Angeles - Aspen': 1, 'Green Bay - Ft. Myers, Fl': 1, 'Bellingham - Eastsound-Orcas Island': 1, 'Libreville - Moanda': 1, 'Kuglluktuk - Yellowknife': 1, 'Mexico City - Reynosa - Matamoros': 1, 'Adelaide - Whyalla': 1, 'Tamale - Accra': 1, 'Ronaldsway - Liverpool': 1, 'Cuiaba - Rondonopolis': 1, 'Enshi - Wuhan': 1, 'Tuxtla Gutierrez - Villahermosa': 1, 'Hinckley, IL - Louisburg, NC': 1, 'Calcutta - Patna - Lucknow - New Delhi': 1, 'Moncton - Montreal': 1, 'Sight seeing': 1, 'Bajhang - Dhangadhi': 1, 'Cubatao - Navegantes': 1, 'Santiago - Coihaique': 1, 'Lakehurst, NY - Patuxent River, MD': 1, 'Teslin - Dease Lake': 1, 'Dothan, AL - Hazelhurst, GA': 1, 'Cairo - Manama': 1, 'San Jose  - La Fortuna - Tamarindo': 1, 'Perth - ': 1, 'Colombo - Kalmunai': 1, 'Deadhorse - Nuiqsut': 1, 'Cashaschanes - Sumacal': 1, 'Nausori - Nadi': 1, 'Tokyo, Japan - Chitose, Japan': 1, \"Fairfield, N.J. - Martha's Vineyard, MA\": 1, 'Gomel - Kunovice': 1, 'Thandwe - Sittwe': 1, 'Tacloban - Cagayan de Oro': 1, 'Terceira - Lisbon': 1, 'Denpasar - Taipei': 1, 'Memphis, TN - Bowling Green, KY': 1, 'Grand Forks - Bismark': 1, 'Mombasa, Kenya - Cairo, Egypt': 1, 'Hsinchu - Kao Hsiung': 1, 'Dubai - Kandahar - Kabul': 1, 'Tumbes - Piura': 1, 'Iquitos - Andoas': 1, 'Nema - Nouakchott': 1, 'Vientiane - Xiang Khoang': 1, 'Charlotte, NC - Monroe, NC': 1, 'Erdenet - Moron': 1, 'Montreal - Peterborough': 1, 'Rasal - Nikolaev, Ukraine': 1, 'Tucumán - Córdoba': 1, 'Bourgas, Bulgaria - Asmara, Eritrea': 1, 'VP-BPS': 1, 'Kandahar - Heart': 1, 'Palma de Mallorca - Barcelona': 1, 'Maiden, NC - Greensboro, NC': 1, 'Abidjan - Rundu, Nambia': 1, 'Lagos - Calabar': 1, 'Nice - Florence': 1, 'Seoul - Guam': 1, 'Miami - Santo Domingo': 1, 'Taipei - Matsu': 1, 'San Felipe - Puerto Inirida': 1, 'Ho Chi Minh City - Phnom Penh': 1, 'Bandar Seri Begawan - Miri': 1, 'Buknavu - Uvira': 1, 'Jakarta - Medan': 1, 'Montrose, CO - Page, AZ': 1, 'Posadas - Buenos Aires': 1, 'Fort MMurray - La Loche': 1, 'Irkutsk - Vladivostok': 1, 'Winnipeg - Little Grand Rapids': 1, 'Villamontes - Santa Cruz': 1, 'Dushanbe - Sharjah': 1, 'Mackenzie - Bear Valley': 1, 'Odessa - Thessaloniki': 1, 'Jakarta - Hatta - Singapore': 1, 'Search mission': 1, 'Panama City - Rio Sidra': 1, 'Tefe - Manaus': 1, 'Agathi - Kochi - Thiruvananthapuram': 1, 'Cagliar - Genoa': 1, 'Huambo - Saurimo': 1, 'London - Guernsey': 1, 'Horn Island - Coconut Island': 1, 'Jumla - Nepalgunj': 1, 'Hoskins - Kandrian': 1, 'Kinshasa - Mbandaka': 1, 'Tonopath - Bishop': 1, 'Chengdu - Wenzhou': 1, 'Gwalior -  Pokhran - New Delhi': 1, 'Cucuta - El Yopal': 1, 'Goose Bay - Davis Inlet': 1, 'Adana - Ciddah': 1, 'Bucaramanga - Malaga': 1, 'Shanghi, China - Seoul, Korea': 1, 'Espírita Santo - Port Vila': 1, 'Ol Kiombo - Mara Sika AS': 1, 'Dallas-Fort Worth - Little Rock': 1, 'Kassala - Khartoum': 1, 'Nadzab - Goroka': 1, 'London, England - Frankfort, Germany': 1, 'Los Mochis - Toluca': 1, 'Bogotá - Medellín': 1, 'Luanda - Saurimo': 1, 'Bangkok - Surat Thani': 1, 'Yangon - Sittwe': 1, 'Lyon - Lorient': 1, 'Prince Rupert - Kincolith': 1, 'Stewart Island - Invercargill': 1, 'St. Maarten - Roseau': 1, 'Pretoria - Durban': 1, 'Rangoon - Tachilek': 1, 'Quito - Guayaquil - Havana': 1, 'New York City - Geneva': 1, 'Anchorage, AK - Hoholitna River, AK': 1, 'Timika - Jayapura': 1, 'Moscow - Hong Kong': 1, 'Malaga - Melilla': 1, 'Jaffna - Colombo': 1, 'Sighteeing': 1, 'Kindu - Kinshasa': 1, 'Yerevan - Krasnodar': 1, 'Teresina - Fortaleza': 1, 'Plaa Grande - Quetzaltenango': 1, 'Krasnoyarsk - Mirny': 1, 'Brunswick, GA - Annapolis, MD': 1, 'Mena, AR - Texarcana, TX': 1, 'Point-Lebel - Rimouski': 1, 'Sao Nicolau - Praia': 1, 'Dagget, CA - Loma Linda, CA': 1, 'Mechuka for Jorhat': 1, 'Split - Koln / London - Istanbul': 1, 'Rio de Janeiro - Guiana': 1, 'Nice - Paris': 1, 'St. Johns - Goose Bay': 1, 'Rome - Frankfort': 1, 'San Juan - New York City': 1, 'Kansas City, MO - Phoenix - Burbank': 1, 'Brownsville, TX - Guatemala City': 1, 'Rio de Janeiro - New York City': 1, 'Amsterdam, Netherlands - Jarsberg, Norway': 1, 'Nice - Malta': 1, 'Radio surveillance mission': 1, 'Rio Verde - Goiania': 1, 'Blackbushe - Malta - Khartoum': 1, 'Khewra - Peshawar': 1, 'Juba - Wadi Halfa': 1, 'Fort Lamy - Beirut': 1, 'Elmendorf AFB - Big Delta': 1, 'Elemndorf AFB - Kodiak NAS': 1, 'Great Falls - Denver, Colorado': 1, 'Madrid - Azores - Bermuda - Havana': 1, 'Rio de Janeiro - Buenos Aires': 1, 'Abadan - Tehran': 1, 'San Francisco - Seattle': 1, 'Tokyo - Elmendorf AFB': 1, 'Frankfort - Bordeaux': 1, 'Pakse, Laos  - Saigon, Vietnam': 1, 'Vancouver - Tokyo': 1, 'Cochabamba - Rio de Janeiro': 1, 'Boston - Hartford - Cleveland - Chicago - Oakland': 1, 'Perpignan - Oran': 1, 'Bangalore - Trivandrum': 1, 'Mexico City - Villahermossa': 1, 'Port Elizabeth - Durbin': 1, 'Buffalo - Newark': 1, 'Azores - Westover AFB': 1, 'Belgrad - Skopje': 1, 'Oakland - Albuquerque': 1, 'Ankara - Cairo': 1, 'Zurich - Rome': 1, 'Fort Smith - Newark': 1, 'Pittsburgh - Buffalo': 1, 'Umiat - Fairbanks': 1, 'New York - Williams AFB': 1, 'Northolt - Dublin': 1, 'Kildala - Vancouver': 1, 'Maceio - Aracaju': 1, 'Northolt - Belfast': 1, 'Lajes, Azores - Gander': 1, 'Monterrey - Falcon Dam': 1, 'New York City - San Juan': 1, 'Sydney - Honolulu - San Francisco': 1, 'Camiri - Suere': 1, 'Bilbao - Madrid': 1, 'Bandirma - Canakkale': 1, 'Bovingdon AF - Thorney Island': 1, 'Rome - London': 1, 'Medellin - Armenia': 1, 'Frankfurt - Brussels': 1, 'Praha - Moravska - Ostrava': 1, 'Military exercise': 1, 'Salt Lake City - Cedar City - Rapid City': 1, 'Tripoli, Libya - Hahn, W Germany': 1, 'Australia - London': 1, 'Oklahoma - Long Island, NY': 1, 'Mazatlan - Monterey': 1, 'Adana - Istanbul': 1, 'Mendoza - Cordoba': 1, 'Churchchrist - Paraparaumu': 1, 'Misawa - Chitose': 1, 'Boeing Field - Cheyenne': 1, 'Philadelphia - Louisville': 1, 'Campeche - Mérida': 1, 'Miami - Orlando - New Orleans': 1, 'Karachi - Rangoon': 1, 'New York, NY - Winsor Locks, CT': 1, 'Delhi - Dacca': 1, 'Azores - Rapid City AFB': 1, 'Roswell - Oakland - Guam': 1, 'Nairobi - Dar-es-Salaam': 1, 'Spokane - Ellenburgh': 1, 'Hanoi - Na San': 1, 'Boston - Hartford - Albany - Chicago': 1, 'Delh - Ahmedabad - Bombay': 1, 'Dallas - Shreveport': 1, 'Palmar Sur - San Isidoro': 1, 'Tachikawa AB - Kimpo AB': 1, 'Wake Island - Honolulu - Oakland': 1, 'Whitting NAS - Norfolk NB': 1, 'Sharjah - Bahrain': 1, 'Paris - Nice - Hong Kong': 1, 'Monterey, CA - Tacoma, WA': 1, 'San Pedro - San Andres': 1, 'Sandpit, BC - Prince Rupert, BC': 1, 'Governador Valadares - Belo Horizonte': 1, 'Salt Lake City - Denver': 1, 'Johannesburg - Accra - Monrovia - New York': 1, 'Rome - Shannon': 1, 'Belfast - Manchester': 1, 'Churchhill - Winnipeg': 1, 'Leopoldville - Elizabethville': 1, 'Montreal - Comeau Bay': 1, 'Tapacula - Mexico City': 1, 'Las Vegas - Denver': 1, 'Paris - Santa Maria - New York City': 1, 'Boston - Washington D.C. - New Orleans': 1, 'Mers Nueva - Ambato': 1, 'Philadelphia - Cleveland': 1, 'Paris - Lyons - Tunis': 1, 'New York City - Mexico City': 1, 'Sao Palo, Brazil - Jacarezinho, Panama': 1, 'Burbank - Oakland - Sacramento': 1, 'Chengdu - Hoikow': 1, 'New Port News - Washington D.C.': 1, 'Agartala - Calcutta': 1, 'Valle grande - Cochabamba': 1, 'Antananarivo - Tamatave': 1, 'Brussels - Oslo': 1, 'Elmendorf - Great Falls, MT': 1, 'New York City - Wilmington': 1, 'Delhi - Bombay': 1, 'Madrid - Barcelona': 1, 'Athens - Nice': 1, 'Seattle - New Haven': 1, 'Raleigh, NC - Boston, MA': 1, 'Porto Alegre - Sao Borja': 1, 'Bermuda - Kingston': 1, 'RAF Scampton - Keflavik - Kansas': 1, 'Homer - Anchorage': 1, 'Khartoum - Castel Benito': 1, 'Albuquerque - Burbank': 1, 'Paris - Copenhagen': 1, 'Manila, Philippines - Hong Kong': 1, 'Coolangatta - Brisbane': 1, 'Auckland - Wellington': 1, 'Barcelona - Torino': 1, 'Daet - Manila': 1, 'Kavallo - Athens': 1, 'Florianpolis - Porto Alegre': 1, 'Batavia - Amsterdam': 1, 'Guildford - Darwin': 1, 'Tingo Maria - Huanuco': 1, 'Rejeka and Zagreb': 1, 'Amsterdam - London': 1, 'Rochester Minn. - Minneapolis': 1, 'Casablanca - Perpignan': 1, 'Naha AB - Clark AB': 1, 'Vancouver - Penticton': 1, 'Mar del Plata - Buenos': 1, 'Butterworth - Kota Bharu': 1, 'Newark - Philadelphia': 1, 'Minneapolis - Seattle': 1, 'Paris - Rome': 1, 'Hong Kong - Iwakuni, Japan': 1, 'Maldorado - Quincemil': 1, 'Vestmannaeyar Island - Reykjavík': 1, 'Kansas City, MO - Omaha, NB - Sioux City, Iowa': 1, 'Loring AFB - Lakeheath AFB': 1, 'Ushuaia - Buenos Aires': 1, 'Santa Maria - Santa Barbara - Oxnard - Los Angeles': 1, 'Godman AFB - Charleston, WV': 1, 'Miami - Havana': 1, 'Cleveland - Fort Wayne - South Bend - Chicago': 1, 'Bordeaux - Bovingdon': 1, 'Santa Cruz de Rio Prado - Presidente Prudent': 1, 'Douala - Niamey': 1, 'Ostrava - Prague': 1, 'Chico, CA - Billings, WY': 1, 'Bombay - Cairo - Geneva - London': 1, 'Hue - Tourane': 1, 'Llandow - Dublin': 1, 'Philippines - Japan': 1, 'Bermuda - England': 1, 'Victoria - Salvador': 1, 'San Juan - Wilmington NC': 1, 'Kingston, Jamacia - Maracaibo, Venezuela': 1, 'New York City - Minneapolis-St. Paul': 1, 'Guildford - Melbourne': 1, 'Rome - Paris': 1, 'Delhi - Sringagar': 1, 'Rio de Janeiro - Porte Algegre': 1, 'Algiers - Gao': 1, 'Changi, Singapore - Kota Baru': 1, 'Utica, NY - Newark, NJ': 1, 'Kwajzalein - Tokyo': 1, 'Belgrad - Paula': 1, 'Karlstad - Stockholm': 1, 'Ashiya AB - Kimpo AB': 1, 'Casablanca -  Algiers': 1, 'Nova Lisboa - Lobito': 1, 'Blackbushe, UK - Beogard, Serbia': 1, 'Geneva - London': 1, 'Singapore - Hong Kong - Bangkok': 1, 'New York City - Nantucket': 1, 'Guam - Clark AB': 1, 'Beirut - Rome': 1, 'Fortin Campero - Tarija': 1, 'Peking - Moscow': 1, 'Patuxent River, NAS - Argentia,NAS': 1, 'London - Napoli': 1, 'Miami - Varadero': 1, 'Rome - Belgrade': 1, 'Amsterdam - Shannon - Gander - New York': 1, 'Cabo Ruivo - Funchal': 1, 'Johannesberg - Salisbury - Brazzaville - Nice - Paris': 1, 'Tippi - Jimma': 1, 'Copan - Nuovo Octopeque': 1, 'Nashville - Knoxville - Tri-City Aport': 1, 'Hamburg - Rio de Janeiro': 1, 'Burbank, CA - Seattle, WA': 1, 'Buenos Aires - Mar del Plata': 1, 'Merida - Lagunillas': 1, 'Jerusalem - Dobouk': 1, 'Vigo - Madrid': 1, 'Pueblo, CO - San Antoonio, TX': 1, 'Wadi Halfa - Benina': 1, 'Florianopolis - Curitiba': 1, 'San Fransisco - Honolulu': 1, 'Barcelona - Palma de Mallorca': 1, 'Southhampton - Lisbona': 1, 'Paraparaumu - Timaru': 1, 'Buenos Aires - San Carlos': 1, 'Ozamis City - Pagadian': 1, 'Buenos Aires - Rosario - Corrientes': 1, 'Dehli - Karachi': 1, 'Long Beach - McGuire AFB': 1, 'Westover AFB - London': 1, 'Munich - Manchester': 1, 'Simra - Kathmandu': 1, 'Quito - Esmeraldas': 1, 'New York - Detroit - Saginaw - Chicago': 1, 'Zaragoza - Barcelona': 1, 'Lisbon - Leopoldville': 1, 'Pittsburgh - Baltimore': 1, 'Algier - Colomb-Bechar - Tindouf': 1, 'San Francisco - Singapore': 1, 'Guadalajara - Mexico City': 1, 'Isle of Man - Manchester': 1, 'Tanger - Madrid': 1, 'Mason City - Fargo': 1, 'Arica, Colombia - Puerto Suarez, Bolilvia': 1, 'Washington DC - Charlottsville, VA': 1, 'Montreal - Hall Lake': 1, 'Tampa - New Orleans': 1, 'Chicago - Los Angeles': 1, 'Harrisburg - Willamsport': 1, 'San Andres Island - Cartagena': 1, 'Kabul - Tashkent': 1, 'Juneau - Annette Island': 1, 'New York - Miami': 1, 'Athens - Thessaloniki': 1, 'Misurata - Benghazi': 1, 'Miami - Montigo Bay': 1, 'Darwin - Baucau': 1, 'Laguna de Huana-Costa - La Paz': 1, 'Campos - Rio de Janeiro': 1, 'Aracacuara - Villavicencio': 1, 'San Andres - Medellin': 1, 'Siuna - Bonanza': 1, 'Dover, Delaware - Mildenhall, England': 1, 'Miami - Medellin - Bogota': 1, 'Washington D.C. - Norfolk': 1, 'Istanbul - Antalya': 1, 'Los Angeles - Oxnard - Santa Maria - Paso Robles': 1, 'Shemya - Cold Bay - Adak - Anchorage': 1, 'Beirut - Tehran': 1, 'Las Mercedes - Tegucigalpa': 1, 'Palma de Mallorca - Mahon': 1, 'Dum Dum - Agartala-Singerbhil - Kumbhirgram': 1, 'Orlando, FL - Atlanta, GA': 1, 'Mexicale - Guaymas': 1, 'Ankara, Turkey - Bahrain': 1, 'Barcelona - Madrid': 1, 'Palma de Mallorca - Wien': 1, 'Houston - Dallas': 1, 'Pittsburg - Charleston': 1, 'Mar del Plata - Bahia Blanca': 1, 'Talara  - Arica': 1, 'Bogota - Lima': 1, 'Milan - Paris': 1, 'Mohanbari - Along': 1, 'Barcelona - London': 1, 'Abilene, TX - Forth Worth, TX': 1, 'San Salvador - Miami': 1, 'Bordeaux - Bamako': 1, 'New York City - Atlanta': 1, 'Beirut - Kuwait City': 1, 'San Pablo - Porto Alegre - Montevideo': 1, \"Martha's Vineyard - New Bedford\": 1, 'Dar-es-Salaam - Nairobi': 1, 'Douala - Fort Lamy': 1, 'Sao Paulo - Asuncion': 1, 'Acapulco - Oaxaca': 1, 'Kansas City, MO - Chicago': 1, 'Wien - Tel Aviv': 1, 'Springfield, IL - St. Louis, MO': 1, 'Starllingrad - Moscow.': 1, 'Rio de Janeiro - Caravelas': 1, 'Mobile, AL - Macon, GA': 1, 'Meiktila - Lanywa': 1, 'Edmonton, AB - Yellowknife, NT': 1, 'Rome - Tripoli': 1, 'Wake Island - Honolulu': 1, 'Denver - Salt Lake City - San Francisco': 1, 'Beograd - Wien': 1, 'Seattle - Newark': 1, 'Sao Paulo - Belem': 1, 'Knob Lake - Oreway': 1, 'Bratislava - Kosice': 1, 'LaLérè - Douala': 1, 'El Toro MAS - Alameda NAS': 1, 'Portland - Honolulu': 1, 'Puerto Vallarta - Guadalajara': 1, 'McGrath - Colorado Creek': 1, 'Lajes, Azores - Bermuda': 1, 'Saigan - Hanoi': 1, 'Red River delta - Saigon': 1, 'Memphis - Minneapolis': 1, 'Shannon - Amsterdam': 1, 'Patuxent River NAS - Kenitra, Morocco': 1, 'New Jersey - Azores - Port Lyautey, Moroco': 1, 'Laconia, NH - Berlin, NH': 1, 'Newark - Chicago - St. Louis - Springfield - Tulsa': 1, 'Luang Prabang - Nam Tha': 1, 'Newark - Tacoma': 1, 'Peking -  Irkutsk - Cyprus': 1, 'Cincinnati - Cleveland': 1, 'Newark - Des Moines - Lincoln': 1, 'Nagpur - Delhi': 1, 'Enugu - Calabar': 1, 'Brussels - Rome': 1, 'Albuquerque - Sante Fe': 1, 'Salisbury - Lusaka': 1, 'Rome - New York City': 1, 'Gilgit  - Islamabad': 1, 'Liverpool - Glasgow': 1, 'Asansol - Bagdogra': 1, 'Buenos Aires - Mar Del Plata - Mendoza': 1, 'San Carlos - Managua': 1, 'Tunis - Paris': 1, 'Santa Monica - Santa Monica': 1, 'Kimpo AB - Tokyo, Japan': 1, 'Fairbanks - Seattle': 1, 'Amsterdam - Manchester': 1, 'Cebu - Manila': 1, 'Cochabamba - Oruro': 1, 'Joplin - Owasso': 1, 'Travis AFB - Tokyo': 1, 'Tehran, Iran - Istanbul, Turkey': 1, 'Blackbushe - Tripoli': 1, 'Santiago de Compostella - Madrid': 1, 'Port Hardy - Vancouver': 1, 'Mokmer - Manila': 1, 'Minneapolis -- Salt Lake - Cedar City - Las Vegas- LA': 1, 'Reykjavík - Montreal': 1, 'Riga - Copenhagen': 1, 'Maiquetia - Barinas': 1, 'Rio de Janerio - Sao Paulo': 1, 'Wien - Munchen': 1, 'Vancouver - Toronto': 1, 'Bogota - Medellin - Quibdo': 1, 'Pittsburgh - Newark': 1, 'Seattle - Portland': 1, 'Anchorage - Seward': 1, 'Belem - Parintins': 1, 'London - Malta': 1, 'Los Angeles - Chicago / Los Angeles - Kansas City': 1, 'Chicago - Montreal': 1, 'McGuire AFB - Harmon AFB': 1, 'Buenos Aires - Rio Cuarto': 1, 'Rangoon - Mandalay': 1, 'Vancouver - Hong Kong': 1, 'Unalakleet and Nome': 1, 'RAF Lakenheath - McGuire AFB': 1, 'Cairo - Dismascus': 1, 'Tripoli - Blackbushe': 1, 'Trondheim - Oslo': 1, 'Tocumen - Guatemala City': 1, 'Buenaventura - Cali': 1, 'Eglisau - Prague': 1, 'Rome - Paris -  Shannon - New York City': 1, 'New York City - Maiquetia': 1, 'Shanghai - Hong Konk': 1, 'Cincinnati, OH - Hickory, NC': 1, 'Shanghai - Taipei': 1, 'Karachi - Lohore': 1, 'Lae - Howland Island': 1, 'Rome, Italy - Kartoum': 1, 'Santiago, Chili - Cristobal, Panama': 1, 'Chicago - Daytona': 1, 'Mendosa - Cordoba': 1, 'Alexandria, Egypt  - Athens, Greece': 1, 'Cheyenne - Salt Lake City': 1, 'Berlin - Mannheim': 1, 'Cologne - Brussels - London': 1, 'Frankfurt - Lakehurst N.J.': 1, 'India - London': 1, 'Milan, Italy - Frankfurt, Germany': 1, 'Seattle - Billings - Chicago': 1, 'Honolulu - Pago Pago - Auckland': 1, 'Sioux Lookout - Hudson': 1, 'Moscow - Murmansk': 1, 'Marseille, France - Ajaccio, Corsica': 1, 'Berlin, Germany - Paris, France': 1, 'San Francisco - Burbank': 1, 'Hanoi, Vietnam - Paris, France': 1, 'Bucharest - Vienna - Prague - Paris': 1, 'Burbank,- St. Paul': 1, 'Newark - Camden - Pittsburg': 1, 'Las Palmas, Canary Islands - Bathhurst, Gambia': 1, 'Marseille - Tunis': 1, 'Chicago, IL - Oklahoma City, OK': 1, 'Natal, Brazil - Bathhurst, Gambia': 1, 'Mexico - Guatemala': 1, 'Newwark, N.J. - Buffalo, NY': 1, 'Newark - Los Angeles': 1, 'Miami - Rio de Janeiro': 1, 'Turin - Milan': 1, 'Malmo - Amsterdam': 1, 'Southhampton, England - Alexandria, Egypt': 1, 'Bergen - Trondheim': 1, 'New Orleans - Chicago': 1, 'El Paso, TX - Pueblo, CO': 1, 'Frankfurt - Erfurt': 1, 'Croydon - Amsterdam': 1, 'Burbank - Las Vegas - Salt Lake City': 1, 'Miami, FL - Charleston, SC - Newark, NJ': 1, 'Oakland - San Francisco - Los Angeles': 1, 'Salt Lake City - Burbank': 1, 'Belgian Congo - Brussels': 1, 'Guernsey - Jersey': 1, 'Cochabamba - La Paz': 1, 'Newark - Cleveland - Chicago': 1, 'Kisumu - Alexandria': 1, 'Jask to Sharjah': 1, 'Perth, Scotland - London, England': 1, 'Tallinn, Estonia - Helsinki, Finland': 1, 'Melbourne - Canberra': 1, 'Washington D.C. - Detroit': 1, 'Chungking - Kunming': 1, 'Oakland - Salt Lake City': 1, 'Kansas City, MO - New York': 1, 'New York City -  Washington D.C. - Atlanta - Brownsville': 1, 'Rome - Rio de Janerio': 1, 'Bucharest , Romania- Sofia, Bulgaria': 1, 'Miami - Buenos Aires': 1, 'Minneapolis - Fargo': 1, 'New York - Buffalo - Chicago - Detroit': 1, 'Las Vegas - Los Angeles': 1, 'Brisbane - Bachelor Field': 1, 'Battle Creek - Florence, SC': 1, 'Caomo - San Juan': 1, 'New York - Botwood - Foynes, Ireland': 1, 'Palm Springs - New York City': 1, 'Porto Alegre - Rio de Janera': 1, 'Warsaw, Poland - Bucharest, Romania': 1, 'Egypt - England': 1, 'Stockholm - Amsterdam': 1, 'Alameda - Manila': 1, 'Prague - Paris, France': 1, 'Guanabara - Victoria': 1, 'Hong Kong - Chungking': 1, 'Brussells - Berlin': 1, 'Adelaide - Melbourne': 1, 'Channel Islands - Southhampton': 1, 'Berlin-Amsterdam': 1, 'Winnipeg - Regina - Vancouver': 1, 'Alcante - Morocco': 1, 'Medford - Oakland': 1, 'Zurich - Geneva - Paris': 1, 'Katherine - Adelaide': 1, 'New York City - Bermuda': 1, 'Casablanca, Morocco - Dakar, Senegal': 1, 'Vienna, Austria - Zurich, Switzerland': 1, 'Toulouse, France - Casablanca, Morocco': 1, 'Miami - Rio de Janerio': 1, 'London - Hamburg - Copenhagen': 1, 'Berlin - Hanover - Cologne - London': 1, 'Instructional Flight': 1, 'Salt Lake - Las Vegas - Burbank': 1, 'Newark, NJ - Fort Worth, TX': 1, 'Dallas - Waco': 1, 'Stettin - Norway': 1, 'Prague - Brun -  Pressburg': 1, 'Calgary - Moosejaw': 1, 'Cardington, England - Karachi, Pakistan': 1, 'Berlin - Vienna': 1, 'Casablanca - Bahat - Toulouse': 1, 'Paris, France - London, England': 1, 'Burbank, CA - Oakland, CA': 1, 'Shanghai - Hankow': 1, 'Albany, NY - Jersey City, NJ': 1, 'Portland - Pasco': 1, 'Kansas City - Wichita -  Los Angeles': 1, 'San Diego - Los Angeles': 1, 'Saigon - Karachi': 1, 'Cologne - Saarbrucken': 1, 'Chicago - Detroit': 1, 'Constantinople - Budapest': 1, 'Oakland, CA - Seattle, WA': 1, 'Newark, NJ  - Camden, NJ - Washington DC': 1, 'Nanking - Peiking': 1, 'Winnigeg - Moosejaw': 1, 'Portland,  WA - Pasco, WA': 1, 'Newark, NJ - Hartford, CT': 1, 'Aqua Caliente, Mexico - Los Angeles': 1, 'Varsovie - Strasbourg - Paris': 1, 'Toulon - Algiers': 1, 'Lympne, England - Rotterdam, The Netherlands': 1, 'Lakehurst, NJ - S.t Louis, MO': 1, 'Paris - Prague': 1, 'New York - Paris': 1, 'Croydon - Schiphol': 1, 'Berlin - Munich': 1, 'Minola - Albany - Buffalo': 1, 'Wichita - Kansas City, KS': 1, 'Testing': 1, 'San Antonio - Amarillo - Tulsa - Denver': 1, 'Los Angeles - Phoenix - El Paso': 1, 'San Diego - Phoenix': 1, 'St. Paul - Minneapolis': 1, 'Albuquerque - Los Angeles': 1, 'London, England - India': 1, 'Tijuana - Nogales': 1, 'Bremerton': 1, 'Amsterdam - Croyden': 1, 'Victoria - Seattle': 1, 'Mirabella - Alexandria': 1, 'Kansas City - Chicago': 1, 'Rockford - Chicago, IL - Madison, WI': 1, 'Omaha - St. Joseph': 1, 'Launceston - Melbourne': 1, 'Omaha, NB - Kansas City, MO': 1, 'Kansas City, MO - Chicago, IL': 1, 'Santiago - Havana': 1, 'Amsterdam - Batavia, Java': 1, 'Louisville, KY - Nashville, TN': 1, 'Newark, NJ - Columbus, OH': 1, 'Koenigberg - Berlin': 1, 'San Bernardion - Los Angeles': 1, 'Jerusalem - Cairo': 1, 'Los Angeles - Albuquerque - Kanasas City -  Washington': 1, 'Chicago - St. Louis': 1, 'Amsterdam - Sweden': 1, 'New Orleans, LA - Mobile, AL': 1, 'Milan, Italy - Amsterdam': 1, 'Dallas -  Atlanta': 1, 'Helena - Denver': 1, 'Burbank, CA - Salt Lake City, UT': 1, 'Bahia - Aracaju': 1, 'Praha, Czechoslovakia - Amsterdam, Netherlands': 1, 'Port Colombus, OH - Louisville, KY': 1, 'Mexico - Burbank': 1, 'Croydon, England - Paris, France': 1, 'San Francisco - Bakersfield - Los Angeles, CA': 1, 'Miami - Bimini': 1, 'Chicago - Kalamazoo': 1, 'Phoenix, AZ - Los Angeles, CA': 1, 'Columbus - McKeesport': 1, 'San Diego - Burbank - Oakland': 1, 'Santiago, Chile - Mendosa, Argentina': 1, 'El Paso - Dallas': 1, 'Nuremberg - Frankfort': 1, 'New York - Chicago': 1, 'Little Rock, AR - Memphis, TN': 1, 'Mendoza, Argentina - Santiago, Chili': 1, 'Burbank - San Francisco': 1, 'Cologne, Germany - Croydon, England': 1, 'Paris - Morroco': 1, 'Seattle, WA - Dallas, TX': 1, 'Berlin - Hamburg': 1, 'St. Louis, MO - Chicago, IL': 1, 'Quiddo - Cartago': 1, 'Dieppe, France - New Haven, England': 1, 'Big Springs - San Antonio': 1, 'Accra, Ghana - Natal, Brazil': 1, 'Hawaii - San Francisco': 1, 'Santiago, Chili - Arequipa, Peru - Lima, Peru': 1, 'Singapore - Siagon': 1, 'Lyons - Nice - Paris': 1, 'Medellin, Colombia - San Jose, Costa Rica': 1, 'Lisbon - Dakar': 1, 'Lethbridge - Vancouver': 1, 'Reykjavík - Akureyri': 1, 'Newark - Baltimore - Miami': 1, 'Marseille - Lyon': 1, 'Buenos Aires - Natal': 1, 'Sichang - Chungking': 1, 'Pittsburgh - Washington D.C.': 1, 'Newark - Miami': 1, 'Paris - Vichy': 1, 'Cairo - Basrah': 1, 'Tihua - Lanzhou': 1, 'Kodiak - Dutch Harbor': 1, 'New York - Buffalo': 1, 'Amsterdam - Malmo': 1, 'Constanta - Bucharest': 1, 'Karachi - Bahrain': 1, 'Karachi - Istanbul': 1, 'Tromso - Oslo': 1, 'Omaha, NE - Denver, CO': 1, 'New York, NY - Raleigh, NC': 1, 'Meshed - Teheran': 1, 'Miramar NAS, California - Sand Point NB, Seattle': 1, 'Grace Park AF - Lucena': 1, 'Kingston, Jamaca - San Jose': 1, 'London - Buenos Aires.': 1, 'Holtville - San Diego': 1, 'Buffalo - Chicago': 1, 'Flint, MI - Washville, IL': 1, 'Paris - Shannon': 1, 'Havana - Lisbon - Madrid': 1, 'Miami - Raleigh - Washington': 1, 'Shanghai - Manila': 1, 'London - Bordeaux': 1, 'Akron, OH - Winston/Salem, NC': 1, 'Puebla - Oaxaca': 1, 'Canton - Chungking - Hong Kong': 1, 'Guangzhou - Chongqing': 1, 'Kobenhavn - Stockholm': 1, 'Shanghai - Hankow - Chungking': 1, 'Paris - Bordeaux - Lisbon': 1, 'Shanghai - Tsingtao': 1, 'Guam - Iwo Jima': 1, 'New York City - Dallas - Los Angeles': 1, 'Marseille - Oran': 1, 'Leopoldville - Libenga': 1, 'Durban - Johannesburg - London': 1, 'Newark, NJ - Chicago, IL': 1, 'Milano - Brussels': 1, 'Saigon - Da Lat': 1, 'Macau - Hong Kong': 1, 'Port Meunier - Gaspé': 1, 'Rosario - Bueno Aires': 1, 'Fort de France - Port Etienne': 1, 'Bogota - Ibague': 1, 'La Guaira - Las Piedras': 1, 'Chicago - Minneapolis': 1, 'Manono - Elizabethville': 1, 'Fornebu - Hommelvik': 1, 'Amsterdam - Prestwick - New York City': 1, 'Palmerston - Hamilton': 1, 'Edmonton - Anchorage, AK': 1, 'RAF Scrampton - Burtonwood AFB': 1, 'Yakutat - Annette': 1, 'Melbourne - Denilquin': 1, 'Popayan - Ipiales': 1, 'Charlotte, NC - Gainsville, GA': 1, 'Belgium - Shannon': 1, 'Anchorage - New York City': 1, 'Seattle - Juneau': 1, 'Istanbul-Athens-Rome-Geneve-Copenhagen-Stockholm': 1, 'San Francisco - Chicago - New York': 1, 'Catania - Rome': 1, 'Bucurest - Prague': 1, 'Anchorage - Yakutat': 1, 'Goose Bay - Westover Field, MS': 1, 'Karachi - Bombay': 1, 'Dorango - Leon - Mexico City': 1, 'Delhi - London': 1, 'Brussels - Paris': 1, 'Charlston - Savannah': 1, 'Algiers - Biskra': 1, 'Atlanta - Washington D.C.': 1, 'London - Havana': 1, 'Giessen - Bad Homberg': 1, 'Florence - Rome': 1, 'Pittsburgh, PA - Columbus, OH': 1, 'Rio de Janerio, Brazil - Cayenne, French Guianan': 1, 'Brussels - London': 1, 'Renfrew - Northolt': 1, 'Mexico City - Veracruz': 1, 'Palmdale - Burbank': 1, 'Chicago - Cleveland': 1, 'Stuttgart - Barcelona': 1, 'Dinjan - Suifu': 1, 'Liverpool - New York': 1, 'San Francisco - Burbank - New York City': 1, 'Twinwood, England - Villacoublay, France': 1, 'Kunming - Tengchung': 1, 'Miami - Leopoldville': 1, 'New York City - Juarez, Mexico - Burbank': 1, 'Chongqing - Kunming': 1, 'Elmindorf AFB, Anchorage - Ladd Field, Fairbanks': 1, 'Kunming - Sichang': 1, 'Midland, TX - Nashville, TN': 1, 'Ridgewell - Nutts Corner': 1, 'Washington, D.C. - New York, Ny': 1, 'England - Brussels': 1, 'Accra, Ghana - Monrovia, Liberia': 1, 'Montreal, Canada - England': 1, 'Boston - NY - Washington DC - Jacksonville - Miami': 1, 'Port of Spain - Fort de France': 1, 'Miami - New York City': 1, 'Pittsburgh - Morgantown': 1, 'Milne Bay - Dobodura': 1, 'Merauke -- Cairns': 1, 'Bruning, NB - Pierre, SD': 1, 'New York City - Lisbon': 1, 'Kunming - Assam': 1, 'Kunming - Dinjan': 1, 'Lisbon - London': 1, 'Pope Field - Maxton': 1, 'Lisbon - Foynes - Poole': 1, 'Cleveland - Memphis': 1, 'Bombing run': 1, 'Townsville - Brisbane': 1, 'Antilla - Miami': 1, 'Nashville - Memphis': 1, 'Little Rock - Memphis': 1, 'Port Moreaby - Nadzab': 1, 'Nome - Fairbanks': 1, 'Montreal, Canada - European air base': 1, 'Calcutta - Dinjan': 1, 'Dijan - Kunming': 1, 'Kunming - Chungking,': 1, 'England - Long Island, N.Y.': 1, 'Bristol - Preswick': 1, 'Wendover Field - Pocatello AAB': 1, 'England - Prague': 1, 'London - Cairo': 1, 'Belgium - India': 1, 'Training flight': 1, 'Topeka - Denver': 1, 'Northolt - Oslo': 1, 'AtlantiCity - Newark': 1, 'Teterboro - Chicago - San Francisco': 1, 'Copenhagen - Paris': 1, 'Paris - Croydon': 1, 'Bathrust, - Argentina': 1, 'Brussels - Croydon': 1, 'Kano - Ikeja': 1, 'Bogota - Barrancabermeja': 1, 'St. Mawan, England - Almaza, Egypt': 1, 'Hong Kong - Singapore': 1, 'Belo Horizonte  - Rio de Janerio': 1, 'Gander - Shannon': 1, 'San Francisco - Cheyenne - Chicago': 1, 'Paris - Casablanca': 1, 'Oakland - Chicago': 1, 'Paris - Cairo': 1, 'Paris - Toulouse - Casablanca': 1, 'Brussels - Shannon - Gander - New York City': 1, 'Oslo - Stockholm': 1, 'Richmond - Atlanta': 1, 'Shensi - Yenan': 1, 'Hankou - Peking': 1, 'Ambon, Indonesia - Darwin, Australia': 1, 'Shanghai - Canton': 1, 'Chabua - Karachi': 1, 'Athens - Naples': 1, 'France - Athens': 1, 'Chabau, India - Karachi, Pakistan': 1, 'India - Cambridge, England': 1, 'Newark, N.J. - Seattle, WA': 1, 'Philadelphia - New York City': 1, 'New York City - Birmingham, AL': 1, 'New York - Boston': 1, 'Comox, BC - Greenwood,NS': 1, 'Boise - Denver': 1, 'Iloilo - Cebu': 1, 'Dallas - Tucon - San Diego': 1, 'Paris - Prauge': 1, 'Hobart - Melbourne': 1, 'Shanghai - Nanking': 1, 'Stockton, CA - Ogden, UT': 1, 'Karachi - Australia': 1, 'Milan - Brussels': 1, 'Cairo - Bunia': 1, 'Ankara - Istanbul -  London': 1, 'Niamey - Khartoum': 1, 'Chicago, IL - Peoria, IL': 1, 'Jamaica, NY - Allentown, PA': 1, 'San Giusto - Sardinia': 1, 'Jakarta - Padang': 1, 'Da Nang - Camp Eagle': 1, 'Miami, FL - Raleigh, NC': 1, 'Sofia IAP - Algiers': 1, 'Chetumel - Merida': 1, 'Valencia - Ibiza': 1, 'Detroit, MI - Hot Springs, VA': 1, 'Omaha, NE - Hot Springs, SD': 1, 'Bogota - San Andres': 1, 'Medellin - Buenaventura': 1, 'Stockholm - Belgrade': 1, 'Ban Xon - Pha Khao': 1, 'Gallup, NM - Battle Mountain, NV': 1, 'Bogota - Valledupar': 1, 'Savannakhet - Vientiane': 1, 'Chicago, IL - Detroit, MI': 1, 'Hailey, ID - Boise, ID': 1, 'Damascus - Ankara': 1, 'Las Vegas - Grand Canyon': 1, 'London - Salzburg': 1, 'Cruzerio do Sul - Rio Branco': 1, 'Oslo, Norway - East Berlin, German': 1, 'Los Angeles - Salt Lake City': 1, 'Washington D.C. - Newport News, VA - Philadelphia': 1, 'Hickam AFB - Pango Pango': 1, 'Santa Cruz - Arica': 1, 'Shelter Cove, CA - San Jose, CA': 1, 'Sapporo - Hakodate': 1, 'Fairbanks, AK - Local': 1, 'San Francisco - Honolulu - Guam - Manila - Siagon': 1, 'Novosibirsk - Irkutsk': 1, 'Sapporo - Tokyo': 1, 'San Francisco - Los Angeles': 1, 'Exercises': 1, 'Odessa - Irkutsk - Vladivostok': 1, 'Valdez, AK - Local': 1, 'Ludwigsburg - Grafenwohr': 1, 'Boston, MA - Rockville, ME diverted to  Augusta ME': 1, 'Trivandrum - Madurai': 1, 'Hamburg, Germany - Malaga, Spain': 1, 'Temple, TX - Columbus, GA': 1, 'Budapest - Kiev': 1, 'Honolulu, HI - Lanai, HI': 1, 'Atlanta, GA - Martinsville, VA': 1, 'New York City - Albany, NY': 1, 'Cairo - Aden': 1, 'Axum - Gondar': 1, 'Panchkhal - Tribuvan': 1, 'Adler - Moscow': 1, 'Bimini, Bahamas - Nassau, Bahamas': 1, 'Leningrad - Moscow': 1, 'Mendoza - Santiago': 1, 'Anchorage, AK - Juneau, AK': 1, 'Kerkira - Athens': 1, 'Lyon - Clermont': 1, 'Lae - Port Moresby': 1, 'Napoli - Bari': 1, 'Hopkinsville, KY - Lexington, KY': 1, 'Moscow - Tokyo': 1, 'Minneapolis, MN - St. Paul, MN': 1, 'Tenerife - Munchen': 1, 'Gilgit - Rawalpindi': 1, 'Spokan, WA - Walla Walla, WA': 1, 'Washington - Chicago': 1, 'Detroit, MI - Lexington, KY': 1, 'Tampa - Chicago / Chicago - Madison': 1, 'Burgas - Sofia': 1, 'Canaima - C iudad': 1, 'Sandoway - Rangoon': 1, 'Berlin - Birgas': 1, 'Rome - Foggia': 1, 'Addis Ababa - Rome': 1, 'Long Tieng, Laos - Moung Cha, Laos': 1, 'Ciudad - La Centella': 1, 'Bien Hoa - Vung Tau': 1, 'Albuquerque, NM - Sante Fe, NM': 1, 'Luanda - Lobito - Sa Da Bandeira': 1, 'Dulac, LA - Gulf oil platform': 1, 'Fairbanks, AK - Valdez, AK': 1, 'Arkansas City, KS - White Plains, NY': 1, 'Rota - Souda Bay': 1, 'Siagon - Hue-Phu Bai - Pleiku': 1, 'Bangkok - Delhi': 1, 'Harlingen, TX - Austin, TX': 1, 'London - Brussels': 1, 'Almond Dam, NY - Salamanica, NY': 1, 'Chicago, IL - Appleton, WI - Sheboygan, WI': 1, 'Sacramento - San Francisco': 1, 'Las Palmas - Hamberg, Germany': 1, 'Bardufoss - Bodoe': 1, 'Gwalior - Delhi': 1, 'Colombo - Dubai': 1, 'London - Rijeka': 1, 'Sagwon, AK - Local': 1, 'Guatemala City - Tikal': 1, 'Winisk - Timmins': 1, 'Sitka, AK - Pt. Alexander, AK': 1, 'Albany - Glenn Falls': 1, 'Kano - Lagos': 1, 'Chania - Athens': 1, 'Houlton, ME - Portland, ME': 1, 'Nulato, AK - Tanana, AK': 1, 'Stockholm - Zurich': 1, 'Apia, Western Samoa - Pago Pago, American Samoa': 1, 'Rawling, WY - Denver, CO': 1, 'Trujillo - Juanjui': 1, 'Kathmandu - Delhi': 1, 'Corrientes - Rosario': 1, 'Bucharest - Oradea': 1, 'Groton, CT - New York, NY': 1, 'Santo Domingo - San Juan': 1, 'Sherbrooke, Canada - Newark, NJ': 1, 'Zurich - Tel Aviv': 1, 'Munchen - St. Moritz': 1, 'Reclife - Belem': 1, 'Maiquetia - Calabozo': 1, 'Santa Cruz - La Paz': 1, 'Chicago - Mexico City': 1, 'Pleiku - Da Nang': 1, 'Service mission': 1, 'Medford, NJ - Allentown, PA': 1, 'Rome - Reggio di Calabria': 1, 'Mexico City - Monterey': 1, 'Shemya, AK - Eielson, AK': 1, 'Pasco - Spokane': 1, 'Atlanta, GA - Sumpter, SC - Greer, SC': 1, 'Katmandu - Simra': 1, 'Sagwon,AK - Elusive Lake, AK': 1, 'New York - Newark': 1, 'McGrath, AK - Sparrevohn, AK': 1, 'Kalaupapa - Lihue': 1, 'Paris - Hassi Messaoud': 1, 'Long Tieng, Laos - Sam Thong, Laos': 1, 'Caracas - Pointe a Pitre, Guadeloupe': 1, 'Chicago - Des Moines.': 1, 'Bogota - Villavicencio': 1, 'Indianapolis - Bakalar AFB': 1, 'Mactan - Manilla': 1, 'Camp Grande - Londrina - Sao Palo': 1, 'Vancouver - Campbell River': 1, 'Taiwan - Da Nang': 1, 'Binghamton, NY - Washington DC': 1, 'Grand Canyon - Las Vegas': 1, 'Teterboro, NJ - Cambridge, MD': 1, 'Cam Ranh Bay AB - Siagon': 1, 'Tel Aviv - Constanta': 1, 'New York - St. Thomas': 1, 'Algiers - Menorca': 1, 'Leningrad - Erevan': 1, 'Algers - Boumediene': 1, 'San Francisco, CA - Newark, NJ': 1, 'Paris - Zurich - Sofia': 1, 'Paris - Orange': 1, 'Mazamari - Lima': 1, 'Kangnung - Seoul': 1, 'Merida - Maiquetia': 1, 'Mona Is., PR - Mayaguez, PR': 1, 'La Paz - San Borja': 1, 'Gauhati - Calcutta': 1, 'Los Angeles - Ontairo': 1, 'Manila - Nichols AFB': 1, 'Kayenta, AZ - Tucon, AZ': 1, 'C. Amalie, VI - San Juan, PR': 1, 'Manchester, NH - Boston, MS': 1, 'Tucon, AZ - Phoenix, AZ': 1, 'Saigon - Nha Trang AB': 1, 'Guadeloupe - St. Maarten': 1, 'Anchorage - Yokota AFB': 1, 'Teleboro, NJ  - Wilmington, DE': 1, 'Cuayan - Manila': 1, 'New York City - St. Maarten': 1, 'Detroit - Pellston': 1, 'Chamblee, GA - Fort Myers,FL': 1, 'McGrath AK - Galena, AK': 1, 'Manchester - Barcelona': 1, 'Montreal - Toronto - Los Angeles': 1, 'Reykjavik - Halifax - Sidney': 1, 'San Antonio, TX - Rudioso, NM': 1, 'Tokyo - Okinawa': 1, 'Las Vegas - San Diego': 1, 'Rawalpindi - Lahore': 1, 'Hwa-Lien': 1, 'Jamaica, NY - Washington D.C.': 1, 'Portland, OR - Cranbrook, Canada': 1, 'Pleiku - Hue': 1, 'Wichita - Denver - Logan, Utah': 1, 'Taipei - Ching Chuan Kang': 1, 'Dubois, PA - Roanoak, VA': 1, 'Johannesberg - Orapa Mine, Botswana': 1, 'Dayton, OH - Ft. Dix, NJ': 1, 'Kingston, NC - Huntington, WV': 1, 'Silchar, India - Khulna, Bangladesh': 1, 'Alesund - Oslo': 1, 'Toronto - Edmonton': 1, 'Detroit, MI - Peducah, KY': 1, 'Cucuta - Tame': 1, 'Bogota  - Barranquilla': 1, 'Homer, AK - Local': 1, 'Poway, CA - Pomona, CA': 1, 'Hualien - Taipei': 1, 'Paris - Agadir': 1, 'Veracruz - Managua': 1, 'Denver - Wichita': 1, 'New Orleans - New York City': 1, 'Prague, Czechoslovakia - Damascus, Syria': 1, 'Nome - Gambell': 1, 'Stuttgart - Leipzig': 1, 'Bahar Dar - Debra Marcos': 1, 'Jakarta - Palembang': 1, 'Budapest - Beirut, Lebanon': 1, 'Prince George - Dease Lake': 1, 'Mount Isa - Cairns': 1, 'Las Vegas, NV - So. Lake Tahoe, CA': 1, 'Tomonoco - La Paz': 1, 'Monticello, NY - Portsmoutn, OH': 1, 'Legaspi - Manilla': 1, 'Nakhom Phanom AB - Utapao AB': 1, 'Savoonga, AK - Gambell, AK': 1, 'Surabaya - Jeddah': 1, 'Old Harbor, AK - Kodiac, AK': 1, 'Riverton Heights, WA - Oak Harbor, OR': 1, 'Da Lat - Nha Trang': 1, 'Richland, WA  - Seattle, WA': 1, 'San Vicente del Caguan - Florencia': 1, 'Ontario - Los Angeles': 1, 'Berlin - Budapest': 1, 'Santo Domingo - Port-au-Prince': 1, 'Kenai, AK - Gulkana, AK': 1, 'Lawton, OK - Huntsville, TX': 1, 'Manila - Iligan': 1, 'Fairbanks - Happy Valley Camp': 1, 'Medellin, Colombia - Miami, Florida': 1, 'Moline, IL - Racine IL': 1, 'El Palomar AB - San Carlos de Bariloche': 1, 'Clark AFB - Japan': 1, 'Tan Son AFB - Clark AFB': 1, 'Fresno, CA - Santa Barbara, CA': 1, 'Anaktuvak, AK - Deadhorse, AK': 1, 'Ocana - Cucuta': 1, 'Tivat - Praha': 1, 'Columbus - Washington D.C.': 1, 'Latrobe, PA - State College, PA': 1, 'Ely, NV - Elko, NV': 1, 'Athens - Larisa': 1, 'Terhan, Iran - Madrid, Spain - McGuire AFB, New Jersey': 1, 'Haines, AK - Wrangell, AK': 1, 'Luanda - Moscow': 1, 'Wake Island - Guam - Manila': 1, 'Grand Junction, CO - Somerset, CO': 1, 'Tel-Aviv - Athens - Paris': 1, 'Ulysses, KS - Greensburg, KS': 1, 'Prague - Bratislava': 1, 'New York City - Saint Thomas': 1, 'Billings, MT - Cody, WY': 1, 'Moron - Canary Islands': 1, 'Sunnyside, UT - Salt Lake City, UT': 1, 'Lima - Caracas': 1, 'Thule AB - Sondrestrom AB': 1, 'McGuire AFB - Mildenhall RAF': 1, 'Ho Chi Minh City - Bangkok': 1, 'Caracas - Praira da Vitoria': 1, 'Moosonee - Timmins': 1, 'Donetsk - Sochi /Rostov na Donu - Kerch': 1, 'Tehran, Iran - Seoul, Korea': 1, 'Anaktuvuk, AK - Bettles, AK': 1, 'San Diego, CA - Palm Desert, CA': 1, 'Denver, CO - Aspen, CO': 1, 'Denver, CO - Grandby, CO': 1, 'Beirut - Dubai': 1, 'Moscow - Vnukovo': 1, 'Anchorage, AK - Deadhorse, AK': 1, 'Albuquerque, NM - Gallup, NM': 1, 'Bogota - La Macarene': 1, 'Butte, MT - Kooskia, ID': 1, 'Loja - Guayaquil': 1, 'Guangzhou - Changsha': 1, 'Lafayette, LA - Patterson, LA': 1, 'Santa Maria - Curacao': 1, 'Mildenhall, England - Torrejon AFB': 1, 'Burbank - Ontario': 1, 'St. Thomas, VI - St. Croix, VI': 1, 'Camiri - Itaguasurenda': 1, 'Moscow - Yerevan': 1, 'South Nanek, AK - Dillingham, AK': 1, 'Palm Springs, CA - Santa Ana, CA': 1, 'Florencia - Puerto Asis': 1, 'Juneau - Ketchikan': 1, 'Burlington, WA - Friday Harbor, WA': 1, 'Uaxactun - Flores': 1, 'New York City, NY - Buffalo, NY': 1, 'Nairobi - Johannesburg': 1, 'Soddu - Beica': 1, 'Ketchikan, AK - Metlakatla, AK': 1, 'Tbilisi - Moscow': 1, 'Madrid - La Coruna': 1, 'Port Au Prince - Cap Haitien': 1, 'Villavicencio - El Yopal': 1, 'Athens - Madrid': 1, 'Honolulu - Los Angeles': 1, 'Grand Rapids, MI - Gary, IN': 1, 'Travis AFB - Clark AFB - Yokota AFB, Japan': 1, 'Burlilngton, VT  - Boston, MA': 1, 'Humbolt, TN - Paintsville, KY': 1, 'Natchitoches, La - Dallas, TX': 1, 'Bakersfield, CA - Long Beach, CA': 1, 'Lincoln, NB - Omaha, NB': 1, 'Memphis - El Dorado - Texarkana - Dallas': 1, 'Rio de Janeiro - Belo Horizonte': 1, 'La Verne, California - Willow Rock, Arizona': 1, 'Arauca - Cucuta': 1, 'Miami, FL - San Francisco, CA': 1, 'New York City - Prestwick': 1, 'Skopje - Titograd': 1, 'Honolulu - Lihue': 1, 'Marion, IL - St. Louis': 1, 'Auckland, NZ - Papeete, Tahiti - Honolulu - Los Angeles': 1, 'Jeddah - Lagos': 1, 'Knoxville, TN - Andrews, NC': 1, 'Cairo - Nicosia': 1, 'Moscow - Praha': 1, 'Oil platform - Morgan City, LA': 1, 'David - Changuinola': 1, 'Tripoli - Cairo': 1, 'Mt. Empire, VT - Springfield, VT': 1, 'Warsaw - Goleniow': 1, 'Sofia - Moscow': 1, 'Palma de Mallorca - London': 1, 'Saigon - Ban Me': 1, 'Bristol - Basel': 1, 'Bamiyan - Kabul': 1, 'Concord, NH - Greenville, ME': 1, 'Fairbanks, AK - Prudhoe, Alaska': 1, 'Moscow - Chita': 1, 'Belem - Sao Luis': 1, 'Houston - Puerto Vallarta': 1, 'Amman, Jordan - Beiruit, Lebanon - Yerevan, Armenia': 1, 'Rio - de Janerio - Paris': 1, 'Montreal - Churchill Falls': 1, 'Elmendorf AFB - Adak': 1, 'Norman, OK - Manhattan, KS': 1, 'US - La Paz': 1, 'LaTuque - St. Honore': 1, 'Beirut, Lebanon  - Damascas, Syria': 1, 'Bamako, Mali - Kano, Nigeria': 1, 'Tumaco - Bogota': 1, 'Dietrich, AK - Happy Valley, AK': 1, 'Cumana - Porlamar': 1, 'Howard AFB, Panama - La Paz, Bolivia': 1, 'Tel Aviv - Athens - Rome - New York': 1, 'Charleston, SC - Charlotte, NC - Chicago, IL': 1, 'Da Nang - Saigon': 1, 'Las Vegas, NV - Riverside, CA': 1, 'Fairbanks, AK - Dietrich, AK': 1, 'Fairbanks, AK - Lupine, AK': 1, 'Kassan, AK - Coffman Cove, AK': 1, 'Kingman, AZ - Deming, NM': 1, 'Dallas, TX - Altus, OK': 1, 'Indianapolis, IN - Chicago, Il': 1, 'Willow, AK - Local': 1, 'Fairbanks - Bettles': 1, 'Gallup, NM - Rapid City, SD': 1, 'Juneau, AK - Tenakee, AK': 1, 'Phnom Penh - Siagon': 1, 'San Juan, PR - Managua, Nicaragua': 1, 'Umiat, AK - Local': 1, 'Bucaramanga - Cucuta': 1, 'Paris - Tanger': 1, 'Bologna - Torino': 1, 'Pittsburgh, PA - Johnstown, PA': 1, 'Florencia - Bogota': 1, 'Santa Rose - La Paz': 1, 'Ephrata, WA - Portland, OR': 1, 'Taos, NM - Albuquerque, NM': 1, 'Thief River, MN - Owatonna, MN': 1, 'Auckland - Pago Pago': 1, 'San Francisco, CA - Honolulu, HI - Agana, Guam': 1, 'Baltimore - Atlanta': 1, 'Carson City, NV - San Jose, CA': 1, 'Bishop - Burbank': 1, 'Tehran - Kobenhavn': 1, 'Francistown - Malawi': 1, 'Keahole, HI - Kahului, HI': 1, 'Hong Kong - Bali, Indonesia - Sydney, Austrailia': 1, 'Galveston, TX - Houston, TX': 1, 'Pastaza - Ambato': 1, 'Nice - Nurnberg': 1, 'Alameda, CA - Indianapolis, IN': 1, 'Battambang - Phnom Penh': 1, 'Kinshasa - Luluaburg': 1, 'Detroit, MI - Chicago, IL': 1, 'Cleveland - Detroit - Denver': 1, 'Grahamtown - Queentown': 1, 'Malaga - Tangiers': 1, 'Beirut  - Amman': 1, 'Douala - Lisboa': 1, 'Manizales - Bogota': 1, 'Porlamar - Cumana': 1, 'Paris - Jersey , Channel Islands': 1, 'Peshawar - Chitral': 1, 'Seattle, WA - Ogden, UT': 1, 'Karachi - Dhahran - Cairo - Geneva - London': 1, 'El Toro -  Honolulu - Okinawa': 1, 'San Francisco - Hawaii': 1, 'Los Angeles - Kansas City, MO': 1, 'Rawalpindi - Skardu': 1, 'Cairo - Yamen': 1, 'Vancouver - Whitehorse': 1, 'Madrid - Tenerife': 1, 'Huanuco - Pucallpa': 1, 'Ankara - Adana': 1, 'Khartoum - Rome': 1, 'Krasnoyarsk - Yuzhno': 1, 'Vitoria - Rio de Janeiro': 1, 'Bogota - Araracuara - Villavicencio': 1, 'Khoke Kathiam - Vaong Nong': 1, 'Condoto - Medellin': 1, 'Palma de Mallorca - Port Etienne': 1, 'Travis AFB - Honolulu - Agana, Guam - Clark AFB -Saigon': 1, 'Halifax - Sidney NS': 1, 'Cold Bay, AK - Adak, AK': 1, 'Phoenix - Las Vegas': 1, 'Kalibo - Manila': 1, 'San Francisco - New York': 1, 'Warsaw - Cracow': 1, 'Santiago - Buenos Aires': 1, 'New York City - Richmond VA': 1, 'Osaka - Tokyo': 1, 'Dublin, Ireland - Addis Ababa': 1, 'Old Harbor - Kaguyak': 1, 'Panama City - Miami': 1, 'Mato Grosso - Porto Velho': 1, 'Srinngar - Jammu - Amritsar - Delhi': 1, 'Sydney - Canberra': 1, 'Brussels - Milan': 1, 'Sao Paulo - Trinidad': 1, 'Hong Kong - Tokyo': 1, 'San Juan, PR - Managua': 1, 'Baltimore - Columbia SC': 1, 'Chitose - Tokyo': 1, 'Tokyo - Hong Kong': 1, 'Nicosia - Cairo': 1, 'Lisbon - Ilha do Sal - Recife': 1, 'Monterey - Ardmore': 1, 'Detroit, MI - Kansas City, MO': 1, 'Cherboug - Les Prevosts': 1, 'Montreal - Kuujjuaq': 1, 'Mamburao - San Jose': 1, 'Gander, Newfoundland - Frankfurt, Germany': 1, 'Frankfurt - Bremen': 1, 'Bombay - Beirut  - Geneva - Paris - London -New York': 1, 'Bogata - Crespo': 1, 'Lille - Wroclaw': 1, 'Cebu - Bacolod': 1, 'Coca - Pastaza': 1, 'Fort de France - Saint Johns, Antigua': 1, 'Manila - Tacloban': 1, 'Edinburgh - London': 1, 'Djibouti - Obock': 1, 'Neiva - San Vicente del Caguan': 1, 'New York City - Cincinnati': 1, 'Denver - Salt Lake City': 1, 'Palm Springs - Burbank': 1, 'Salt Lake - Albuquerque': 1, 'Boston - Newark': 1, 'Tenerife - Manchester, England': 1, 'Ankara - Nicosia': 1, 'Pleiku - Tuy Hoa': 1, 'Manila - Legazpi': 1, 'Batesville - Nashville': 1, 'New York City - Richmond - Jacksonville': 1, 'Philidelphia - Washington - Knoxville - Huntsville': 1, 'Martinsville, Virginia - Wilmington, Delaware': 1, 'Cotabato - Davao': 1, 'Kansas City - Dyersburg - Nashville': 1, 'Tehran - Beirut': 1, 'Arica - La Paz': 1, 'Geneva - Nice': 1, 'Honolulu - Nadi, Fiji': 1, 'Hong Kong - Bangkok': 1, 'Katmandu - New Deli': 1, 'Pescara - Rome': 1, 'Douala - Lagos': 1, 'Cairo - Alexandria': 1, 'McChord AFB - Elmendorf AFB': 1, 'Amritsar - Srinagar': 1, 'Rangoon - Putao': 1, 'Munchen - Constanta': 1, 'Carazinbo - Passo Fundo': 1, 'Copenhagen - Oslo': 1, 'Miami - Chicago': 1, 'Nicosia - Ankara': 1, 'Midland, TX - Kansas City, MO': 1, 'Ellsworth AFB - Fairchild AFB': 1, 'Bratislava - Brno': 1, 'Washington D.C. - Providence, RI': 1, 'Newark - Washington D.C.': 1, 'Frankfurt - Paris': 1, 'Khabarovk - Petropavlovsk': 1, 'Porto Alegre - Lima': 1, 'Charlotte - New York City': 1, 'Berranca Bermeja - Bucaramanga': 1, 'Bucaramanga - Barrancabermeja': 1, 'Belem - Manaus': 1, 'Chicago - Burbank': 1, 'Berlin - Warsaw': 1, 'Rio de Janeiro - Brasilia': 1, 'Southend, England - Rotterdam, The Netherlands': 1, 'Bastia - Ajaccio': 1, 'Rio de Janeiro - Lisbon': 1, 'Rochester - Newark': 1, 'Riberalta - Cochabamba': 1, 'Auckland - Whenuapai - Tauranga': 1, 'Lvov - Sochi': 1, 'Mexico City - New Orleans - New York City': 1, 'Kagoshima - Oita': 1, 'Rio de Janerio - Vitoria': 1, 'Jersey, Channel Islands - Portsmouth, England': 1, 'Barcelona - Valencia - Seville': 1, 'San Jose, CA - Lake Tahoe': 1, 'Pereira - Bogota': 1, 'Cotabato - Malabang - Iligan - Cayagan de Oro': 1, 'Bahia Solano - Quibdo': 1, 'Billings - Miles City - Glendive - Sidney': 1, 'Rome - Napoli': 1, 'Stockton - San Fransisco': 1, 'Siocon - Zamboanga': 1, 'Washington D.C. - Southhampton, MA': 1, 'Taichung - Tainan': 1, 'Palma de Mallorca - Ibiza': 1, 'New York - Winsor Locks - Boston': 1, 'Detroit - Akron': 1, 'Sondre Stromfjord - Godthab': 1, 'Cairo, Egypt  - Beirut, Lebanon': 1, 'Lille - Lyon': 1, 'Tallinn - Moscow': 1, 'Zurich - Geneva': 1, 'Madras - Nagpur - Delhi.': 1, 'Marseilles, France - Dhah, Saudi Arabia': 1, 'Paris - Pointe-a Pitre - Santaigo': 1, 'Idlewild - Newark': 1, 'Turku - Mariehamn': 1, 'Montreal - Toronto': 1, 'Lowery AFB - Ogden Hill AFB': 1, 'Washington - Baltimore - Philadelphia': 1, 'Kawait - Kabul': 1, 'Cairo - Luxor': 1, 'Rosario - Buenos Aires': 1, 'Chicago - Kansas City, MO': 1, 'Gainsville - Jacksonville': 1, 'Freeport, Grand Bahamas - West Palm Beach, FL': 1, 'Kabul  - Amritsar, India': 1, 'Kansas City, MO - Omaha': 1, 'Beirut - Frankfurt': 1, 'Brasov - Mamia': 1, 'Peoria, IL - St. Louis, MO': 1, 'London - Zurich': 1, 'Aguascalientes - Mexico City': 1, 'Windhoek - Luanda': 1, 'Boston - Philadelphia': 1, 'Geneva - Rome': 1, 'Tapachula - Mexico City': 1, 'Cork - London': 1, 'Houston - Dallas-Fort Worth': 1, 'Anaheim - LAX': 1, 'Bangkok - Karachi': 1, 'Kaunas - Ryazan / Moscow - Gomel': 1, 'Deauville, France - London, England': 1, 'Ft. Lauderdale - Bahama Island': 1, 'Brussels - Lagos': 1, 'Atsugi, Japan - Subi Point, Philippines': 1, 'Libya - England': 1, 'Rome - Genoa': 1, 'Rapid City, South Dakota - Ogden, UT': 1, 'Saint Denis - Paris': 1, 'Chandigarh, Punjab - Leh, Kashmir': 1, 'New York - Mexico City': 1, 'Kokkola - Vaasa': 1, 'Hong Kong - Taipei': 1, 'Cebu - Davao': 1, 'Vientiane - Sayaboury': 1, 'Adana - Ankara': 1, 'Munich - Northolt AB, England': 1, 'Caracas - Pointe a Pitre': 1, 'Chicago - New York City / Columbus - New York City': 1, 'Fort Lamy, Chad - Marseilles, France': 1, 'Temuco - Santiago': 1, 'Hue - Khe Sanh': 1, 'Manila - Lapu Lapu': 1, 'Cuiaba - Manaus': 1, 'Toledo - Kansas City, MO': 1, 'Spokane - Missoula': 1, 'Cincinnati - Charlston, WV': 1, 'Guam - Wake Island': 1, 'Heraklion, Greece - Cairo, Egypt': 1, 'Cairo - Moscow': 1, 'Perth - Port Hedland': 1, 'Cordova - Anchorage': 1, 'Reynosa - Tampico': 1, 'Kaohsiung - Hualien': 1, 'Frankfurt - London': 1, 'Rockhampton - MacKay': 1, 'Washington - Harrisburgh - Bradford - Erie - Detroit': 1, 'Copenhagen - Los Angeles - Seattle': 1, 'Los Angeles - Denver - Milwaukee': 1, 'Port Angeles - Seattle': 1, 'Hawthorne, NV - Burbank - Long Beach': 1, 'Kaohsiung - Taipei': 1, 'Saint Thomas - San Juan': 1, 'Asuncion - Buenos Aires': 1, 'Maracaibo - Miami': 1, 'Jeddah - Aswan': 1, 'Memphis - New Orleans': 1, 'Fairbanks - Bethel - Minchumina': 1, 'Honolulu - Vancouver': 1, 'Minneapolis - Chicago - Milwaukee': 1, 'Tijuana - Black Warrior Lagoon, Baja': 1, 'Halifax, NS - Santa Maria, Portugal': 1, 'Cairo - Damascus': 1, 'Ajaccio - Nice': 1, 'Lagos - Port Harcourt': 1, 'Frankfort - Rimini': 1, 'Bulchi - Jimma': 1, 'Praha - Kosice': 1, 'Saigon - Da Nang': 1, 'Boston, MA - Montpelier, VT - Lebanon, NH': 1, 'Tokyo - San Francisco': 1, 'Okinawa - Manila': 1, 'Los Angeles - Santa Ana': 1, 'Anchorage - Iliamna': 1, 'Detroit - Erie - Bradford - Washington D.C.': 1, 'Fairbanks - Prudhoe Bay': 1, 'Doha - Sharjah': 1, 'San Francisco - Anchorage - Cam Ranh Bay, Vietnam': 1, 'Belo Horizonte - Rio de Janeiro': 1, 'Cairo - Beirut': 1, 'Krasnoyarsk - Petropavlovsk': 1, 'Riga - Liepaja': 1, 'Colombus - Toledo': 1, 'Pittsburgh - Dayton': 1, 'Siagon - Cam Ranh Bay AB': 1, 'Addis Ababa - Asmara': 1, 'Chicago - Las Vegas': 1, 'Venezia - Belluno': 1, 'London - Sola': 1, 'Rome - Monrovia': 1, 'Seattle - Shemya AFB': 1, 'Port Elizabeth - East London': 1, 'Zurich - Rabat': 1, 'Buckley ANGB - Seattle NAS': 1, 'Yoido AB - Taegu': 1, 'Algiers - Tamanrasset': 1, 'Omaha - Denver': 1, 'Salta - Cordoba - Buenos Aires': 1, 'Buenos Aires - Comodoro': 1, 'Manila - Mactan': 1, 'San Pedro Sula - Tegucigalpa': 1, 'Jakarta - Menado via Surabaya': 1, 'Rio Gallegos -  Buenos Aires': 1, 'Luton - Ljubljana': 1, 'Chicago - Tampa': 1, 'Leopoldville - Ndola': 1, 'Mount Isa - Longreach': 1, 'Eugene - Portland': 1, 'Osaka - Matsuyama': 1, 'Frankfurt - Berlin': 1, 'Bratislava - Praha': 1, 'Saigon - Korat AB': 1, 'Moscow - Brazzaville': 1, 'Miami - Bogota': 1, 'Paris - Rabat': 1, 'Shannon - Gander': 1, 'Manchester, England - Frankfurt, Germany': 1, 'Sao Paulo - Curitiba': 1, 'Havana - Mexico City': 1, 'Shiraz - TerhanI': 1, 'Rome  - Lisbon -  Madrid - Santa Maria, Azores -Caracas': 1, 'New Orleans AP - New Orleans AP': 1, 'Caranavi - Rurrenabaque': 1, 'Nejran - Jeddah': 1, 'Huanuco - Tingo Maria': 1, 'Seoul - Hong Kong': 1, 'Los Angeles - Cincinnati': 1, 'Bacolod - Mactan': 1, 'Surabaya - Balikpapan': 1, 'Cincinnati - Los Angeles': 1, 'Ashville - Roanoke': 1, 'Hong Kong - Saigon': 1, 'Rio de Janerio - Belem': 1, 'Gander - Havana': 1, 'New York City - Brussels': 1, 'Athens - Nicosia': 1, 'Malaga - London': 1, 'Phan Rang - Pleiku': 1, 'Elmira - Washington DC': 1, 'San Antonio-Maiquetia': 1, 'An Khe - Tan Son Nhut': 1, 'La Paz - Mazatlan': 1, 'Bombay - Cairo': 1, 'Belem - Cachimbo': 1, 'Azores - Argentia,Newfoundland': 1, 'Prague - Zurich': 1, 'Jakarta - Bandung': 1, 'Denver, CO - Scottsbluff, NE': 1, 'Training -Montreal - Ottawa': 1, 'Cleveland, OH - Madison WI': 1, 'Bangkok - Chiang Mai': 1, 'Glasgow - Dublin': 1, 'Palma de Mallorca - Manchester': 1, 'London - Perpignan': 2, 'Lima - Pucallpa': 2, 'Luanda - Cafunfo': 2, 'Tokyo - Nagoya': 2, 'Training exercise': 2, 'London - Belfast': 2, 'Buenos Aires - Lima': 2, 'Athens - Cairo': 2, 'San Borja - La Paz': 2, 'Exercise': 2, 'Grand Canyon, AZ - Las Vegas, NV': 2, 'Paris - New York City': 2, 'La Paz - Tipuani': 2, 'Bangkok - Bombay': 2, 'Juneau, AK - Return': 2, 'Cleveland - Louisville': 2, 'Mexico City - Juarez': 2, 'Chicago - Dallas': 2, 'Las Vegas, NV - Santa Ana, CA': 2, 'Rio de Janerio - Fortaleza': 2, 'Kariba - Salisbury': 2, 'Nantes - Brest': 2, 'Tipuani - La Paz': 2, 'Salt Lake City - Cheyenne': 2, 'Survey': 2, 'Brussels, Belgium - Croydon, England': 2, 'Canton - Shanghi': 2, 'Bogota - Quito': 2, 'Mexico City - Merida': 2, 'Los Angeles - San Francisco - Oakland': 2, 'San Juan - Miami': 2, 'Madras - Delhi': 2, 'Helena - Butte': 2, 'Sao Paulo - Bauru': 2, 'Tripoli - Kano': 2, 'Sofia - Varna': 2, 'Bogota - Cali': 2, 'Saint Croix - Saint Thomas': 2, 'London - Amsterdam': 2, 'Cuzco - Lima': 2, 'Taipei - Hong Kong': 2, 'Tokyo - Honolulu': 2, 'Vientiane - Saigon': 2, 'New York City - San Francisco': 2, 'Rome - Beirut': 2, 'Guangzhou - Guilin': 2, 'Barrow - Wainwright': 2, 'Kinshasa - Tshikapa': 2, 'Cairo - Rome': 2, 'Ankara - Van': 2, 'Calcutta - Delhi': 2, 'Tokyo - Osaka': 2, 'New York City - Cleveland': 2, 'Yaounde - Douala': 2, 'Skydiving': 2, 'El Yopal - Mitu': 2, 'Manila - Bacolod': 2, 'Kodiak - Homer': 2, 'Chicago - New York City': 2, 'Taipei - Los Angeles': 2, 'Madrid - Bilbao': 2, 'Merida - Caracas': 2, 'Vancouver - Victoria': 2, 'Medellin - Quibdo': 2, 'Chicago - Miami': 2, 'Jayapura - Wamena': 2, 'Silchar - Gauhati': 2, 'San Juan - Ponce': 2, 'Cleveland - Detroit': 2, 'Boston - Los Angeles': 2, 'Anchorage - Seattle': 2, 'Douala - Yaounde': 2, 'Los Angeles - New York City': 2, 'Jomsom - Pokhara': 2, 'Vientiane - Luang Prabang': 2, 'Agadir - Casablanca': 2, 'Rome - Palermo': 2, 'Managua - Bluefields': 2, 'Luanda - Lucapa': 2, 'New York City - Chicago': 2, 'Quito - Guayaquil': 2, 'Auckland - Christchurch': 2, 'Kano - Tripoli': 2, 'New York City - Caracas': 2, 'Anchorage, AK - Anchorage, AK': 2, 'Moscow - Irkutsk': 2, 'Honolulu - San Francisco': 2, 'Chicago - Seattle': 2, 'Izmir - Istanbul': 2, 'Malta - London': 2, 'Iloilo - Manila': 2, 'Cagliari - Rome': 2, 'Seattle - Chicago': 2, 'Rome - Milan': 2, 'New York City - Miami': 2, 'Port Harcourt - Lagos': 2, 'Warsaw - Moscow': 2, 'Amsterdam - Paris': 2, 'Cucuta - Arauca': 2, 'Local sightseeing': 2, 'Brisbane - Sidney': 2, 'St. Croix, VI - St. Thomas, VI': 2, 'Chichen Itza - Cozumel': 2, 'Paris - Dakar': 2, 'Bogota - Cartagena': 2, 'Hong Kong - Da Nang': 2, 'Kathmandu - New Delhi': 2, 'Miami - Jacksonville': 2, 'Shannon - New York City': 2, 'Cincinnati - Detroit': 2, 'Guatemala City - Flores': 2, 'New York City - Los Angeles': 2, 'Pucallpa - Lima': 2, 'Bogota - Bucaramanga': 2, 'Local Flight': 2, 'New York, NY - AtlantiCity, NJ': 2, 'Manila - Naga': 2, 'Condoto - Cali': 2, 'Bethel, AK - Chevak, AK': 2, 'Hong Kong - Jakarta': 2, 'Lima - Cuzco': 2, 'Denver - Portland': 2, 'San Francisco - New York City': 2, 'London - Innsbruck': 2, 'Anchorage - Seoul': 2, 'Rome - Athens': 3, 'Santiago de Cuba - Havana': 3, 'Istanbul - Ankara': 3, 'London - Glasgow': 3, 'Cleveland - Chicago': 3, 'Quito - Cuenca': 3, 'Paris - London': 3, 'Hue - Da Nang': 3, 'Khartoum - Juba': 3, 'Positioning': 3, 'Rio de Janeiro - Sao Paulo': 3, 'Guayaquil - Quito': 3, 'Lagos - Abuja': 3, 'Buenos Aires - Santiago': 3, 'Otis AFB': 3, 'Davao - Manila': 3, 'Guayaquil - Cuenca': 3, 'Demonstration': 3, 'Rome - Cairo': 3, 'Barranquilla - Bogota': 3, 'Villavicencio - Bogota': 3, 'Huambo - Luanda': 3, 'Burbank - Oakland': 3, 'Bangkok - Hong Kong': 3, 'Saigon - Paris': 4, 'Sao Paulo - Porto Alegre': 4, 'Bogota - Barranquilla': 4, 'Villavicencio - Mitu': 4, 'Sao Paulo - Rio de Janeiro': 5, 'Test': 6, 'Test flight': 17, 'Sightseeing': 29, 'Training': 81}\n"
          ]
        },
        {
          "output_type": "execute_result",
          "data": {
            "text/plain": [
              "3242"
            ]
          },
          "metadata": {},
          "execution_count": 603
        }
      ]
    },
    {
      "cell_type": "code",
      "source": [
        "new_val_MAX = max(sorted_dict_route, key= lambda x: sorted_dict_route[x])\n",
        "new_val_MAX, sorted_dict_route[new_val_MAX]\n",
        "ii = 0\n",
        "for i in sorted_dict_route:\n",
        "  ii+=1\n",
        "  if ii == 3242:\n",
        "    print(i)\n"
      ],
      "metadata": {
        "colab": {
          "base_uri": "https://localhost:8080/"
        },
        "id": "bDx7AioCTOYT",
        "outputId": "3cd96761-931a-425d-96e1-92be2e2d12f0"
      },
      "execution_count": 604,
      "outputs": [
        {
          "output_type": "stream",
          "name": "stdout",
          "text": [
            "Training\n"
          ]
        }
      ]
    },
    {
      "cell_type": "code",
      "source": [
        "# route_df = dropna_dataframe(airplane_data,[\"Route\",\"Fatalities\"])\n",
        "list_fatalities = []\n",
        "for i in range(dimensions_dataframe(route_df)[0]):\n",
        "  fatality = final_sorted_dict[route_df[\"Route\"][i]]\n",
        "  list_fatalities.append(fatality)\n",
        "\n",
        "route_df[\"Route Encoded\"] = list_fatalities\n",
        "\n",
        "# del_list_dict_route = []\n",
        "# for i in route_df:\n",
        "#   if i not in [\"Route Encoded\"]:\n",
        "#     del_list_dict_route.append(i)\n",
        "\n",
        "# for i in del_list_dict_route:\n",
        "#   del route_df[i]\n",
        "\n",
        "# print_dataframe(route_df)\n",
        "dimensions_dataframe(route_df)"
      ],
      "metadata": {
        "colab": {
          "base_uri": "https://localhost:8080/"
        },
        "id": "kXdK8nVNm-T6",
        "outputId": "1317f102-63c1-4f68-dc96-e9b0fe915923"
      },
      "execution_count": 605,
      "outputs": [
        {
          "output_type": "execute_result",
          "data": {
            "text/plain": [
              "(3560, 14)"
            ]
          },
          "metadata": {},
          "execution_count": 605
        }
      ]
    },
    {
      "cell_type": "code",
      "source": [
        "k_in_kmeans = 5\n",
        "centroids_route, clusters_route, ptocluster_route = kmeans(route_df[\"Route Encoded\"],k_in_kmeans,100)"
      ],
      "metadata": {
        "id": "6WBu-Asmb1FC"
      },
      "execution_count": 606,
      "outputs": []
    },
    {
      "cell_type": "code",
      "source": [
        "for i in range(len(centroids_route)):\n",
        "  print(centroids_route[i])"
      ],
      "metadata": {
        "id": "2oFSl0hfb1Ci",
        "colab": {
          "base_uri": "https://localhost:8080/"
        },
        "outputId": "8ec372b2-6cf5-4945-beb9-b26743dc87d6"
      },
      "execution_count": 607,
      "outputs": [
        {
          "output_type": "stream",
          "name": "stdout",
          "text": [
            "340.0\n",
            "1700.5\n",
            "3066.245215311005\n",
            "2383.0\n",
            "1019.5\n"
          ]
        }
      ]
    },
    {
      "cell_type": "code",
      "source": [
        "\n",
        "### 2D\n",
        "# silhouette_list_route = []\n",
        "# for i in range(len(clusters_route)):\n",
        "#   # print(clusters_locop[i])\n",
        "#   for j in clusters_route[i]:\n",
        "#     list_sil = [j[0],j[1]]\n",
        "#     silhouette_list_route.append(list_sil)\n",
        "\n",
        "# silhouette_list_route = np.array(silhouette_list_route)\n",
        "# silhouette_list_route\n",
        "\n",
        "\n",
        "### 1D\n",
        "max_death = -1\n",
        "max_death_route = None\n",
        "silhouette_list_route = []\n",
        "for i in range(len(clusters_route)):\n",
        "  # print(clusters_locop[i])\n",
        "  for j in clusters_route[i]:\n",
        "    list_sil = [j]\n",
        "    if j>max_death:\n",
        "      max_death = j\n",
        "      max_death_route = route_df[\"Route\"][i]\n",
        "    silhouette_list_route.append(list_sil)\n",
        "\n",
        "max_death = new_val_MAX\n",
        "max_death_route = sorted_dict_route[new_val_MAX]\n",
        "\n",
        "silhouette_list_route = np.array(silhouette_list_route)\n",
        "silhouette_list_route"
      ],
      "metadata": {
        "colab": {
          "base_uri": "https://localhost:8080/"
        },
        "id": "6qkIZzju6iN6",
        "outputId": "245dd4dc-a97c-4224-b9e5-3610e3d28482"
      },
      "execution_count": 608,
      "outputs": [
        {
          "output_type": "execute_result",
          "data": {
            "text/plain": [
              "array([[ 527],\n",
              "       [ 528],\n",
              "       [ 529],\n",
              "       ...,\n",
              "       [1071],\n",
              "       [1072],\n",
              "       [1073]])"
            ]
          },
          "metadata": {},
          "execution_count": 608
        }
      ]
    },
    {
      "cell_type": "code",
      "source": [
        "PTOCLUSTERFINAL_route = []\n",
        "cluter_no = 0\n",
        "for i in clusters_route:\n",
        "  for j in i:\n",
        "    PTOCLUSTERFINAL_route.append(cluter_no)\n",
        "  cluter_no+=1\n",
        "len(PTOCLUSTERFINAL_route)\n"
      ],
      "metadata": {
        "colab": {
          "base_uri": "https://localhost:8080/"
        },
        "id": "wWFmJOxhiZR9",
        "outputId": "049801c7-929a-4d46-816d-6d6c06a66394"
      },
      "execution_count": 609,
      "outputs": [
        {
          "output_type": "execute_result",
          "data": {
            "text/plain": [
              "3560"
            ]
          },
          "metadata": {},
          "execution_count": 609
        }
      ]
    },
    {
      "cell_type": "code",
      "source": [
        "### 2D\n",
        "# colour_list = ['b','c','g','r','m','pink','w','y']\n",
        "# plt.rcParams[\"figure.figsize\"] = [10.00,10.00]\n",
        "# plt.rcParams[\"figure.autolayout\"] = False\n",
        "# plt.xlim(-10,3200)\n",
        "# plt.ylim(0,600)\n",
        "# plt.grid()\n",
        "\n",
        "# for i in range(len(clusters_route)):\n",
        "#   x = None\n",
        "#   y = None\n",
        "#   colour = colour_list[i]\n",
        "#   for j in clusters_route[i]:\n",
        "#     y = j[0]\n",
        "#     x = j[1]\n",
        "#     # colour = colour_list[ptocluster_typecol[i]]\n",
        "#     plt.plot(x, y, marker=\"o\", markersize=5, color=colour)\n",
        "\n",
        "\n",
        "#   # plt.plot(x, y, marker=\"o\", markersize=5, color=colour)\n",
        "\n",
        "# for i in range(len(centroids_route)):\n",
        "#   y = centroids_route[i][0]\n",
        "#   x = centroids_route[i][1]\n",
        "#   plt.plot(x, y, marker=\"x\", markersize=10, color=\"black\")\n",
        "\n",
        "# plt.xlabel(\"Routes\")\n",
        "# plt.ylabel(\"Fatalities\")\n",
        "\n",
        "\n",
        "# plt.show()\n",
        "\n",
        "### 1D\n",
        "colour_list = ['b','c','g','r','m','pink','w','y']\n",
        "plt.rcParams[\"figure.figsize\"] = [10.00,10.00]\n",
        "plt.rcParams[\"figure.autolayout\"] = False\n",
        "plt.xlim(-10,3400)\n",
        "plt.ylim(-1,1)\n",
        "plt.grid()\n",
        "\n",
        "for i in range(len(clusters_route)):\n",
        "  x = None\n",
        "  y = None\n",
        "  colour = colour_list[i]\n",
        "  for j in clusters_route[i]:\n",
        "    y = 0\n",
        "    x = j\n",
        "    # colour = colour_list[ptocluster_typecol[i]]\n",
        "    plt.plot(x, y, marker=\"o\", markersize=5, color=colour)\n",
        "\n",
        "\n",
        "  # plt.plot(x, y, marker=\"o\", markersize=5, color=colour)\n",
        "\n",
        "for i in range(len(centroids_route)):\n",
        "  y = 0\n",
        "  x = centroids_route[i]\n",
        "  plt.plot(x, y, marker=\"x\", markersize=10, color=\"black\")\n",
        "\n",
        "plt.xlabel(\"Most Fatal\")\n",
        "\n",
        "\n",
        "plt.show()"
      ],
      "metadata": {
        "id": "ME3k0yE_dJ6m",
        "colab": {
          "base_uri": "https://localhost:8080/",
          "height": 855
        },
        "outputId": "00e04766-4b8f-4c09-bb0f-0278df09692b"
      },
      "execution_count": 610,
      "outputs": [
        {
          "output_type": "display_data",
          "data": {
            "text/plain": [
              "<Figure size 1000x1000 with 1 Axes>"
            ],
            "image/png": "[encoded data removed]"
          },
          "metadata": {}
        }
      ]
    },
    {
      "cell_type": "code",
      "source": [
        "print(\"Max deaths: \", max_death)\n",
        "print(\"Most dangerous route: \", max_death_route)"
      ],
      "metadata": {
        "id": "70OTb8VjdJw8",
        "colab": {
          "base_uri": "https://localhost:8080/"
        },
        "outputId": "13ad3df3-20bb-44bb-d2f3-3bd0ad285110"
      },
      "execution_count": 611,
      "outputs": [
        {
          "output_type": "stream",
          "name": "stdout",
          "text": [
            "Max deaths:  Training\n",
            "Most dangerous route:  81\n"
          ]
        }
      ]
    },
    {
      "cell_type": "markdown",
      "source": [
        "##### Inference\n",
        "\n",
        "\n",
        "Since the data has been labelly encoded by increasing number of crashes the the most fatal accidents will be in the rightmost cluster. The route with label index 3242, that is, \"Training\" is the most fatal route of all and has seen 81 crashes.\n",
        "\n",
        "\n",
        "\n"
      ],
      "metadata": {
        "id": "lWTEcBrhdJzM"
      }
    },
    {
      "cell_type": "code",
      "source": [],
      "metadata": {
        "id": "p7P1iIXbdJtY"
      },
      "execution_count": null,
      "outputs": []
    },
    {
      "cell_type": "markdown",
      "source": [
        "## Silhouette Score"
      ],
      "metadata": {
        "id": "cHLkcNgHdJbI"
      }
    },
    {
      "cell_type": "code",
      "source": [
        "\n",
        "def euclidean_distance(point1, point2):\n",
        "  \"\"\" Calculate the Euclidean distance between two points \"\"\"\n",
        "\n",
        "  return math.sqrt(np.sum((point1 - point2) ** 2))\n",
        "\n",
        "\n",
        "def silhouette_score(data, labels):\n",
        "  \"\"\" Calculate the silhouette score \"\"\"\n",
        "\n",
        "  num_samples = len(data)  # total number of data points\n",
        "  unique_labels = np.unique(labels)  # finding only the unique cluster labels\n",
        "  silhouette_values = np.zeros(num_samples)  # initialising an array to store silhouette values for each data point\n",
        "\n",
        "\n",
        "\n",
        "  for i in range(num_samples):\n",
        "    cluster_i = labels[i]  # cluster_i holds the cluster label for the current (ith) data point\n",
        "    a_i = 0.0  # a_i will measure the average distance within the same cluster\n",
        "    b_i = math.inf  # b_i will measure the minimum average distance to other clusters\n",
        "\n",
        "\n",
        "    # Calculating a_i\n",
        "    cluster_size_i = np.sum(labels == cluster_i)  # calculating the number of points in cluster i\n",
        "    if cluster_size_i > 1:\n",
        "      for j in range(num_samples): # iterating over all data points\n",
        "        if labels[j] == cluster_i and i != j: # excluding the current point\n",
        "          a_i += euclidean_distance(data[i], data[j]) # calculating the euclidean distance between the ith and jth points\n",
        "\n",
        "      #a_i /= (cluster_size_i - 1)  # Calculating the average, subtracting 1 to avoid division by 0\n",
        "      a_i /= cluster_size_i  # Calculating the average\n",
        "    else:\n",
        "      a_i = -99\n",
        "\n",
        "    # Calculate b_i\n",
        "    for cluster_j in unique_labels: # iterating over all clusters\n",
        "      if cluster_j != cluster_i: # excluding the same cluster\n",
        "        cluster_size_j = np.sum(labels == cluster_j)  # calculating the number of points in cluster j\n",
        "        b_ij = 0.0  # average distance of point i to cluster j\n",
        "        for j in range(num_samples): # iterating over all points\n",
        "          if labels[j] == cluster_j: # checking if the jth point is in cluster j\n",
        "            b_ij += euclidean_distance(data[i], data[j]) # calculating the euclidean distance between the ith and jth points\n",
        "        b_ij /= cluster_size_j  # calculating the average distance\n",
        "        b_i = min(b_i, b_ij)  # updating the minimum average distance for point i\n",
        "\n",
        "    # calculating the silhouette value for the current point\n",
        "    silhouette_values[i] = 1 - (a_i/b_i)\n",
        "    # silhouette_values[i] = (b_i - a_i) / max(a_i, b_i)\n",
        "\n",
        "\n",
        "  # returning the mean silhouette score for all data points\n",
        "  return np.mean(silhouette_values)\n",
        "\n",
        "\n"
      ],
      "metadata": {
        "id": "A4wIqeuKdJZY"
      },
      "execution_count": 483,
      "outputs": []
    },
    {
      "cell_type": "code",
      "source": [
        "# # Example\n",
        "# data = np.array([[1, 2], [2, 3], [3, 4], [8, 9], [9, 10], [10, 11]])\n",
        "# labels = np.array([0, 0, 0, 1, 1, 1])\n",
        "\n",
        "# score = silhouette_score(data, labels)\n",
        "# print(\"Silhouette Score:\", score)\n",
        "# np.unique(np.array(list(ptocluster_locop.values())))"
      ],
      "metadata": {
        "id": "U3f_17Tlppny"
      },
      "execution_count": null,
      "outputs": []
    },
    {
      "cell_type": "code",
      "source": [
        "# print(\"Silhoutte score for Type: \", silhouette_score(silhouette_list_type, np.array(list(ptocluster_typecol.values()))))\n",
        "print(\"Silhoutte score for Type: \", silhouette_score(silhouette_list_type, np.array(PTOCLUSTERFINAL_type)))"
      ],
      "metadata": {
        "colab": {
          "base_uri": "https://localhost:8080/"
        },
        "id": "VjveM4p76bhc",
        "outputId": "69e27f40-04ca-40c4-9ada-3dca3987bfbb"
      },
      "execution_count": 506,
      "outputs": [
        {
          "output_type": "stream",
          "name": "stdout",
          "text": [
            "Silhoutte score for Type:  0.6084272953593072\n"
          ]
        }
      ]
    },
    {
      "cell_type": "code",
      "source": [
        "print(\"Silhoutte score for Location & Operator: \",silhouette_score(silhouette_list_locop, np.array(PTOCLUSTERFINAL_locop)))"
      ],
      "metadata": {
        "id": "lTjX27F_dJUy",
        "colab": {
          "base_uri": "https://localhost:8080/"
        },
        "outputId": "4356b67e-37a1-4395-82de-6dec8aa66d5b"
      },
      "execution_count": 516,
      "outputs": [
        {
          "output_type": "stream",
          "name": "stdout",
          "text": [
            "Silhoutte score for Location & Operator:  0.3702497536708594\n"
          ]
        }
      ]
    },
    {
      "cell_type": "code",
      "source": [
        "print(\"Silhoutte score for Route & Fatalities: \", silhouette_score(silhouette_list_route, np.array(PTOCLUSTERFINAL_route)))"
      ],
      "metadata": {
        "colab": {
          "base_uri": "https://localhost:8080/"
        },
        "id": "WvIqPxkr6bri",
        "outputId": "262bea98-5d0f-42eb-8f52-8c20b5c19bb6"
      },
      "execution_count": 548,
      "outputs": [
        {
          "output_type": "stream",
          "name": "stdout",
          "text": [
            "Silhoutte score for Route & Fatalities:  0.5801560427944256\n"
          ]
        }
      ]
    },
    {
      "cell_type": "markdown",
      "source": [
        "### **Observations**\n",
        "\n",
        "The silhouette score typically ranges between -1 and 1, with values closer to 1 indicating better clusterings.\n",
        "\n",
        "Near 1: The data point is well inside its own cluster and far from other clusters, indicating a good clustering.\n",
        "\n",
        "Near 0: The data point is on or very close to the boundary between two neighboring clusters. This can indicate overlapping clusters.\n",
        "\n",
        "Near -1: The data point may have been assigned to the wrong cluster. This can happen when the data point is closer to a different cluster's centroid than its own.\n",
        "\n",
        "The order of the silhouette scores is as follows:  \n",
        "Location and Operator < Route and Fatalities < Type  \n",
        "\n",
        "Thus `Type` has the best clustering out of all the three.\n",
        "\n",
        "A silhouette score of 0.6084 is relatively high and indicates that data points within `Type Cluster` are well-clustered and are closer to each other than to data points in other clusters.\n",
        "\n",
        "A silhouette score of 0.5802 is also relatively high and again indicates that data points within `Route and Fatalities Cluster` are well-clustered and have good separation from other clusters.\n",
        "\n",
        "\n",
        "A silhouette score of 0.3702 is moderate and suggests that `Location and Operator Cluster` is reasonably well-clustered, but there might be some overlap or proximity between other clusters.\n",
        "\n",
        "\n",
        "\n",
        "\n"
      ],
      "metadata": {
        "id": "-_8uJ308-rFb"
      }
    },
    {
      "cell_type": "code",
      "source": [],
      "metadata": {
        "id": "e_4AUPhq-rAr"
      },
      "execution_count": null,
      "outputs": []
    },
    {
      "cell_type": "code",
      "source": [],
      "metadata": {
        "id": "uatNgsfr-qug"
      },
      "execution_count": null,
      "outputs": []
    },
    {
      "cell_type": "code",
      "source": [],
      "metadata": {
        "id": "kCd5eshX-qp4"
      },
      "execution_count": null,
      "outputs": []
    }
  ]
}